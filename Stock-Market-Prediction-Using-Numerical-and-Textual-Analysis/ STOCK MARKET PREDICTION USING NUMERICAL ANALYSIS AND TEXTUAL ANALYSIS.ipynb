{
 "cells": [
  {
   "cell_type": "markdown",
   "id": "4a5ab0bd",
   "metadata": {},
   "source": [
    "# The Sparks Foundation\n",
    "# Task 7 : Stock Market Prediction Using Numerical Analysis and Textual   Analysis"
   ]
  },
  {
   "cell_type": "markdown",
   "id": "01ada3e8",
   "metadata": {},
   "source": [
    "#### DATA SCIENCE AND BUSINESS ANALYTICS INTERN: FOZAIL AHMED"
   ]
  },
  {
   "cell_type": "markdown",
   "id": "43b0e6c7",
   "metadata": {},
   "source": [
    "#### Objective:\n",
    "Create a hybrid model for stock price/performance prediction using numerical analysis of historical stock price,and sentimental analysis of news headlines\n",
    "\n",
    "#### stock used to analyze and predict : SENSEX(S&P BSE SENSEX) "
   ]
  },
  {
   "cell_type": "markdown",
   "id": "e2d6d75b",
   "metadata": {},
   "source": [
    "#### Dataset:\n",
    "\n",
    "* historical stock price : https://finance.yahoo.com/\n",
    "* News headlines : https://bit.ly/36fFPI6"
   ]
  },
  {
   "cell_type": "markdown",
   "id": "baad88c3",
   "metadata": {},
   "source": [
    "![](StockMarket.jpg)"
   ]
  },
  {
   "cell_type": "markdown",
   "id": "00fb8e6b",
   "metadata": {},
   "source": [
    "##### Step 1: Importing the required Libraries"
   ]
  },
  {
   "cell_type": "code",
   "execution_count": 1,
   "id": "7b1fceaa",
   "metadata": {},
   "outputs": [],
   "source": [
    "#Import general libraries\n",
    "\n",
    "import numpy as np\n",
    "import pandas as pd\n",
    "\n",
    "import matplotlib.pyplot as plt\n",
    "import seaborn as sns\n",
    "\n",
    "from datetime import datetime"
   ]
  },
  {
   "cell_type": "code",
   "execution_count": 2,
   "id": "fd017eca",
   "metadata": {},
   "outputs": [],
   "source": [
    "#Importing libraries required for TEXTUAL ANALYSIS.\n",
    "\n",
    "from textblob import TextBlob\n",
    "from nltk.sentiment.vader import SentimentIntensityAnalyzer"
   ]
  },
  {
   "cell_type": "code",
   "execution_count": 3,
   "id": "15e01bfa",
   "metadata": {},
   "outputs": [],
   "source": [
    "#Importing Libraries required for NUMERICAL ANALYSIS.\n",
    "\n",
    "from statsmodels.tsa.arima_model import ARIMA\n",
    "from statsmodels.tsa.statespace.sarimax import SARIMAX\n",
    "from statsmodels.tsa.stattools import adfuller"
   ]
  },
  {
   "cell_type": "code",
   "execution_count": 4,
   "id": "9bf50ff6",
   "metadata": {},
   "outputs": [],
   "source": [
    "#Importing Libraries required for PREDICTION\n",
    "\n",
    "from sklearn.metrics import mean_squared_error\n",
    "from sklearn.model_selection import train_test_split\n",
    "from sklearn.metrics import accuracy_score"
   ]
  },
  {
   "cell_type": "code",
   "execution_count": 5,
   "id": "2839889a",
   "metadata": {},
   "outputs": [],
   "source": [
    "#Download the dataset from the given links.\n",
    "\n",
    "import pandas_datareader.data as pdr\n",
    "data=pdr.DataReader('^BSESN','yahoo',start='2017-01-01', end='2022-09-13')    # ^BSESN : is the symbol in Yahoo!Finance.\n",
    "                                      # ^BSESN - S&P BSE SENSEX"
   ]
  },
  {
   "cell_type": "code",
   "execution_count": 6,
   "id": "633f2b52",
   "metadata": {},
   "outputs": [],
   "source": [
    "#Filter the warnings.\n",
    "import warnings\n",
    "warnings.filterwarnings(\"ignore\")"
   ]
  },
  {
   "cell_type": "code",
   "execution_count": 7,
   "id": "a46ce340",
   "metadata": {},
   "outputs": [
    {
     "data": {
      "text/html": [
       "<div>\n",
       "<style scoped>\n",
       "    .dataframe tbody tr th:only-of-type {\n",
       "        vertical-align: middle;\n",
       "    }\n",
       "\n",
       "    .dataframe tbody tr th {\n",
       "        vertical-align: top;\n",
       "    }\n",
       "\n",
       "    .dataframe thead th {\n",
       "        text-align: right;\n",
       "    }\n",
       "</style>\n",
       "<table border=\"1\" class=\"dataframe\">\n",
       "  <thead>\n",
       "    <tr style=\"text-align: right;\">\n",
       "      <th></th>\n",
       "      <th>High</th>\n",
       "      <th>Low</th>\n",
       "      <th>Open</th>\n",
       "      <th>Close</th>\n",
       "      <th>Volume</th>\n",
       "      <th>Adj Close</th>\n",
       "    </tr>\n",
       "    <tr>\n",
       "      <th>Date</th>\n",
       "      <th></th>\n",
       "      <th></th>\n",
       "      <th></th>\n",
       "      <th></th>\n",
       "      <th></th>\n",
       "      <th></th>\n",
       "    </tr>\n",
       "  </thead>\n",
       "  <tbody>\n",
       "    <tr>\n",
       "      <th>2017-01-02</th>\n",
       "      <td>26720.980469</td>\n",
       "      <td>26447.060547</td>\n",
       "      <td>26711.150391</td>\n",
       "      <td>26595.449219</td>\n",
       "      <td>8000.0</td>\n",
       "      <td>26595.449219</td>\n",
       "    </tr>\n",
       "    <tr>\n",
       "      <th>2017-01-03</th>\n",
       "      <td>26724.400391</td>\n",
       "      <td>26488.369141</td>\n",
       "      <td>26616.919922</td>\n",
       "      <td>26643.240234</td>\n",
       "      <td>9800.0</td>\n",
       "      <td>26643.240234</td>\n",
       "    </tr>\n",
       "    <tr>\n",
       "      <th>2017-01-04</th>\n",
       "      <td>26723.369141</td>\n",
       "      <td>26606.060547</td>\n",
       "      <td>26677.220703</td>\n",
       "      <td>26633.130859</td>\n",
       "      <td>8100.0</td>\n",
       "      <td>26633.130859</td>\n",
       "    </tr>\n",
       "    <tr>\n",
       "      <th>2017-01-05</th>\n",
       "      <td>26917.210938</td>\n",
       "      <td>26738.419922</td>\n",
       "      <td>26738.419922</td>\n",
       "      <td>26878.240234</td>\n",
       "      <td>9800.0</td>\n",
       "      <td>26878.240234</td>\n",
       "    </tr>\n",
       "    <tr>\n",
       "      <th>2017-01-06</th>\n",
       "      <td>27009.609375</td>\n",
       "      <td>26733.330078</td>\n",
       "      <td>26929.689453</td>\n",
       "      <td>26759.230469</td>\n",
       "      <td>7800.0</td>\n",
       "      <td>26759.230469</td>\n",
       "    </tr>\n",
       "  </tbody>\n",
       "</table>\n",
       "</div>"
      ],
      "text/plain": [
       "                    High           Low          Open         Close  Volume  \\\n",
       "Date                                                                         \n",
       "2017-01-02  26720.980469  26447.060547  26711.150391  26595.449219  8000.0   \n",
       "2017-01-03  26724.400391  26488.369141  26616.919922  26643.240234  9800.0   \n",
       "2017-01-04  26723.369141  26606.060547  26677.220703  26633.130859  8100.0   \n",
       "2017-01-05  26917.210938  26738.419922  26738.419922  26878.240234  9800.0   \n",
       "2017-01-06  27009.609375  26733.330078  26929.689453  26759.230469  7800.0   \n",
       "\n",
       "               Adj Close  \n",
       "Date                      \n",
       "2017-01-02  26595.449219  \n",
       "2017-01-03  26643.240234  \n",
       "2017-01-04  26633.130859  \n",
       "2017-01-05  26878.240234  \n",
       "2017-01-06  26759.230469  "
      ]
     },
     "execution_count": 7,
     "metadata": {},
     "output_type": "execute_result"
    }
   ],
   "source": [
    "data.head()"
   ]
  },
  {
   "cell_type": "code",
   "execution_count": 8,
   "id": "b78630e4",
   "metadata": {},
   "outputs": [
    {
     "data": {
      "text/html": [
       "<div>\n",
       "<style scoped>\n",
       "    .dataframe tbody tr th:only-of-type {\n",
       "        vertical-align: middle;\n",
       "    }\n",
       "\n",
       "    .dataframe tbody tr th {\n",
       "        vertical-align: top;\n",
       "    }\n",
       "\n",
       "    .dataframe thead th {\n",
       "        text-align: right;\n",
       "    }\n",
       "</style>\n",
       "<table border=\"1\" class=\"dataframe\">\n",
       "  <thead>\n",
       "    <tr style=\"text-align: right;\">\n",
       "      <th></th>\n",
       "      <th>High</th>\n",
       "      <th>Low</th>\n",
       "      <th>Open</th>\n",
       "      <th>Close</th>\n",
       "      <th>Volume</th>\n",
       "      <th>Adj Close</th>\n",
       "    </tr>\n",
       "    <tr>\n",
       "      <th>Date</th>\n",
       "      <th></th>\n",
       "      <th></th>\n",
       "      <th></th>\n",
       "      <th></th>\n",
       "      <th></th>\n",
       "      <th></th>\n",
       "    </tr>\n",
       "  </thead>\n",
       "  <tbody>\n",
       "    <tr>\n",
       "      <th>2022-09-07</th>\n",
       "      <td>59166.460938</td>\n",
       "      <td>58722.890625</td>\n",
       "      <td>58789.261719</td>\n",
       "      <td>59028.910156</td>\n",
       "      <td>9000.0</td>\n",
       "      <td>59028.910156</td>\n",
       "    </tr>\n",
       "    <tr>\n",
       "      <th>2022-09-08</th>\n",
       "      <td>59711.960938</td>\n",
       "      <td>59315.710938</td>\n",
       "      <td>59374.988281</td>\n",
       "      <td>59688.218750</td>\n",
       "      <td>12100.0</td>\n",
       "      <td>59688.218750</td>\n",
       "    </tr>\n",
       "    <tr>\n",
       "      <th>2022-09-09</th>\n",
       "      <td>60119.800781</td>\n",
       "      <td>59634.390625</td>\n",
       "      <td>60045.750000</td>\n",
       "      <td>59793.140625</td>\n",
       "      <td>13100.0</td>\n",
       "      <td>59793.140625</td>\n",
       "    </tr>\n",
       "    <tr>\n",
       "      <th>2022-09-12</th>\n",
       "      <td>60284.550781</td>\n",
       "      <td>59912.289062</td>\n",
       "      <td>59912.289062</td>\n",
       "      <td>60115.128906</td>\n",
       "      <td>14300.0</td>\n",
       "      <td>60115.128906</td>\n",
       "    </tr>\n",
       "    <tr>\n",
       "      <th>2022-09-13</th>\n",
       "      <td>60635.281250</td>\n",
       "      <td>60381.019531</td>\n",
       "      <td>60408.289062</td>\n",
       "      <td>60571.078125</td>\n",
       "      <td>8500.0</td>\n",
       "      <td>60571.078125</td>\n",
       "    </tr>\n",
       "  </tbody>\n",
       "</table>\n",
       "</div>"
      ],
      "text/plain": [
       "                    High           Low          Open         Close   Volume  \\\n",
       "Date                                                                          \n",
       "2022-09-07  59166.460938  58722.890625  58789.261719  59028.910156   9000.0   \n",
       "2022-09-08  59711.960938  59315.710938  59374.988281  59688.218750  12100.0   \n",
       "2022-09-09  60119.800781  59634.390625  60045.750000  59793.140625  13100.0   \n",
       "2022-09-12  60284.550781  59912.289062  59912.289062  60115.128906  14300.0   \n",
       "2022-09-13  60635.281250  60381.019531  60408.289062  60571.078125   8500.0   \n",
       "\n",
       "               Adj Close  \n",
       "Date                      \n",
       "2022-09-07  59028.910156  \n",
       "2022-09-08  59688.218750  \n",
       "2022-09-09  59793.140625  \n",
       "2022-09-12  60115.128906  \n",
       "2022-09-13  60571.078125  "
      ]
     },
     "execution_count": 8,
     "metadata": {},
     "output_type": "execute_result"
    }
   ],
   "source": [
    "data.tail()"
   ]
  },
  {
   "cell_type": "code",
   "execution_count": 9,
   "id": "c8c86d17",
   "metadata": {},
   "outputs": [],
   "source": [
    "#Converting this obtained file into CSV.\n",
    "data.to_csv(\"Stock_price.csv\")"
   ]
  },
  {
   "cell_type": "markdown",
   "id": "fe0c7a93",
   "metadata": {},
   "source": [
    "##### Step 2: Import Datasets"
   ]
  },
  {
   "cell_type": "code",
   "execution_count": 10,
   "id": "e0653f6f",
   "metadata": {},
   "outputs": [
    {
     "data": {
      "text/html": [
       "<div>\n",
       "<style scoped>\n",
       "    .dataframe tbody tr th:only-of-type {\n",
       "        vertical-align: middle;\n",
       "    }\n",
       "\n",
       "    .dataframe tbody tr th {\n",
       "        vertical-align: top;\n",
       "    }\n",
       "\n",
       "    .dataframe thead th {\n",
       "        text-align: right;\n",
       "    }\n",
       "</style>\n",
       "<table border=\"1\" class=\"dataframe\">\n",
       "  <thead>\n",
       "    <tr style=\"text-align: right;\">\n",
       "      <th></th>\n",
       "      <th>publish_date</th>\n",
       "      <th>headline_category</th>\n",
       "      <th>headline_text</th>\n",
       "    </tr>\n",
       "  </thead>\n",
       "  <tbody>\n",
       "    <tr>\n",
       "      <th>0</th>\n",
       "      <td>20010102</td>\n",
       "      <td>unknown</td>\n",
       "      <td>Status quo will not be disturbed at Ayodhya; s...</td>\n",
       "    </tr>\n",
       "    <tr>\n",
       "      <th>1</th>\n",
       "      <td>20010102</td>\n",
       "      <td>unknown</td>\n",
       "      <td>Fissures in Hurriyat over Pak visit</td>\n",
       "    </tr>\n",
       "    <tr>\n",
       "      <th>2</th>\n",
       "      <td>20010102</td>\n",
       "      <td>unknown</td>\n",
       "      <td>America's unwanted heading for India?</td>\n",
       "    </tr>\n",
       "    <tr>\n",
       "      <th>3</th>\n",
       "      <td>20010102</td>\n",
       "      <td>unknown</td>\n",
       "      <td>For bigwigs; it is destination Goa</td>\n",
       "    </tr>\n",
       "    <tr>\n",
       "      <th>4</th>\n",
       "      <td>20010102</td>\n",
       "      <td>unknown</td>\n",
       "      <td>Extra buses to clear tourist traffic</td>\n",
       "    </tr>\n",
       "  </tbody>\n",
       "</table>\n",
       "</div>"
      ],
      "text/plain": [
       "   publish_date headline_category  \\\n",
       "0      20010102           unknown   \n",
       "1      20010102           unknown   \n",
       "2      20010102           unknown   \n",
       "3      20010102           unknown   \n",
       "4      20010102           unknown   \n",
       "\n",
       "                                       headline_text  \n",
       "0  Status quo will not be disturbed at Ayodhya; s...  \n",
       "1                Fissures in Hurriyat over Pak visit  \n",
       "2              America's unwanted heading for India?  \n",
       "3                 For bigwigs; it is destination Goa  \n",
       "4               Extra buses to clear tourist traffic  "
      ]
     },
     "execution_count": 10,
     "metadata": {},
     "output_type": "execute_result"
    }
   ],
   "source": [
    "#Importing the stock market price dataset which is in csv.\n",
    "stock=pd.read_csv('Stock_price.csv')\n",
    "\n",
    "#Importing the Indian_news_headlines dataset which is in csv.\n",
    "news = pd.read_csv('india-news-headlines.csv')\n",
    "news.head()"
   ]
  },
  {
   "cell_type": "code",
   "execution_count": 11,
   "id": "3ba88a47",
   "metadata": {},
   "outputs": [
    {
     "data": {
      "text/html": [
       "<div>\n",
       "<style scoped>\n",
       "    .dataframe tbody tr th:only-of-type {\n",
       "        vertical-align: middle;\n",
       "    }\n",
       "\n",
       "    .dataframe tbody tr th {\n",
       "        vertical-align: top;\n",
       "    }\n",
       "\n",
       "    .dataframe thead th {\n",
       "        text-align: right;\n",
       "    }\n",
       "</style>\n",
       "<table border=\"1\" class=\"dataframe\">\n",
       "  <thead>\n",
       "    <tr style=\"text-align: right;\">\n",
       "      <th></th>\n",
       "      <th>Date</th>\n",
       "      <th>High</th>\n",
       "      <th>Low</th>\n",
       "      <th>Open</th>\n",
       "      <th>Close</th>\n",
       "      <th>Volume</th>\n",
       "      <th>Adj Close</th>\n",
       "    </tr>\n",
       "  </thead>\n",
       "  <tbody>\n",
       "    <tr>\n",
       "      <th>0</th>\n",
       "      <td>2017-01-02</td>\n",
       "      <td>26720.980469</td>\n",
       "      <td>26447.060547</td>\n",
       "      <td>26711.150391</td>\n",
       "      <td>26595.449219</td>\n",
       "      <td>8000.0</td>\n",
       "      <td>26595.449219</td>\n",
       "    </tr>\n",
       "    <tr>\n",
       "      <th>1</th>\n",
       "      <td>2017-01-03</td>\n",
       "      <td>26724.400391</td>\n",
       "      <td>26488.369141</td>\n",
       "      <td>26616.919922</td>\n",
       "      <td>26643.240234</td>\n",
       "      <td>9800.0</td>\n",
       "      <td>26643.240234</td>\n",
       "    </tr>\n",
       "    <tr>\n",
       "      <th>2</th>\n",
       "      <td>2017-01-04</td>\n",
       "      <td>26723.369141</td>\n",
       "      <td>26606.060547</td>\n",
       "      <td>26677.220703</td>\n",
       "      <td>26633.130859</td>\n",
       "      <td>8100.0</td>\n",
       "      <td>26633.130859</td>\n",
       "    </tr>\n",
       "    <tr>\n",
       "      <th>3</th>\n",
       "      <td>2017-01-05</td>\n",
       "      <td>26917.210938</td>\n",
       "      <td>26738.419922</td>\n",
       "      <td>26738.419922</td>\n",
       "      <td>26878.240234</td>\n",
       "      <td>9800.0</td>\n",
       "      <td>26878.240234</td>\n",
       "    </tr>\n",
       "    <tr>\n",
       "      <th>4</th>\n",
       "      <td>2017-01-06</td>\n",
       "      <td>27009.609375</td>\n",
       "      <td>26733.330078</td>\n",
       "      <td>26929.689453</td>\n",
       "      <td>26759.230469</td>\n",
       "      <td>7800.0</td>\n",
       "      <td>26759.230469</td>\n",
       "    </tr>\n",
       "  </tbody>\n",
       "</table>\n",
       "</div>"
      ],
      "text/plain": [
       "         Date          High           Low          Open         Close  Volume  \\\n",
       "0  2017-01-02  26720.980469  26447.060547  26711.150391  26595.449219  8000.0   \n",
       "1  2017-01-03  26724.400391  26488.369141  26616.919922  26643.240234  9800.0   \n",
       "2  2017-01-04  26723.369141  26606.060547  26677.220703  26633.130859  8100.0   \n",
       "3  2017-01-05  26917.210938  26738.419922  26738.419922  26878.240234  9800.0   \n",
       "4  2017-01-06  27009.609375  26733.330078  26929.689453  26759.230469  7800.0   \n",
       "\n",
       "      Adj Close  \n",
       "0  26595.449219  \n",
       "1  26643.240234  \n",
       "2  26633.130859  \n",
       "3  26878.240234  \n",
       "4  26759.230469  "
      ]
     },
     "execution_count": 11,
     "metadata": {},
     "output_type": "execute_result"
    }
   ],
   "source": [
    "stock.head()"
   ]
  },
  {
   "cell_type": "code",
   "execution_count": 12,
   "id": "53fc5ce1",
   "metadata": {},
   "outputs": [
    {
     "data": {
      "text/html": [
       "<div>\n",
       "<style scoped>\n",
       "    .dataframe tbody tr th:only-of-type {\n",
       "        vertical-align: middle;\n",
       "    }\n",
       "\n",
       "    .dataframe tbody tr th {\n",
       "        vertical-align: top;\n",
       "    }\n",
       "\n",
       "    .dataframe thead th {\n",
       "        text-align: right;\n",
       "    }\n",
       "</style>\n",
       "<table border=\"1\" class=\"dataframe\">\n",
       "  <thead>\n",
       "    <tr style=\"text-align: right;\">\n",
       "      <th></th>\n",
       "      <th>Date</th>\n",
       "      <th>High</th>\n",
       "      <th>Low</th>\n",
       "      <th>Open</th>\n",
       "      <th>Close</th>\n",
       "      <th>Volume</th>\n",
       "      <th>Adj Close</th>\n",
       "    </tr>\n",
       "  </thead>\n",
       "  <tbody>\n",
       "    <tr>\n",
       "      <th>1399</th>\n",
       "      <td>2022-09-07</td>\n",
       "      <td>59166.460938</td>\n",
       "      <td>58722.890625</td>\n",
       "      <td>58789.261719</td>\n",
       "      <td>59028.910156</td>\n",
       "      <td>9000.0</td>\n",
       "      <td>59028.910156</td>\n",
       "    </tr>\n",
       "    <tr>\n",
       "      <th>1400</th>\n",
       "      <td>2022-09-08</td>\n",
       "      <td>59711.960938</td>\n",
       "      <td>59315.710938</td>\n",
       "      <td>59374.988281</td>\n",
       "      <td>59688.218750</td>\n",
       "      <td>12100.0</td>\n",
       "      <td>59688.218750</td>\n",
       "    </tr>\n",
       "    <tr>\n",
       "      <th>1401</th>\n",
       "      <td>2022-09-09</td>\n",
       "      <td>60119.800781</td>\n",
       "      <td>59634.390625</td>\n",
       "      <td>60045.750000</td>\n",
       "      <td>59793.140625</td>\n",
       "      <td>13100.0</td>\n",
       "      <td>59793.140625</td>\n",
       "    </tr>\n",
       "    <tr>\n",
       "      <th>1402</th>\n",
       "      <td>2022-09-12</td>\n",
       "      <td>60284.550781</td>\n",
       "      <td>59912.289062</td>\n",
       "      <td>59912.289062</td>\n",
       "      <td>60115.128906</td>\n",
       "      <td>14300.0</td>\n",
       "      <td>60115.128906</td>\n",
       "    </tr>\n",
       "    <tr>\n",
       "      <th>1403</th>\n",
       "      <td>2022-09-13</td>\n",
       "      <td>60635.281250</td>\n",
       "      <td>60381.019531</td>\n",
       "      <td>60408.289062</td>\n",
       "      <td>60571.078125</td>\n",
       "      <td>8500.0</td>\n",
       "      <td>60571.078125</td>\n",
       "    </tr>\n",
       "  </tbody>\n",
       "</table>\n",
       "</div>"
      ],
      "text/plain": [
       "            Date          High           Low          Open         Close  \\\n",
       "1399  2022-09-07  59166.460938  58722.890625  58789.261719  59028.910156   \n",
       "1400  2022-09-08  59711.960938  59315.710938  59374.988281  59688.218750   \n",
       "1401  2022-09-09  60119.800781  59634.390625  60045.750000  59793.140625   \n",
       "1402  2022-09-12  60284.550781  59912.289062  59912.289062  60115.128906   \n",
       "1403  2022-09-13  60635.281250  60381.019531  60408.289062  60571.078125   \n",
       "\n",
       "       Volume     Adj Close  \n",
       "1399   9000.0  59028.910156  \n",
       "1400  12100.0  59688.218750  \n",
       "1401  13100.0  59793.140625  \n",
       "1402  14300.0  60115.128906  \n",
       "1403   8500.0  60571.078125  "
      ]
     },
     "execution_count": 12,
     "metadata": {},
     "output_type": "execute_result"
    }
   ],
   "source": [
    "stock.tail()"
   ]
  },
  {
   "cell_type": "code",
   "execution_count": 13,
   "id": "570c4649",
   "metadata": {},
   "outputs": [
    {
     "data": {
      "text/html": [
       "<div>\n",
       "<style scoped>\n",
       "    .dataframe tbody tr th:only-of-type {\n",
       "        vertical-align: middle;\n",
       "    }\n",
       "\n",
       "    .dataframe tbody tr th {\n",
       "        vertical-align: top;\n",
       "    }\n",
       "\n",
       "    .dataframe thead th {\n",
       "        text-align: right;\n",
       "    }\n",
       "</style>\n",
       "<table border=\"1\" class=\"dataframe\">\n",
       "  <thead>\n",
       "    <tr style=\"text-align: right;\">\n",
       "      <th></th>\n",
       "      <th>Date</th>\n",
       "      <th>High</th>\n",
       "      <th>Low</th>\n",
       "      <th>Open</th>\n",
       "      <th>Close</th>\n",
       "      <th>Volume</th>\n",
       "      <th>Adj Close</th>\n",
       "    </tr>\n",
       "  </thead>\n",
       "  <tbody>\n",
       "    <tr>\n",
       "      <th>1072</th>\n",
       "      <td>2021-05-17</td>\n",
       "      <td>49628.421875</td>\n",
       "      <td>48923.128906</td>\n",
       "      <td>48990.699219</td>\n",
       "      <td>49580.730469</td>\n",
       "      <td>20600.0</td>\n",
       "      <td>49580.730469</td>\n",
       "    </tr>\n",
       "    <tr>\n",
       "      <th>962</th>\n",
       "      <td>2020-12-01</td>\n",
       "      <td>44730.789062</td>\n",
       "      <td>44118.101562</td>\n",
       "      <td>44435.828125</td>\n",
       "      <td>44655.441406</td>\n",
       "      <td>16000.0</td>\n",
       "      <td>44655.441406</td>\n",
       "    </tr>\n",
       "    <tr>\n",
       "      <th>730</th>\n",
       "      <td>2019-12-24</td>\n",
       "      <td>41702.980469</td>\n",
       "      <td>41423.070312</td>\n",
       "      <td>41684.511719</td>\n",
       "      <td>41461.261719</td>\n",
       "      <td>4400.0</td>\n",
       "      <td>41461.261719</td>\n",
       "    </tr>\n",
       "    <tr>\n",
       "      <th>151</th>\n",
       "      <td>2017-08-10</td>\n",
       "      <td>31756.269531</td>\n",
       "      <td>31422.800781</td>\n",
       "      <td>31750.730469</td>\n",
       "      <td>31531.330078</td>\n",
       "      <td>13000.0</td>\n",
       "      <td>31531.330078</td>\n",
       "    </tr>\n",
       "    <tr>\n",
       "      <th>1358</th>\n",
       "      <td>2022-07-07</td>\n",
       "      <td>54254.789062</td>\n",
       "      <td>53927.261719</td>\n",
       "      <td>54146.679688</td>\n",
       "      <td>54178.460938</td>\n",
       "      <td>7500.0</td>\n",
       "      <td>54178.460938</td>\n",
       "    </tr>\n",
       "    <tr>\n",
       "      <th>542</th>\n",
       "      <td>2019-03-13</td>\n",
       "      <td>37797.289062</td>\n",
       "      <td>37478.871094</td>\n",
       "      <td>37608.289062</td>\n",
       "      <td>37752.171875</td>\n",
       "      <td>21000.0</td>\n",
       "      <td>37752.171875</td>\n",
       "    </tr>\n",
       "    <tr>\n",
       "      <th>831</th>\n",
       "      <td>2020-05-27</td>\n",
       "      <td>31660.599609</td>\n",
       "      <td>30525.679688</td>\n",
       "      <td>30793.109375</td>\n",
       "      <td>31605.220703</td>\n",
       "      <td>20500.0</td>\n",
       "      <td>31605.220703</td>\n",
       "    </tr>\n",
       "    <tr>\n",
       "      <th>1180</th>\n",
       "      <td>2021-10-20</td>\n",
       "      <td>61880.359375</td>\n",
       "      <td>61109.289062</td>\n",
       "      <td>61800.070312</td>\n",
       "      <td>61259.960938</td>\n",
       "      <td>48400.0</td>\n",
       "      <td>61259.960938</td>\n",
       "    </tr>\n",
       "    <tr>\n",
       "      <th>762</th>\n",
       "      <td>2020-02-10</td>\n",
       "      <td>41172.058594</td>\n",
       "      <td>40798.980469</td>\n",
       "      <td>41166.718750</td>\n",
       "      <td>40979.621094</td>\n",
       "      <td>15200.0</td>\n",
       "      <td>40979.621094</td>\n",
       "    </tr>\n",
       "    <tr>\n",
       "      <th>221</th>\n",
       "      <td>2017-11-22</td>\n",
       "      <td>33654.531250</td>\n",
       "      <td>33465.230469</td>\n",
       "      <td>33569.070312</td>\n",
       "      <td>33561.550781</td>\n",
       "      <td>13100.0</td>\n",
       "      <td>33561.550781</td>\n",
       "    </tr>\n",
       "  </tbody>\n",
       "</table>\n",
       "</div>"
      ],
      "text/plain": [
       "            Date          High           Low          Open         Close  \\\n",
       "1072  2021-05-17  49628.421875  48923.128906  48990.699219  49580.730469   \n",
       "962   2020-12-01  44730.789062  44118.101562  44435.828125  44655.441406   \n",
       "730   2019-12-24  41702.980469  41423.070312  41684.511719  41461.261719   \n",
       "151   2017-08-10  31756.269531  31422.800781  31750.730469  31531.330078   \n",
       "1358  2022-07-07  54254.789062  53927.261719  54146.679688  54178.460938   \n",
       "542   2019-03-13  37797.289062  37478.871094  37608.289062  37752.171875   \n",
       "831   2020-05-27  31660.599609  30525.679688  30793.109375  31605.220703   \n",
       "1180  2021-10-20  61880.359375  61109.289062  61800.070312  61259.960938   \n",
       "762   2020-02-10  41172.058594  40798.980469  41166.718750  40979.621094   \n",
       "221   2017-11-22  33654.531250  33465.230469  33569.070312  33561.550781   \n",
       "\n",
       "       Volume     Adj Close  \n",
       "1072  20600.0  49580.730469  \n",
       "962   16000.0  44655.441406  \n",
       "730    4400.0  41461.261719  \n",
       "151   13000.0  31531.330078  \n",
       "1358   7500.0  54178.460938  \n",
       "542   21000.0  37752.171875  \n",
       "831   20500.0  31605.220703  \n",
       "1180  48400.0  61259.960938  \n",
       "762   15200.0  40979.621094  \n",
       "221   13100.0  33561.550781  "
      ]
     },
     "execution_count": 13,
     "metadata": {},
     "output_type": "execute_result"
    }
   ],
   "source": [
    "stock.sample(10)"
   ]
  },
  {
   "cell_type": "code",
   "execution_count": 14,
   "id": "526dfb88",
   "metadata": {},
   "outputs": [
    {
     "data": {
      "text/html": [
       "<div>\n",
       "<style scoped>\n",
       "    .dataframe tbody tr th:only-of-type {\n",
       "        vertical-align: middle;\n",
       "    }\n",
       "\n",
       "    .dataframe tbody tr th {\n",
       "        vertical-align: top;\n",
       "    }\n",
       "\n",
       "    .dataframe thead th {\n",
       "        text-align: right;\n",
       "    }\n",
       "</style>\n",
       "<table border=\"1\" class=\"dataframe\">\n",
       "  <thead>\n",
       "    <tr style=\"text-align: right;\">\n",
       "      <th></th>\n",
       "      <th>publish_date</th>\n",
       "      <th>headline_category</th>\n",
       "      <th>headline_text</th>\n",
       "    </tr>\n",
       "  </thead>\n",
       "  <tbody>\n",
       "    <tr>\n",
       "      <th>0</th>\n",
       "      <td>20010102</td>\n",
       "      <td>unknown</td>\n",
       "      <td>Status quo will not be disturbed at Ayodhya; s...</td>\n",
       "    </tr>\n",
       "    <tr>\n",
       "      <th>1</th>\n",
       "      <td>20010102</td>\n",
       "      <td>unknown</td>\n",
       "      <td>Fissures in Hurriyat over Pak visit</td>\n",
       "    </tr>\n",
       "    <tr>\n",
       "      <th>2</th>\n",
       "      <td>20010102</td>\n",
       "      <td>unknown</td>\n",
       "      <td>America's unwanted heading for India?</td>\n",
       "    </tr>\n",
       "    <tr>\n",
       "      <th>3</th>\n",
       "      <td>20010102</td>\n",
       "      <td>unknown</td>\n",
       "      <td>For bigwigs; it is destination Goa</td>\n",
       "    </tr>\n",
       "    <tr>\n",
       "      <th>4</th>\n",
       "      <td>20010102</td>\n",
       "      <td>unknown</td>\n",
       "      <td>Extra buses to clear tourist traffic</td>\n",
       "    </tr>\n",
       "  </tbody>\n",
       "</table>\n",
       "</div>"
      ],
      "text/plain": [
       "   publish_date headline_category  \\\n",
       "0      20010102           unknown   \n",
       "1      20010102           unknown   \n",
       "2      20010102           unknown   \n",
       "3      20010102           unknown   \n",
       "4      20010102           unknown   \n",
       "\n",
       "                                       headline_text  \n",
       "0  Status quo will not be disturbed at Ayodhya; s...  \n",
       "1                Fissures in Hurriyat over Pak visit  \n",
       "2              America's unwanted heading for India?  \n",
       "3                 For bigwigs; it is destination Goa  \n",
       "4               Extra buses to clear tourist traffic  "
      ]
     },
     "execution_count": 14,
     "metadata": {},
     "output_type": "execute_result"
    }
   ],
   "source": [
    "news.head()"
   ]
  },
  {
   "cell_type": "code",
   "execution_count": 15,
   "id": "0453feb6",
   "metadata": {},
   "outputs": [
    {
     "data": {
      "text/html": [
       "<div>\n",
       "<style scoped>\n",
       "    .dataframe tbody tr th:only-of-type {\n",
       "        vertical-align: middle;\n",
       "    }\n",
       "\n",
       "    .dataframe tbody tr th {\n",
       "        vertical-align: top;\n",
       "    }\n",
       "\n",
       "    .dataframe thead th {\n",
       "        text-align: right;\n",
       "    }\n",
       "</style>\n",
       "<table border=\"1\" class=\"dataframe\">\n",
       "  <thead>\n",
       "    <tr style=\"text-align: right;\">\n",
       "      <th></th>\n",
       "      <th>publish_date</th>\n",
       "      <th>headline_category</th>\n",
       "      <th>headline_text</th>\n",
       "    </tr>\n",
       "  </thead>\n",
       "  <tbody>\n",
       "    <tr>\n",
       "      <th>3650965</th>\n",
       "      <td>20220331</td>\n",
       "      <td>city.srinagar</td>\n",
       "      <td>J&amp;K sacks 2 cops; 3 other employees over terro...</td>\n",
       "    </tr>\n",
       "    <tr>\n",
       "      <th>3650966</th>\n",
       "      <td>20220331</td>\n",
       "      <td>entertainment.hindi.bollywood</td>\n",
       "      <td>Ranbir Kapoor says 'Rishi Kapoor enjoyed his a...</td>\n",
       "    </tr>\n",
       "    <tr>\n",
       "      <th>3650967</th>\n",
       "      <td>20220331</td>\n",
       "      <td>city.trichy</td>\n",
       "      <td>As Covid-19 cases drop to nil in southern dist...</td>\n",
       "    </tr>\n",
       "    <tr>\n",
       "      <th>3650968</th>\n",
       "      <td>20220331</td>\n",
       "      <td>city.erode</td>\n",
       "      <td>Tamil Nadu sees marginal rise of Covid cases w...</td>\n",
       "    </tr>\n",
       "    <tr>\n",
       "      <th>3650969</th>\n",
       "      <td>20220331</td>\n",
       "      <td>city.salem</td>\n",
       "      <td>Tamil Nadu sees marginal rise of Covid cases w...</td>\n",
       "    </tr>\n",
       "  </tbody>\n",
       "</table>\n",
       "</div>"
      ],
      "text/plain": [
       "         publish_date              headline_category  \\\n",
       "3650965      20220331                  city.srinagar   \n",
       "3650966      20220331  entertainment.hindi.bollywood   \n",
       "3650967      20220331                    city.trichy   \n",
       "3650968      20220331                     city.erode   \n",
       "3650969      20220331                     city.salem   \n",
       "\n",
       "                                             headline_text  \n",
       "3650965  J&K sacks 2 cops; 3 other employees over terro...  \n",
       "3650966  Ranbir Kapoor says 'Rishi Kapoor enjoyed his a...  \n",
       "3650967  As Covid-19 cases drop to nil in southern dist...  \n",
       "3650968  Tamil Nadu sees marginal rise of Covid cases w...  \n",
       "3650969  Tamil Nadu sees marginal rise of Covid cases w...  "
      ]
     },
     "execution_count": 15,
     "metadata": {},
     "output_type": "execute_result"
    }
   ],
   "source": [
    "news.tail()"
   ]
  },
  {
   "cell_type": "code",
   "execution_count": 16,
   "id": "24768adf",
   "metadata": {},
   "outputs": [
    {
     "data": {
      "text/html": [
       "<div>\n",
       "<style scoped>\n",
       "    .dataframe tbody tr th:only-of-type {\n",
       "        vertical-align: middle;\n",
       "    }\n",
       "\n",
       "    .dataframe tbody tr th {\n",
       "        vertical-align: top;\n",
       "    }\n",
       "\n",
       "    .dataframe thead th {\n",
       "        text-align: right;\n",
       "    }\n",
       "</style>\n",
       "<table border=\"1\" class=\"dataframe\">\n",
       "  <thead>\n",
       "    <tr style=\"text-align: right;\">\n",
       "      <th></th>\n",
       "      <th>publish_date</th>\n",
       "      <th>headline_category</th>\n",
       "      <th>headline_text</th>\n",
       "    </tr>\n",
       "  </thead>\n",
       "  <tbody>\n",
       "    <tr>\n",
       "      <th>2731666</th>\n",
       "      <td>20170918</td>\n",
       "      <td>city.mangaluru</td>\n",
       "      <td>M'luru surfer Tanvi wins 'Grom of the Year' award</td>\n",
       "    </tr>\n",
       "    <tr>\n",
       "      <th>2037612</th>\n",
       "      <td>20141229</td>\n",
       "      <td>entertainment.hindi.bollywood</td>\n",
       "      <td>Kangana Ranaut; Sonam Kapoor's quirky take on ...</td>\n",
       "    </tr>\n",
       "    <tr>\n",
       "      <th>3302935</th>\n",
       "      <td>20200503</td>\n",
       "      <td>city.rajkot</td>\n",
       "      <td>Alcoholic man kills father; held</td>\n",
       "    </tr>\n",
       "    <tr>\n",
       "      <th>245427</th>\n",
       "      <td>20030924</td>\n",
       "      <td>city.hyderabad</td>\n",
       "      <td>Naidu says stamp scam is a damp squib</td>\n",
       "    </tr>\n",
       "    <tr>\n",
       "      <th>3448670</th>\n",
       "      <td>20210219</td>\n",
       "      <td>city.kochi</td>\n",
       "      <td>Farm at St Mary'sUPS reaps award</td>\n",
       "    </tr>\n",
       "    <tr>\n",
       "      <th>1740077</th>\n",
       "      <td>20131028</td>\n",
       "      <td>city.chennai</td>\n",
       "      <td>Ocean centre creates sea cages to breed fish</td>\n",
       "    </tr>\n",
       "    <tr>\n",
       "      <th>2895797</th>\n",
       "      <td>20180511</td>\n",
       "      <td>city.mumbai</td>\n",
       "      <td>Aarey murder: Birthday girl; 11 other youngste...</td>\n",
       "    </tr>\n",
       "    <tr>\n",
       "      <th>727518</th>\n",
       "      <td>20090412</td>\n",
       "      <td>entertainment.hindi.bollywood</td>\n",
       "      <td>Abhishek the 'Genda phool' guy!</td>\n",
       "    </tr>\n",
       "    <tr>\n",
       "      <th>1640070</th>\n",
       "      <td>20130606</td>\n",
       "      <td>world-environment-day.world-environment-day-st...</td>\n",
       "      <td>Slew of events mark World Environment Day cele...</td>\n",
       "    </tr>\n",
       "    <tr>\n",
       "      <th>3466416</th>\n",
       "      <td>20210326</td>\n",
       "      <td>city.thane</td>\n",
       "      <td>CA stabs lover; jumps to death from hotel in T...</td>\n",
       "    </tr>\n",
       "  </tbody>\n",
       "</table>\n",
       "</div>"
      ],
      "text/plain": [
       "         publish_date                                  headline_category  \\\n",
       "2731666      20170918                                     city.mangaluru   \n",
       "2037612      20141229                      entertainment.hindi.bollywood   \n",
       "3302935      20200503                                        city.rajkot   \n",
       "245427       20030924                                     city.hyderabad   \n",
       "3448670      20210219                                         city.kochi   \n",
       "1740077      20131028                                       city.chennai   \n",
       "2895797      20180511                                        city.mumbai   \n",
       "727518       20090412                      entertainment.hindi.bollywood   \n",
       "1640070      20130606  world-environment-day.world-environment-day-st...   \n",
       "3466416      20210326                                         city.thane   \n",
       "\n",
       "                                             headline_text  \n",
       "2731666  M'luru surfer Tanvi wins 'Grom of the Year' award  \n",
       "2037612  Kangana Ranaut; Sonam Kapoor's quirky take on ...  \n",
       "3302935                   Alcoholic man kills father; held  \n",
       "245427               Naidu says stamp scam is a damp squib  \n",
       "3448670                   Farm at St Mary'sUPS reaps award  \n",
       "1740077       Ocean centre creates sea cages to breed fish  \n",
       "2895797  Aarey murder: Birthday girl; 11 other youngste...  \n",
       "727518                     Abhishek the 'Genda phool' guy!  \n",
       "1640070  Slew of events mark World Environment Day cele...  \n",
       "3466416  CA stabs lover; jumps to death from hotel in T...  "
      ]
     },
     "execution_count": 16,
     "metadata": {},
     "output_type": "execute_result"
    }
   ],
   "source": [
    "news.sample(10)"
   ]
  },
  {
   "cell_type": "code",
   "execution_count": 17,
   "id": "be551a50",
   "metadata": {},
   "outputs": [
    {
     "name": "stdout",
     "output_type": "stream",
     "text": [
      "The shape of the Stock Price Dataset is: (1404, 7)\n",
      "The shape of the Indian_news_headlines Dataset is (3650970, 3)\n"
     ]
    }
   ],
   "source": [
    "print(\"The shape of the Stock Price Dataset is:\",stock.shape)\n",
    "print(\"The shape of the Indian_news_headlines Dataset is\",news.shape)"
   ]
  },
  {
   "cell_type": "markdown",
   "id": "cff0fa4a",
   "metadata": {},
   "source": [
    "##### Step 3: Pre-Processing of Data"
   ]
  },
  {
   "cell_type": "markdown",
   "id": "cecd2565",
   "metadata": {},
   "source": [
    "######  * News_Headlines Dataset Pre-processing"
   ]
  },
  {
   "cell_type": "code",
   "execution_count": 18,
   "id": "b2eece81",
   "metadata": {},
   "outputs": [
    {
     "data": {
      "text/plain": [
       "(3650970, 3)"
      ]
     },
     "execution_count": 18,
     "metadata": {},
     "output_type": "execute_result"
    }
   ],
   "source": [
    "news.shape"
   ]
  },
  {
   "cell_type": "code",
   "execution_count": 19,
   "id": "42942bfe",
   "metadata": {
    "scrolled": false
   },
   "outputs": [
    {
     "data": {
      "text/html": [
       "<div>\n",
       "<style scoped>\n",
       "    .dataframe tbody tr th:only-of-type {\n",
       "        vertical-align: middle;\n",
       "    }\n",
       "\n",
       "    .dataframe tbody tr th {\n",
       "        vertical-align: top;\n",
       "    }\n",
       "\n",
       "    .dataframe thead th {\n",
       "        text-align: right;\n",
       "    }\n",
       "</style>\n",
       "<table border=\"1\" class=\"dataframe\">\n",
       "  <thead>\n",
       "    <tr style=\"text-align: right;\">\n",
       "      <th></th>\n",
       "      <th>publish_date</th>\n",
       "      <th>headline_category</th>\n",
       "      <th>headline_text</th>\n",
       "    </tr>\n",
       "  </thead>\n",
       "  <tbody>\n",
       "    <tr>\n",
       "      <th>0</th>\n",
       "      <td>20010102</td>\n",
       "      <td>unknown</td>\n",
       "      <td>Status quo will not be disturbed at Ayodhya; s...</td>\n",
       "    </tr>\n",
       "    <tr>\n",
       "      <th>1</th>\n",
       "      <td>20010102</td>\n",
       "      <td>unknown</td>\n",
       "      <td>Fissures in Hurriyat over Pak visit</td>\n",
       "    </tr>\n",
       "    <tr>\n",
       "      <th>2</th>\n",
       "      <td>20010102</td>\n",
       "      <td>unknown</td>\n",
       "      <td>America's unwanted heading for India?</td>\n",
       "    </tr>\n",
       "    <tr>\n",
       "      <th>3</th>\n",
       "      <td>20010102</td>\n",
       "      <td>unknown</td>\n",
       "      <td>For bigwigs; it is destination Goa</td>\n",
       "    </tr>\n",
       "    <tr>\n",
       "      <th>4</th>\n",
       "      <td>20010102</td>\n",
       "      <td>unknown</td>\n",
       "      <td>Extra buses to clear tourist traffic</td>\n",
       "    </tr>\n",
       "  </tbody>\n",
       "</table>\n",
       "</div>"
      ],
      "text/plain": [
       "   publish_date headline_category  \\\n",
       "0      20010102           unknown   \n",
       "1      20010102           unknown   \n",
       "2      20010102           unknown   \n",
       "3      20010102           unknown   \n",
       "4      20010102           unknown   \n",
       "\n",
       "                                       headline_text  \n",
       "0  Status quo will not be disturbed at Ayodhya; s...  \n",
       "1                Fissures in Hurriyat over Pak visit  \n",
       "2              America's unwanted heading for India?  \n",
       "3                 For bigwigs; it is destination Goa  \n",
       "4               Extra buses to clear tourist traffic  "
      ]
     },
     "execution_count": 19,
     "metadata": {},
     "output_type": "execute_result"
    }
   ],
   "source": [
    "news.head()"
   ]
  },
  {
   "cell_type": "code",
   "execution_count": 20,
   "id": "d81d8b5a",
   "metadata": {},
   "outputs": [
    {
     "data": {
      "text/html": [
       "<div>\n",
       "<style scoped>\n",
       "    .dataframe tbody tr th:only-of-type {\n",
       "        vertical-align: middle;\n",
       "    }\n",
       "\n",
       "    .dataframe tbody tr th {\n",
       "        vertical-align: top;\n",
       "    }\n",
       "\n",
       "    .dataframe thead th {\n",
       "        text-align: right;\n",
       "    }\n",
       "</style>\n",
       "<table border=\"1\" class=\"dataframe\">\n",
       "  <thead>\n",
       "    <tr style=\"text-align: right;\">\n",
       "      <th></th>\n",
       "      <th>publish_date</th>\n",
       "      <th>headline_text</th>\n",
       "    </tr>\n",
       "  </thead>\n",
       "  <tbody>\n",
       "    <tr>\n",
       "      <th>0</th>\n",
       "      <td>20010102</td>\n",
       "      <td>Status quo will not be disturbed at Ayodhya; s...</td>\n",
       "    </tr>\n",
       "    <tr>\n",
       "      <th>1</th>\n",
       "      <td>20010102</td>\n",
       "      <td>Fissures in Hurriyat over Pak visit</td>\n",
       "    </tr>\n",
       "    <tr>\n",
       "      <th>2</th>\n",
       "      <td>20010102</td>\n",
       "      <td>America's unwanted heading for India?</td>\n",
       "    </tr>\n",
       "    <tr>\n",
       "      <th>3</th>\n",
       "      <td>20010102</td>\n",
       "      <td>For bigwigs; it is destination Goa</td>\n",
       "    </tr>\n",
       "    <tr>\n",
       "      <th>4</th>\n",
       "      <td>20010102</td>\n",
       "      <td>Extra buses to clear tourist traffic</td>\n",
       "    </tr>\n",
       "  </tbody>\n",
       "</table>\n",
       "</div>"
      ],
      "text/plain": [
       "   publish_date                                      headline_text\n",
       "0      20010102  Status quo will not be disturbed at Ayodhya; s...\n",
       "1      20010102                Fissures in Hurriyat over Pak visit\n",
       "2      20010102              America's unwanted heading for India?\n",
       "3      20010102                 For bigwigs; it is destination Goa\n",
       "4      20010102               Extra buses to clear tourist traffic"
      ]
     },
     "execution_count": 20,
     "metadata": {},
     "output_type": "execute_result"
    }
   ],
   "source": [
    "#We don't need headline_category , so let's drop it.\n",
    "news.drop(columns=['headline_category'],inplace=True)\n",
    "news.head()"
   ]
  },
  {
   "cell_type": "code",
   "execution_count": 21,
   "id": "14036c43",
   "metadata": {},
   "outputs": [
    {
     "data": {
      "text/html": [
       "<div>\n",
       "<style scoped>\n",
       "    .dataframe tbody tr th:only-of-type {\n",
       "        vertical-align: middle;\n",
       "    }\n",
       "\n",
       "    .dataframe tbody tr th {\n",
       "        vertical-align: top;\n",
       "    }\n",
       "\n",
       "    .dataframe thead th {\n",
       "        text-align: right;\n",
       "    }\n",
       "</style>\n",
       "<table border=\"1\" class=\"dataframe\">\n",
       "  <thead>\n",
       "    <tr style=\"text-align: right;\">\n",
       "      <th></th>\n",
       "      <th>Date</th>\n",
       "      <th>News</th>\n",
       "    </tr>\n",
       "  </thead>\n",
       "  <tbody>\n",
       "    <tr>\n",
       "      <th>0</th>\n",
       "      <td>20010102</td>\n",
       "      <td>Status quo will not be disturbed at Ayodhya; s...</td>\n",
       "    </tr>\n",
       "    <tr>\n",
       "      <th>1</th>\n",
       "      <td>20010102</td>\n",
       "      <td>Fissures in Hurriyat over Pak visit</td>\n",
       "    </tr>\n",
       "    <tr>\n",
       "      <th>2</th>\n",
       "      <td>20010102</td>\n",
       "      <td>America's unwanted heading for India?</td>\n",
       "    </tr>\n",
       "    <tr>\n",
       "      <th>3</th>\n",
       "      <td>20010102</td>\n",
       "      <td>For bigwigs; it is destination Goa</td>\n",
       "    </tr>\n",
       "    <tr>\n",
       "      <th>4</th>\n",
       "      <td>20010102</td>\n",
       "      <td>Extra buses to clear tourist traffic</td>\n",
       "    </tr>\n",
       "  </tbody>\n",
       "</table>\n",
       "</div>"
      ],
      "text/plain": [
       "       Date                                               News\n",
       "0  20010102  Status quo will not be disturbed at Ayodhya; s...\n",
       "1  20010102                Fissures in Hurriyat over Pak visit\n",
       "2  20010102              America's unwanted heading for India?\n",
       "3  20010102                 For bigwigs; it is destination Goa\n",
       "4  20010102               Extra buses to clear tourist traffic"
      ]
     },
     "execution_count": 21,
     "metadata": {},
     "output_type": "execute_result"
    }
   ],
   "source": [
    "#Lets rename the column names of news dataset.\n",
    "news.rename(columns={'publish_date':'Date','headline_text':'News'},inplace=True)\n",
    "news.head()"
   ]
  },
  {
   "cell_type": "code",
   "execution_count": 22,
   "id": "a35028c5",
   "metadata": {
    "scrolled": true
   },
   "outputs": [
    {
     "name": "stdout",
     "output_type": "stream",
     "text": [
      "<class 'pandas.core.frame.DataFrame'>\n",
      "RangeIndex: 3650970 entries, 0 to 3650969\n",
      "Data columns (total 2 columns):\n",
      " #   Column  Dtype \n",
      "---  ------  ----- \n",
      " 0   Date    int64 \n",
      " 1   News    object\n",
      "dtypes: int64(1), object(1)\n",
      "memory usage: 55.7+ MB\n"
     ]
    }
   ],
   "source": [
    "news.info()"
   ]
  },
  {
   "cell_type": "code",
   "execution_count": 23,
   "id": "37cc2f16",
   "metadata": {},
   "outputs": [
    {
     "name": "stdout",
     "output_type": "stream",
     "text": [
      "<class 'pandas.core.frame.DataFrame'>\n",
      "RangeIndex: 1404 entries, 0 to 1403\n",
      "Data columns (total 7 columns):\n",
      " #   Column     Non-Null Count  Dtype  \n",
      "---  ------     --------------  -----  \n",
      " 0   Date       1404 non-null   object \n",
      " 1   High       1404 non-null   float64\n",
      " 2   Low        1404 non-null   float64\n",
      " 3   Open       1404 non-null   float64\n",
      " 4   Close      1404 non-null   float64\n",
      " 5   Volume     1404 non-null   float64\n",
      " 6   Adj Close  1404 non-null   float64\n",
      "dtypes: float64(6), object(1)\n",
      "memory usage: 76.9+ KB\n"
     ]
    }
   ],
   "source": [
    "stock.info()"
   ]
  },
  {
   "cell_type": "code",
   "execution_count": 24,
   "id": "fe4fa028",
   "metadata": {},
   "outputs": [],
   "source": [
    "#We can see the datatype of Date in News dataset is integer where as in Stock dataset it is object.\n",
    "#Lets convert them to objects first and then to datetime. so that there format and nature will be same as we may need to merge the\n",
    "#further.\n",
    "\n",
    "news['Date']=news['Date'].apply(str)"
   ]
  },
  {
   "cell_type": "code",
   "execution_count": 25,
   "id": "d92e69b5",
   "metadata": {},
   "outputs": [
    {
     "data": {
      "text/plain": [
       "dtype('O')"
      ]
     },
     "execution_count": 25,
     "metadata": {},
     "output_type": "execute_result"
    }
   ],
   "source": [
    "news['Date'].dtype"
   ]
  },
  {
   "cell_type": "code",
   "execution_count": 26,
   "id": "169daa4a",
   "metadata": {},
   "outputs": [
    {
     "data": {
      "text/plain": [
       "dtype('O')"
      ]
     },
     "execution_count": 26,
     "metadata": {},
     "output_type": "execute_result"
    }
   ],
   "source": [
    "stock['Date'].dtype"
   ]
  },
  {
   "cell_type": "code",
   "execution_count": 27,
   "id": "f33fe3f0",
   "metadata": {},
   "outputs": [
    {
     "data": {
      "text/html": [
       "<div>\n",
       "<style scoped>\n",
       "    .dataframe tbody tr th:only-of-type {\n",
       "        vertical-align: middle;\n",
       "    }\n",
       "\n",
       "    .dataframe tbody tr th {\n",
       "        vertical-align: top;\n",
       "    }\n",
       "\n",
       "    .dataframe thead th {\n",
       "        text-align: right;\n",
       "    }\n",
       "</style>\n",
       "<table border=\"1\" class=\"dataframe\">\n",
       "  <thead>\n",
       "    <tr style=\"text-align: right;\">\n",
       "      <th></th>\n",
       "      <th>Date</th>\n",
       "      <th>High</th>\n",
       "      <th>Low</th>\n",
       "      <th>Open</th>\n",
       "      <th>Close</th>\n",
       "      <th>Volume</th>\n",
       "      <th>Adj Close</th>\n",
       "    </tr>\n",
       "  </thead>\n",
       "  <tbody>\n",
       "    <tr>\n",
       "      <th>0</th>\n",
       "      <td>2017-01-02</td>\n",
       "      <td>26720.980469</td>\n",
       "      <td>26447.060547</td>\n",
       "      <td>26711.150391</td>\n",
       "      <td>26595.449219</td>\n",
       "      <td>8000.0</td>\n",
       "      <td>26595.449219</td>\n",
       "    </tr>\n",
       "    <tr>\n",
       "      <th>1</th>\n",
       "      <td>2017-01-03</td>\n",
       "      <td>26724.400391</td>\n",
       "      <td>26488.369141</td>\n",
       "      <td>26616.919922</td>\n",
       "      <td>26643.240234</td>\n",
       "      <td>9800.0</td>\n",
       "      <td>26643.240234</td>\n",
       "    </tr>\n",
       "    <tr>\n",
       "      <th>2</th>\n",
       "      <td>2017-01-04</td>\n",
       "      <td>26723.369141</td>\n",
       "      <td>26606.060547</td>\n",
       "      <td>26677.220703</td>\n",
       "      <td>26633.130859</td>\n",
       "      <td>8100.0</td>\n",
       "      <td>26633.130859</td>\n",
       "    </tr>\n",
       "    <tr>\n",
       "      <th>3</th>\n",
       "      <td>2017-01-05</td>\n",
       "      <td>26917.210938</td>\n",
       "      <td>26738.419922</td>\n",
       "      <td>26738.419922</td>\n",
       "      <td>26878.240234</td>\n",
       "      <td>9800.0</td>\n",
       "      <td>26878.240234</td>\n",
       "    </tr>\n",
       "    <tr>\n",
       "      <th>4</th>\n",
       "      <td>2017-01-06</td>\n",
       "      <td>27009.609375</td>\n",
       "      <td>26733.330078</td>\n",
       "      <td>26929.689453</td>\n",
       "      <td>26759.230469</td>\n",
       "      <td>7800.0</td>\n",
       "      <td>26759.230469</td>\n",
       "    </tr>\n",
       "    <tr>\n",
       "      <th>...</th>\n",
       "      <td>...</td>\n",
       "      <td>...</td>\n",
       "      <td>...</td>\n",
       "      <td>...</td>\n",
       "      <td>...</td>\n",
       "      <td>...</td>\n",
       "      <td>...</td>\n",
       "    </tr>\n",
       "    <tr>\n",
       "      <th>1399</th>\n",
       "      <td>2022-09-07</td>\n",
       "      <td>59166.460938</td>\n",
       "      <td>58722.890625</td>\n",
       "      <td>58789.261719</td>\n",
       "      <td>59028.910156</td>\n",
       "      <td>9000.0</td>\n",
       "      <td>59028.910156</td>\n",
       "    </tr>\n",
       "    <tr>\n",
       "      <th>1400</th>\n",
       "      <td>2022-09-08</td>\n",
       "      <td>59711.960938</td>\n",
       "      <td>59315.710938</td>\n",
       "      <td>59374.988281</td>\n",
       "      <td>59688.218750</td>\n",
       "      <td>12100.0</td>\n",
       "      <td>59688.218750</td>\n",
       "    </tr>\n",
       "    <tr>\n",
       "      <th>1401</th>\n",
       "      <td>2022-09-09</td>\n",
       "      <td>60119.800781</td>\n",
       "      <td>59634.390625</td>\n",
       "      <td>60045.750000</td>\n",
       "      <td>59793.140625</td>\n",
       "      <td>13100.0</td>\n",
       "      <td>59793.140625</td>\n",
       "    </tr>\n",
       "    <tr>\n",
       "      <th>1402</th>\n",
       "      <td>2022-09-12</td>\n",
       "      <td>60284.550781</td>\n",
       "      <td>59912.289062</td>\n",
       "      <td>59912.289062</td>\n",
       "      <td>60115.128906</td>\n",
       "      <td>14300.0</td>\n",
       "      <td>60115.128906</td>\n",
       "    </tr>\n",
       "    <tr>\n",
       "      <th>1403</th>\n",
       "      <td>2022-09-13</td>\n",
       "      <td>60635.281250</td>\n",
       "      <td>60381.019531</td>\n",
       "      <td>60408.289062</td>\n",
       "      <td>60571.078125</td>\n",
       "      <td>8500.0</td>\n",
       "      <td>60571.078125</td>\n",
       "    </tr>\n",
       "  </tbody>\n",
       "</table>\n",
       "<p>1404 rows × 7 columns</p>\n",
       "</div>"
      ],
      "text/plain": [
       "           Date          High           Low          Open         Close  \\\n",
       "0    2017-01-02  26720.980469  26447.060547  26711.150391  26595.449219   \n",
       "1    2017-01-03  26724.400391  26488.369141  26616.919922  26643.240234   \n",
       "2    2017-01-04  26723.369141  26606.060547  26677.220703  26633.130859   \n",
       "3    2017-01-05  26917.210938  26738.419922  26738.419922  26878.240234   \n",
       "4    2017-01-06  27009.609375  26733.330078  26929.689453  26759.230469   \n",
       "...         ...           ...           ...           ...           ...   \n",
       "1399 2022-09-07  59166.460938  58722.890625  58789.261719  59028.910156   \n",
       "1400 2022-09-08  59711.960938  59315.710938  59374.988281  59688.218750   \n",
       "1401 2022-09-09  60119.800781  59634.390625  60045.750000  59793.140625   \n",
       "1402 2022-09-12  60284.550781  59912.289062  59912.289062  60115.128906   \n",
       "1403 2022-09-13  60635.281250  60381.019531  60408.289062  60571.078125   \n",
       "\n",
       "       Volume     Adj Close  \n",
       "0      8000.0  26595.449219  \n",
       "1      9800.0  26643.240234  \n",
       "2      8100.0  26633.130859  \n",
       "3      9800.0  26878.240234  \n",
       "4      7800.0  26759.230469  \n",
       "...       ...           ...  \n",
       "1399   9000.0  59028.910156  \n",
       "1400  12100.0  59688.218750  \n",
       "1401  13100.0  59793.140625  \n",
       "1402  14300.0  60115.128906  \n",
       "1403   8500.0  60571.078125  \n",
       "\n",
       "[1404 rows x 7 columns]"
      ]
     },
     "execution_count": 27,
     "metadata": {},
     "output_type": "execute_result"
    }
   ],
   "source": [
    "#Now lets change then to datetime.\n",
    "stock['Date'] = pd.to_datetime(stock['Date'])\n",
    "stock"
   ]
  },
  {
   "cell_type": "code",
   "execution_count": 28,
   "id": "a2d6ab4f",
   "metadata": {},
   "outputs": [
    {
     "data": {
      "text/html": [
       "<div>\n",
       "<style scoped>\n",
       "    .dataframe tbody tr th:only-of-type {\n",
       "        vertical-align: middle;\n",
       "    }\n",
       "\n",
       "    .dataframe tbody tr th {\n",
       "        vertical-align: top;\n",
       "    }\n",
       "\n",
       "    .dataframe thead th {\n",
       "        text-align: right;\n",
       "    }\n",
       "</style>\n",
       "<table border=\"1\" class=\"dataframe\">\n",
       "  <thead>\n",
       "    <tr style=\"text-align: right;\">\n",
       "      <th></th>\n",
       "      <th>Date</th>\n",
       "      <th>News</th>\n",
       "    </tr>\n",
       "  </thead>\n",
       "  <tbody>\n",
       "    <tr>\n",
       "      <th>0</th>\n",
       "      <td>2001-01-02</td>\n",
       "      <td>Status quo will not be disturbed at Ayodhya; s...</td>\n",
       "    </tr>\n",
       "    <tr>\n",
       "      <th>1</th>\n",
       "      <td>2001-01-02</td>\n",
       "      <td>Fissures in Hurriyat over Pak visit</td>\n",
       "    </tr>\n",
       "    <tr>\n",
       "      <th>2</th>\n",
       "      <td>2001-01-02</td>\n",
       "      <td>America's unwanted heading for India?</td>\n",
       "    </tr>\n",
       "    <tr>\n",
       "      <th>3</th>\n",
       "      <td>2001-01-02</td>\n",
       "      <td>For bigwigs; it is destination Goa</td>\n",
       "    </tr>\n",
       "    <tr>\n",
       "      <th>4</th>\n",
       "      <td>2001-01-02</td>\n",
       "      <td>Extra buses to clear tourist traffic</td>\n",
       "    </tr>\n",
       "    <tr>\n",
       "      <th>...</th>\n",
       "      <td>...</td>\n",
       "      <td>...</td>\n",
       "    </tr>\n",
       "    <tr>\n",
       "      <th>3650965</th>\n",
       "      <td>2022-03-31</td>\n",
       "      <td>J&amp;K sacks 2 cops; 3 other employees over terro...</td>\n",
       "    </tr>\n",
       "    <tr>\n",
       "      <th>3650966</th>\n",
       "      <td>2022-03-31</td>\n",
       "      <td>Ranbir Kapoor says 'Rishi Kapoor enjoyed his a...</td>\n",
       "    </tr>\n",
       "    <tr>\n",
       "      <th>3650967</th>\n",
       "      <td>2022-03-31</td>\n",
       "      <td>As Covid-19 cases drop to nil in southern dist...</td>\n",
       "    </tr>\n",
       "    <tr>\n",
       "      <th>3650968</th>\n",
       "      <td>2022-03-31</td>\n",
       "      <td>Tamil Nadu sees marginal rise of Covid cases w...</td>\n",
       "    </tr>\n",
       "    <tr>\n",
       "      <th>3650969</th>\n",
       "      <td>2022-03-31</td>\n",
       "      <td>Tamil Nadu sees marginal rise of Covid cases w...</td>\n",
       "    </tr>\n",
       "  </tbody>\n",
       "</table>\n",
       "<p>3650970 rows × 2 columns</p>\n",
       "</div>"
      ],
      "text/plain": [
       "              Date                                               News\n",
       "0       2001-01-02  Status quo will not be disturbed at Ayodhya; s...\n",
       "1       2001-01-02                Fissures in Hurriyat over Pak visit\n",
       "2       2001-01-02              America's unwanted heading for India?\n",
       "3       2001-01-02                 For bigwigs; it is destination Goa\n",
       "4       2001-01-02               Extra buses to clear tourist traffic\n",
       "...            ...                                                ...\n",
       "3650965 2022-03-31  J&K sacks 2 cops; 3 other employees over terro...\n",
       "3650966 2022-03-31  Ranbir Kapoor says 'Rishi Kapoor enjoyed his a...\n",
       "3650967 2022-03-31  As Covid-19 cases drop to nil in southern dist...\n",
       "3650968 2022-03-31  Tamil Nadu sees marginal rise of Covid cases w...\n",
       "3650969 2022-03-31  Tamil Nadu sees marginal rise of Covid cases w...\n",
       "\n",
       "[3650970 rows x 2 columns]"
      ]
     },
     "execution_count": 28,
     "metadata": {},
     "output_type": "execute_result"
    }
   ],
   "source": [
    "news['Date'] = pd.to_datetime(news['Date'])\n",
    "news"
   ]
  },
  {
   "cell_type": "code",
   "execution_count": 29,
   "id": "b56e0d0e",
   "metadata": {},
   "outputs": [
    {
     "data": {
      "text/html": [
       "<div>\n",
       "<style scoped>\n",
       "    .dataframe tbody tr th:only-of-type {\n",
       "        vertical-align: middle;\n",
       "    }\n",
       "\n",
       "    .dataframe tbody tr th {\n",
       "        vertical-align: top;\n",
       "    }\n",
       "\n",
       "    .dataframe thead th {\n",
       "        text-align: right;\n",
       "    }\n",
       "</style>\n",
       "<table border=\"1\" class=\"dataframe\">\n",
       "  <thead>\n",
       "    <tr style=\"text-align: right;\">\n",
       "      <th></th>\n",
       "      <th>Date</th>\n",
       "      <th>News</th>\n",
       "      <th>High</th>\n",
       "      <th>Low</th>\n",
       "      <th>Open</th>\n",
       "      <th>Close</th>\n",
       "      <th>Volume</th>\n",
       "      <th>Adj Close</th>\n",
       "    </tr>\n",
       "  </thead>\n",
       "  <tbody>\n",
       "    <tr>\n",
       "      <th>0</th>\n",
       "      <td>2017-01-02</td>\n",
       "      <td>Destress plan for the first Monday of 2017</td>\n",
       "      <td>26720.980469</td>\n",
       "      <td>26447.060547</td>\n",
       "      <td>26711.150391</td>\n",
       "      <td>26595.449219</td>\n",
       "      <td>8000.0</td>\n",
       "      <td>26595.449219</td>\n",
       "    </tr>\n",
       "    <tr>\n",
       "      <th>1</th>\n",
       "      <td>2017-01-02</td>\n",
       "      <td>Pune: Tribunal grants Rs 28.93 lakh as damage ...</td>\n",
       "      <td>26720.980469</td>\n",
       "      <td>26447.060547</td>\n",
       "      <td>26711.150391</td>\n",
       "      <td>26595.449219</td>\n",
       "      <td>8000.0</td>\n",
       "      <td>26595.449219</td>\n",
       "    </tr>\n",
       "    <tr>\n",
       "      <th>2</th>\n",
       "      <td>2017-01-02</td>\n",
       "      <td>Villages near Tehri Lake; Devalsari and Ranikh...</td>\n",
       "      <td>26720.980469</td>\n",
       "      <td>26447.060547</td>\n",
       "      <td>26711.150391</td>\n",
       "      <td>26595.449219</td>\n",
       "      <td>8000.0</td>\n",
       "      <td>26595.449219</td>\n",
       "    </tr>\n",
       "    <tr>\n",
       "      <th>3</th>\n",
       "      <td>2017-01-02</td>\n",
       "      <td>Rebellion; show of unity; sting operations; Co...</td>\n",
       "      <td>26720.980469</td>\n",
       "      <td>26447.060547</td>\n",
       "      <td>26711.150391</td>\n",
       "      <td>26595.449219</td>\n",
       "      <td>8000.0</td>\n",
       "      <td>26595.449219</td>\n",
       "    </tr>\n",
       "    <tr>\n",
       "      <th>4</th>\n",
       "      <td>2017-01-02</td>\n",
       "      <td>Haldwani surgeons find 'belan' in woman's abdomen</td>\n",
       "      <td>26720.980469</td>\n",
       "      <td>26447.060547</td>\n",
       "      <td>26711.150391</td>\n",
       "      <td>26595.449219</td>\n",
       "      <td>8000.0</td>\n",
       "      <td>26595.449219</td>\n",
       "    </tr>\n",
       "    <tr>\n",
       "      <th>...</th>\n",
       "      <td>...</td>\n",
       "      <td>...</td>\n",
       "      <td>...</td>\n",
       "      <td>...</td>\n",
       "      <td>...</td>\n",
       "      <td>...</td>\n",
       "      <td>...</td>\n",
       "      <td>...</td>\n",
       "    </tr>\n",
       "    <tr>\n",
       "      <th>742922</th>\n",
       "      <td>2022-03-31</td>\n",
       "      <td>J&amp;K sacks 2 cops; 3 other employees over terro...</td>\n",
       "      <td>58890.921875</td>\n",
       "      <td>58485.789062</td>\n",
       "      <td>58779.710938</td>\n",
       "      <td>58568.511719</td>\n",
       "      <td>4400.0</td>\n",
       "      <td>58568.511719</td>\n",
       "    </tr>\n",
       "    <tr>\n",
       "      <th>742923</th>\n",
       "      <td>2022-03-31</td>\n",
       "      <td>Ranbir Kapoor says 'Rishi Kapoor enjoyed his a...</td>\n",
       "      <td>58890.921875</td>\n",
       "      <td>58485.789062</td>\n",
       "      <td>58779.710938</td>\n",
       "      <td>58568.511719</td>\n",
       "      <td>4400.0</td>\n",
       "      <td>58568.511719</td>\n",
       "    </tr>\n",
       "    <tr>\n",
       "      <th>742924</th>\n",
       "      <td>2022-03-31</td>\n",
       "      <td>As Covid-19 cases drop to nil in southern dist...</td>\n",
       "      <td>58890.921875</td>\n",
       "      <td>58485.789062</td>\n",
       "      <td>58779.710938</td>\n",
       "      <td>58568.511719</td>\n",
       "      <td>4400.0</td>\n",
       "      <td>58568.511719</td>\n",
       "    </tr>\n",
       "    <tr>\n",
       "      <th>742925</th>\n",
       "      <td>2022-03-31</td>\n",
       "      <td>Tamil Nadu sees marginal rise of Covid cases w...</td>\n",
       "      <td>58890.921875</td>\n",
       "      <td>58485.789062</td>\n",
       "      <td>58779.710938</td>\n",
       "      <td>58568.511719</td>\n",
       "      <td>4400.0</td>\n",
       "      <td>58568.511719</td>\n",
       "    </tr>\n",
       "    <tr>\n",
       "      <th>742926</th>\n",
       "      <td>2022-03-31</td>\n",
       "      <td>Tamil Nadu sees marginal rise of Covid cases w...</td>\n",
       "      <td>58890.921875</td>\n",
       "      <td>58485.789062</td>\n",
       "      <td>58779.710938</td>\n",
       "      <td>58568.511719</td>\n",
       "      <td>4400.0</td>\n",
       "      <td>58568.511719</td>\n",
       "    </tr>\n",
       "  </tbody>\n",
       "</table>\n",
       "<p>742927 rows × 8 columns</p>\n",
       "</div>"
      ],
      "text/plain": [
       "             Date                                               News  \\\n",
       "0      2017-01-02         Destress plan for the first Monday of 2017   \n",
       "1      2017-01-02  Pune: Tribunal grants Rs 28.93 lakh as damage ...   \n",
       "2      2017-01-02  Villages near Tehri Lake; Devalsari and Ranikh...   \n",
       "3      2017-01-02  Rebellion; show of unity; sting operations; Co...   \n",
       "4      2017-01-02  Haldwani surgeons find 'belan' in woman's abdomen   \n",
       "...           ...                                                ...   \n",
       "742922 2022-03-31  J&K sacks 2 cops; 3 other employees over terro...   \n",
       "742923 2022-03-31  Ranbir Kapoor says 'Rishi Kapoor enjoyed his a...   \n",
       "742924 2022-03-31  As Covid-19 cases drop to nil in southern dist...   \n",
       "742925 2022-03-31  Tamil Nadu sees marginal rise of Covid cases w...   \n",
       "742926 2022-03-31  Tamil Nadu sees marginal rise of Covid cases w...   \n",
       "\n",
       "                High           Low          Open         Close  Volume  \\\n",
       "0       26720.980469  26447.060547  26711.150391  26595.449219  8000.0   \n",
       "1       26720.980469  26447.060547  26711.150391  26595.449219  8000.0   \n",
       "2       26720.980469  26447.060547  26711.150391  26595.449219  8000.0   \n",
       "3       26720.980469  26447.060547  26711.150391  26595.449219  8000.0   \n",
       "4       26720.980469  26447.060547  26711.150391  26595.449219  8000.0   \n",
       "...              ...           ...           ...           ...     ...   \n",
       "742922  58890.921875  58485.789062  58779.710938  58568.511719  4400.0   \n",
       "742923  58890.921875  58485.789062  58779.710938  58568.511719  4400.0   \n",
       "742924  58890.921875  58485.789062  58779.710938  58568.511719  4400.0   \n",
       "742925  58890.921875  58485.789062  58779.710938  58568.511719  4400.0   \n",
       "742926  58890.921875  58485.789062  58779.710938  58568.511719  4400.0   \n",
       "\n",
       "           Adj Close  \n",
       "0       26595.449219  \n",
       "1       26595.449219  \n",
       "2       26595.449219  \n",
       "3       26595.449219  \n",
       "4       26595.449219  \n",
       "...              ...  \n",
       "742922  58568.511719  \n",
       "742923  58568.511719  \n",
       "742924  58568.511719  \n",
       "742925  58568.511719  \n",
       "742926  58568.511719  \n",
       "\n",
       "[742927 rows x 8 columns]"
      ]
     },
     "execution_count": 29,
     "metadata": {},
     "output_type": "execute_result"
    }
   ],
   "source": [
    "#Just to look whether they are able to get merged or not ,lets perform the merge.\n",
    "\n",
    "Temp_merge=pd.merge(news,stock,how='inner',on='Date')\n",
    "Temp_merge"
   ]
  },
  {
   "cell_type": "code",
   "execution_count": 30,
   "id": "f06fcdb7",
   "metadata": {},
   "outputs": [
    {
     "data": {
      "text/plain": [
       "Date         0\n",
       "News         0\n",
       "High         0\n",
       "Low          0\n",
       "Open         0\n",
       "Close        0\n",
       "Volume       0\n",
       "Adj Close    0\n",
       "dtype: int64"
      ]
     },
     "execution_count": 30,
     "metadata": {},
     "output_type": "execute_result"
    }
   ],
   "source": [
    "Temp_merge.isnull().sum()   #No null value is there."
   ]
  },
  {
   "cell_type": "code",
   "execution_count": 31,
   "id": "f8dc3f73",
   "metadata": {},
   "outputs": [
    {
     "data": {
      "text/plain": [
       "Date    0\n",
       "News    0\n",
       "dtype: int64"
      ]
     },
     "execution_count": 31,
     "metadata": {},
     "output_type": "execute_result"
    }
   ],
   "source": [
    "#This is to check whether there is any null value present in the dataset or not.\n",
    "news.isnull().sum()    #This shows no null value is there in any of the column."
   ]
  },
  {
   "cell_type": "code",
   "execution_count": 32,
   "id": "a1e02604",
   "metadata": {},
   "outputs": [
    {
     "data": {
      "text/plain": [
       "162098"
      ]
     },
     "execution_count": 32,
     "metadata": {},
     "output_type": "execute_result"
    }
   ],
   "source": [
    "#This is to check wheather there is any duplicate value is there or not?\n",
    "\n",
    "news.duplicated().sum()"
   ]
  },
  {
   "cell_type": "code",
   "execution_count": 33,
   "id": "bcc005be",
   "metadata": {},
   "outputs": [
    {
     "data": {
      "text/plain": [
       "3488872"
      ]
     },
     "execution_count": 33,
     "metadata": {},
     "output_type": "execute_result"
    }
   ],
   "source": [
    "#This above value shows that yes there are duplicated values present in the dataset .\n",
    "\n",
    "# for getting the non-duplicate values = total values -duplicate values\n",
    "\n",
    "3650970-162098"
   ]
  },
  {
   "cell_type": "code",
   "execution_count": 34,
   "id": "d958b303",
   "metadata": {},
   "outputs": [],
   "source": [
    "#3626110 this must be non duplicate values.Lets obtain it by code.\n",
    "\n",
    "news.drop_duplicates(inplace=True)"
   ]
  },
  {
   "cell_type": "code",
   "execution_count": 35,
   "id": "4791dba8",
   "metadata": {},
   "outputs": [
    {
     "data": {
      "text/plain": [
       "0"
      ]
     },
     "execution_count": 35,
     "metadata": {},
     "output_type": "execute_result"
    }
   ],
   "source": [
    "news.duplicated().sum()     # This 0 shows that , there is no more dupliacte values .Lets check the shape now rows must be\n",
    "                            #equal to 3488872."
   ]
  },
  {
   "cell_type": "code",
   "execution_count": 36,
   "id": "a8e1df40",
   "metadata": {},
   "outputs": [
    {
     "data": {
      "text/plain": [
       "(3488872, 2)"
      ]
     },
     "execution_count": 36,
     "metadata": {},
     "output_type": "execute_result"
    }
   ],
   "source": [
    "news.shape   #We got the correct answer.Lets move further."
   ]
  },
  {
   "cell_type": "code",
   "execution_count": 37,
   "id": "e25de018",
   "metadata": {},
   "outputs": [],
   "source": [
    "#For now there is no use of Category.So we need to drop the column Category,"
   ]
  },
  {
   "cell_type": "code",
   "execution_count": 38,
   "id": "92dfe38e",
   "metadata": {},
   "outputs": [],
   "source": [
    "#Lets Remove the special charaters from the news text by creating a function."
   ]
  },
  {
   "cell_type": "code",
   "execution_count": 39,
   "id": "8dd182f7",
   "metadata": {},
   "outputs": [],
   "source": [
    "def remove_special_chars(text):\n",
    "    result=\" \"\n",
    "    \n",
    "    for i in text:\n",
    "        if i.isalnum()  or i==' ':   # The isalnum() method returns True if all characters in the string are alphanumeric \n",
    "                                     # (either alphabets or numbers). If not, it returns False.\n",
    "            result= result+i\n",
    "            # print(result)\n",
    "        else:\n",
    "            result=result + \" \"\n",
    "    return result.strip()        "
   ]
  },
  {
   "cell_type": "code",
   "execution_count": 40,
   "id": "4baf2646",
   "metadata": {},
   "outputs": [
    {
     "data": {
      "text/plain": [
       "'Status quo will not be disturbed at Ayodhya; says Vajpayee'"
      ]
     },
     "execution_count": 40,
     "metadata": {},
     "output_type": "execute_result"
    }
   ],
   "source": [
    "news['News'][0]    #here  ; semicolon is a special charater."
   ]
  },
  {
   "cell_type": "code",
   "execution_count": 41,
   "id": "2c01140b",
   "metadata": {},
   "outputs": [
    {
     "data": {
      "text/plain": [
       "'Status quo will not be disturbed at Ayodhya  says Vajpayee'"
      ]
     },
     "execution_count": 41,
     "metadata": {},
     "output_type": "execute_result"
    }
   ],
   "source": [
    "remove_special_chars('Status quo will not be disturbed at Ayodhya; says Vajpayee')\n"
   ]
  },
  {
   "cell_type": "code",
   "execution_count": 42,
   "id": "67e603f5",
   "metadata": {},
   "outputs": [
    {
     "data": {
      "text/plain": [
       "\"America's unwanted heading for India?\""
      ]
     },
     "execution_count": 42,
     "metadata": {},
     "output_type": "execute_result"
    }
   ],
   "source": [
    "news['News'][2]    #here ? question mark is a special charater."
   ]
  },
  {
   "cell_type": "code",
   "execution_count": 43,
   "id": "47156090",
   "metadata": {},
   "outputs": [
    {
     "data": {
      "text/plain": [
       "'America s unwanted heading for India'"
      ]
     },
     "execution_count": 43,
     "metadata": {},
     "output_type": "execute_result"
    }
   ],
   "source": [
    "remove_special_chars(\"America's unwanted heading for India?\")"
   ]
  },
  {
   "cell_type": "code",
   "execution_count": 44,
   "id": "7bd64c6f",
   "metadata": {},
   "outputs": [],
   "source": [
    "#So ensures that this function is working."
   ]
  },
  {
   "cell_type": "code",
   "execution_count": 45,
   "id": "13c9e92b",
   "metadata": {},
   "outputs": [],
   "source": [
    "headlines_df=news"
   ]
  },
  {
   "cell_type": "code",
   "execution_count": 46,
   "id": "c6171308",
   "metadata": {},
   "outputs": [],
   "source": [
    "#Applying the special charater removal function of news headlines.\n",
    "\n",
    "headlines_df['News']=headlines_df['News'].apply(remove_special_chars)"
   ]
  },
  {
   "cell_type": "code",
   "execution_count": 47,
   "id": "8551c704",
   "metadata": {},
   "outputs": [],
   "source": [
    "#So we can compare Before_removal of Special charater and after removal of special charater."
   ]
  },
  {
   "cell_type": "code",
   "execution_count": 48,
   "id": "8257c54d",
   "metadata": {},
   "outputs": [
    {
     "data": {
      "text/plain": [
       "'America s unwanted heading for India'"
      ]
     },
     "execution_count": 48,
     "metadata": {},
     "output_type": "execute_result"
    }
   ],
   "source": [
    "before=news['News'][2]\n",
    "before"
   ]
  },
  {
   "cell_type": "code",
   "execution_count": 49,
   "id": "4a731e93",
   "metadata": {},
   "outputs": [
    {
     "data": {
      "text/plain": [
       "'America s unwanted heading for India'"
      ]
     },
     "execution_count": 49,
     "metadata": {},
     "output_type": "execute_result"
    }
   ],
   "source": [
    "after=headlines_df['News'][2]                 #This shows this function got applied on all the text healines.\n",
    "after"
   ]
  },
  {
   "cell_type": "code",
   "execution_count": 50,
   "id": "d5c9ed5d",
   "metadata": {},
   "outputs": [],
   "source": [
    "#Grouping all the headlines for each day.\n",
    "\n",
    "headlines_df['News']=headlines_df.groupby(['Date']).transform(lambda x: \" \".join(x))   \n",
    "\n",
    "#This is to join all the news of same date, in just one paragraph kind of."
   ]
  },
  {
   "cell_type": "code",
   "execution_count": 51,
   "id": "b41f69c9",
   "metadata": {
    "scrolled": true
   },
   "outputs": [
    {
     "data": {
      "text/html": [
       "<div>\n",
       "<style scoped>\n",
       "    .dataframe tbody tr th:only-of-type {\n",
       "        vertical-align: middle;\n",
       "    }\n",
       "\n",
       "    .dataframe tbody tr th {\n",
       "        vertical-align: top;\n",
       "    }\n",
       "\n",
       "    .dataframe thead th {\n",
       "        text-align: right;\n",
       "    }\n",
       "</style>\n",
       "<table border=\"1\" class=\"dataframe\">\n",
       "  <thead>\n",
       "    <tr style=\"text-align: right;\">\n",
       "      <th></th>\n",
       "      <th>Date</th>\n",
       "      <th>News</th>\n",
       "    </tr>\n",
       "  </thead>\n",
       "  <tbody>\n",
       "    <tr>\n",
       "      <th>0</th>\n",
       "      <td>2001-01-02</td>\n",
       "      <td>Status quo will not be disturbed at Ayodhya  s...</td>\n",
       "    </tr>\n",
       "    <tr>\n",
       "      <th>1</th>\n",
       "      <td>2001-01-02</td>\n",
       "      <td>Status quo will not be disturbed at Ayodhya  s...</td>\n",
       "    </tr>\n",
       "    <tr>\n",
       "      <th>2</th>\n",
       "      <td>2001-01-02</td>\n",
       "      <td>Status quo will not be disturbed at Ayodhya  s...</td>\n",
       "    </tr>\n",
       "    <tr>\n",
       "      <th>3</th>\n",
       "      <td>2001-01-02</td>\n",
       "      <td>Status quo will not be disturbed at Ayodhya  s...</td>\n",
       "    </tr>\n",
       "    <tr>\n",
       "      <th>4</th>\n",
       "      <td>2001-01-02</td>\n",
       "      <td>Status quo will not be disturbed at Ayodhya  s...</td>\n",
       "    </tr>\n",
       "    <tr>\n",
       "      <th>5</th>\n",
       "      <td>2001-01-02</td>\n",
       "      <td>Status quo will not be disturbed at Ayodhya  s...</td>\n",
       "    </tr>\n",
       "    <tr>\n",
       "      <th>6</th>\n",
       "      <td>2001-01-02</td>\n",
       "      <td>Status quo will not be disturbed at Ayodhya  s...</td>\n",
       "    </tr>\n",
       "    <tr>\n",
       "      <th>7</th>\n",
       "      <td>2001-01-02</td>\n",
       "      <td>Status quo will not be disturbed at Ayodhya  s...</td>\n",
       "    </tr>\n",
       "    <tr>\n",
       "      <th>8</th>\n",
       "      <td>2001-01-02</td>\n",
       "      <td>Status quo will not be disturbed at Ayodhya  s...</td>\n",
       "    </tr>\n",
       "    <tr>\n",
       "      <th>9</th>\n",
       "      <td>2001-01-02</td>\n",
       "      <td>Status quo will not be disturbed at Ayodhya  s...</td>\n",
       "    </tr>\n",
       "    <tr>\n",
       "      <th>10</th>\n",
       "      <td>2001-01-02</td>\n",
       "      <td>Status quo will not be disturbed at Ayodhya  s...</td>\n",
       "    </tr>\n",
       "    <tr>\n",
       "      <th>11</th>\n",
       "      <td>2001-01-02</td>\n",
       "      <td>Status quo will not be disturbed at Ayodhya  s...</td>\n",
       "    </tr>\n",
       "    <tr>\n",
       "      <th>12</th>\n",
       "      <td>2001-01-02</td>\n",
       "      <td>Status quo will not be disturbed at Ayodhya  s...</td>\n",
       "    </tr>\n",
       "    <tr>\n",
       "      <th>13</th>\n",
       "      <td>2001-01-02</td>\n",
       "      <td>Status quo will not be disturbed at Ayodhya  s...</td>\n",
       "    </tr>\n",
       "    <tr>\n",
       "      <th>14</th>\n",
       "      <td>2001-01-02</td>\n",
       "      <td>Status quo will not be disturbed at Ayodhya  s...</td>\n",
       "    </tr>\n",
       "    <tr>\n",
       "      <th>15</th>\n",
       "      <td>2001-01-02</td>\n",
       "      <td>Status quo will not be disturbed at Ayodhya  s...</td>\n",
       "    </tr>\n",
       "    <tr>\n",
       "      <th>16</th>\n",
       "      <td>2001-01-02</td>\n",
       "      <td>Status quo will not be disturbed at Ayodhya  s...</td>\n",
       "    </tr>\n",
       "    <tr>\n",
       "      <th>17</th>\n",
       "      <td>2001-01-02</td>\n",
       "      <td>Status quo will not be disturbed at Ayodhya  s...</td>\n",
       "    </tr>\n",
       "    <tr>\n",
       "      <th>18</th>\n",
       "      <td>2001-01-02</td>\n",
       "      <td>Status quo will not be disturbed at Ayodhya  s...</td>\n",
       "    </tr>\n",
       "    <tr>\n",
       "      <th>19</th>\n",
       "      <td>2001-01-02</td>\n",
       "      <td>Status quo will not be disturbed at Ayodhya  s...</td>\n",
       "    </tr>\n",
       "    <tr>\n",
       "      <th>21</th>\n",
       "      <td>2001-01-02</td>\n",
       "      <td>Status quo will not be disturbed at Ayodhya  s...</td>\n",
       "    </tr>\n",
       "    <tr>\n",
       "      <th>22</th>\n",
       "      <td>2001-01-02</td>\n",
       "      <td>Status quo will not be disturbed at Ayodhya  s...</td>\n",
       "    </tr>\n",
       "    <tr>\n",
       "      <th>23</th>\n",
       "      <td>2001-01-02</td>\n",
       "      <td>Status quo will not be disturbed at Ayodhya  s...</td>\n",
       "    </tr>\n",
       "    <tr>\n",
       "      <th>24</th>\n",
       "      <td>2001-01-02</td>\n",
       "      <td>Status quo will not be disturbed at Ayodhya  s...</td>\n",
       "    </tr>\n",
       "    <tr>\n",
       "      <th>25</th>\n",
       "      <td>2001-01-02</td>\n",
       "      <td>Status quo will not be disturbed at Ayodhya  s...</td>\n",
       "    </tr>\n",
       "    <tr>\n",
       "      <th>52</th>\n",
       "      <td>2001-01-02</td>\n",
       "      <td>Status quo will not be disturbed at Ayodhya  s...</td>\n",
       "    </tr>\n",
       "    <tr>\n",
       "      <th>53</th>\n",
       "      <td>2001-01-02</td>\n",
       "      <td>Status quo will not be disturbed at Ayodhya  s...</td>\n",
       "    </tr>\n",
       "    <tr>\n",
       "      <th>54</th>\n",
       "      <td>2001-01-02</td>\n",
       "      <td>Status quo will not be disturbed at Ayodhya  s...</td>\n",
       "    </tr>\n",
       "    <tr>\n",
       "      <th>55</th>\n",
       "      <td>2001-01-02</td>\n",
       "      <td>Status quo will not be disturbed at Ayodhya  s...</td>\n",
       "    </tr>\n",
       "    <tr>\n",
       "      <th>56</th>\n",
       "      <td>2001-01-02</td>\n",
       "      <td>Status quo will not be disturbed at Ayodhya  s...</td>\n",
       "    </tr>\n",
       "  </tbody>\n",
       "</table>\n",
       "</div>"
      ],
      "text/plain": [
       "         Date                                               News\n",
       "0  2001-01-02  Status quo will not be disturbed at Ayodhya  s...\n",
       "1  2001-01-02  Status quo will not be disturbed at Ayodhya  s...\n",
       "2  2001-01-02  Status quo will not be disturbed at Ayodhya  s...\n",
       "3  2001-01-02  Status quo will not be disturbed at Ayodhya  s...\n",
       "4  2001-01-02  Status quo will not be disturbed at Ayodhya  s...\n",
       "5  2001-01-02  Status quo will not be disturbed at Ayodhya  s...\n",
       "6  2001-01-02  Status quo will not be disturbed at Ayodhya  s...\n",
       "7  2001-01-02  Status quo will not be disturbed at Ayodhya  s...\n",
       "8  2001-01-02  Status quo will not be disturbed at Ayodhya  s...\n",
       "9  2001-01-02  Status quo will not be disturbed at Ayodhya  s...\n",
       "10 2001-01-02  Status quo will not be disturbed at Ayodhya  s...\n",
       "11 2001-01-02  Status quo will not be disturbed at Ayodhya  s...\n",
       "12 2001-01-02  Status quo will not be disturbed at Ayodhya  s...\n",
       "13 2001-01-02  Status quo will not be disturbed at Ayodhya  s...\n",
       "14 2001-01-02  Status quo will not be disturbed at Ayodhya  s...\n",
       "15 2001-01-02  Status quo will not be disturbed at Ayodhya  s...\n",
       "16 2001-01-02  Status quo will not be disturbed at Ayodhya  s...\n",
       "17 2001-01-02  Status quo will not be disturbed at Ayodhya  s...\n",
       "18 2001-01-02  Status quo will not be disturbed at Ayodhya  s...\n",
       "19 2001-01-02  Status quo will not be disturbed at Ayodhya  s...\n",
       "21 2001-01-02  Status quo will not be disturbed at Ayodhya  s...\n",
       "22 2001-01-02  Status quo will not be disturbed at Ayodhya  s...\n",
       "23 2001-01-02  Status quo will not be disturbed at Ayodhya  s...\n",
       "24 2001-01-02  Status quo will not be disturbed at Ayodhya  s...\n",
       "25 2001-01-02  Status quo will not be disturbed at Ayodhya  s...\n",
       "52 2001-01-02  Status quo will not be disturbed at Ayodhya  s...\n",
       "53 2001-01-02  Status quo will not be disturbed at Ayodhya  s...\n",
       "54 2001-01-02  Status quo will not be disturbed at Ayodhya  s...\n",
       "55 2001-01-02  Status quo will not be disturbed at Ayodhya  s...\n",
       "56 2001-01-02  Status quo will not be disturbed at Ayodhya  s..."
      ]
     },
     "execution_count": 51,
     "metadata": {},
     "output_type": "execute_result"
    }
   ],
   "source": [
    "headlines_df.head(30)     #This seems like , the grouped text para , is repeating itself.\n",
    "                          #Also indexing is also not correct as after 25 ,  52 appeard which is wrong.\n",
    "                          "
   ]
  },
  {
   "cell_type": "code",
   "execution_count": 52,
   "id": "d2aa2b96",
   "metadata": {},
   "outputs": [],
   "source": [
    "#Lets check the para first of any two index."
   ]
  },
  {
   "cell_type": "code",
   "execution_count": 53,
   "id": "1a2ecfbd",
   "metadata": {},
   "outputs": [
    {
     "data": {
      "text/plain": [
       "'Status quo will not be disturbed at Ayodhya  says Vajpayee Fissures in Hurriyat over Pak visit America s unwanted heading for India For bigwigs  it is destination Goa Extra buses to clear tourist traffic Dilute the power of transfers  says Riberio Focus shifts to teaching of Hindi IT will become compulsory in schools Move to stop freedom fighters  pension flayed Gilani claims he applied for passport 2 years ago Parivar dismisses PM s warning India  Pak exchange lists of N plants Will Qureshi s return really help the govt PM s tacit message  Put Ram tample on hold Text of the Prime Minister s article NCW to focus on violence against women BBC s reality TV will focus on AIIMS Jaitley firm on legal reforms Hoshangabad farmers have enough water BJP jumps into rail track conversion issue State may take AP to court over Krishna This official has sued the briber Park turns temple compound as residents watch Moves afoot to evict squatters in Urban dist Mafia calls the shots in Gandhinagar too Come to Nandi Hills   and you can fly HAL approached for super jumbo project Nagathihalli returns with Preethiya Hudugi Fashion in the future Promises to keep Home is where the holistic science is A noisy effort to spruce up Commercial Street The best music of the year Redemption night  amid some rock Consul is back from month long leave Bomb hoax triggers panic in Canara Bank Petition over ministers  assets dismissed He beat polio  but a truck driver s is no life Destroying myths and doubts on sexuality Planning Dept seeks Rs 350 crore more More engg colleges if needed in state  Govt Auto driver s murder  4 held Meet held on cashew crop forecasting Awareness rally on AIDS today Record power generation at RTPS Snags delay digital maps of city Making education a people s movement Murder spoils 2001 party in Dharwad Now a website on a seer Akki Alur and Ranebennur peaceful Weekly editor resorts to hunger strike Bickering cost Dal S  seats  admits Gowda BJP to block traffic statewide on Jan 6 Dr Patwardhan to be felicitated Lingambudhi will be turned into bird sanctuary Cactus which made it to Guinness is dying VIPs suffer as power supply is stopped to govt guest houses Raju Chacha'"
      ]
     },
     "execution_count": 53,
     "metadata": {},
     "output_type": "execute_result"
    }
   ],
   "source": [
    "headlines_df['News'][0]"
   ]
  },
  {
   "cell_type": "code",
   "execution_count": 54,
   "id": "cd974909",
   "metadata": {},
   "outputs": [
    {
     "data": {
      "text/plain": [
       "'Status quo will not be disturbed at Ayodhya  says Vajpayee Fissures in Hurriyat over Pak visit America s unwanted heading for India For bigwigs  it is destination Goa Extra buses to clear tourist traffic Dilute the power of transfers  says Riberio Focus shifts to teaching of Hindi IT will become compulsory in schools Move to stop freedom fighters  pension flayed Gilani claims he applied for passport 2 years ago Parivar dismisses PM s warning India  Pak exchange lists of N plants Will Qureshi s return really help the govt PM s tacit message  Put Ram tample on hold Text of the Prime Minister s article NCW to focus on violence against women BBC s reality TV will focus on AIIMS Jaitley firm on legal reforms Hoshangabad farmers have enough water BJP jumps into rail track conversion issue State may take AP to court over Krishna This official has sued the briber Park turns temple compound as residents watch Moves afoot to evict squatters in Urban dist Mafia calls the shots in Gandhinagar too Come to Nandi Hills   and you can fly HAL approached for super jumbo project Nagathihalli returns with Preethiya Hudugi Fashion in the future Promises to keep Home is where the holistic science is A noisy effort to spruce up Commercial Street The best music of the year Redemption night  amid some rock Consul is back from month long leave Bomb hoax triggers panic in Canara Bank Petition over ministers  assets dismissed He beat polio  but a truck driver s is no life Destroying myths and doubts on sexuality Planning Dept seeks Rs 350 crore more More engg colleges if needed in state  Govt Auto driver s murder  4 held Meet held on cashew crop forecasting Awareness rally on AIDS today Record power generation at RTPS Snags delay digital maps of city Making education a people s movement Murder spoils 2001 party in Dharwad Now a website on a seer Akki Alur and Ranebennur peaceful Weekly editor resorts to hunger strike Bickering cost Dal S  seats  admits Gowda BJP to block traffic statewide on Jan 6 Dr Patwardhan to be felicitated Lingambudhi will be turned into bird sanctuary Cactus which made it to Guinness is dying VIPs suffer as power supply is stopped to govt guest houses Raju Chacha'"
      ]
     },
     "execution_count": 54,
     "metadata": {},
     "output_type": "execute_result"
    }
   ],
   "source": [
    "headlines_df['News'][10]"
   ]
  },
  {
   "cell_type": "code",
   "execution_count": 55,
   "id": "24ef50cd",
   "metadata": {},
   "outputs": [],
   "source": [
    "#So we can clearly observe that this is repeating the entire paragraph so we need to drop the duplicates and reset the index .\n",
    "\n",
    "headlines_df.drop_duplicates(inplace=True)"
   ]
  },
  {
   "cell_type": "code",
   "execution_count": 56,
   "id": "e898a3bd",
   "metadata": {},
   "outputs": [],
   "source": [
    "headlines_df.reset_index(inplace=True,drop=True)"
   ]
  },
  {
   "cell_type": "code",
   "execution_count": 57,
   "id": "8f32cfda",
   "metadata": {},
   "outputs": [
    {
     "data": {
      "text/html": [
       "<div>\n",
       "<style scoped>\n",
       "    .dataframe tbody tr th:only-of-type {\n",
       "        vertical-align: middle;\n",
       "    }\n",
       "\n",
       "    .dataframe tbody tr th {\n",
       "        vertical-align: top;\n",
       "    }\n",
       "\n",
       "    .dataframe thead th {\n",
       "        text-align: right;\n",
       "    }\n",
       "</style>\n",
       "<table border=\"1\" class=\"dataframe\">\n",
       "  <thead>\n",
       "    <tr style=\"text-align: right;\">\n",
       "      <th></th>\n",
       "      <th>Date</th>\n",
       "      <th>News</th>\n",
       "    </tr>\n",
       "  </thead>\n",
       "  <tbody>\n",
       "    <tr>\n",
       "      <th>0</th>\n",
       "      <td>2001-01-02</td>\n",
       "      <td>Status quo will not be disturbed at Ayodhya  s...</td>\n",
       "    </tr>\n",
       "    <tr>\n",
       "      <th>1</th>\n",
       "      <td>2001-01-03</td>\n",
       "      <td>Powerless north India gropes in the dark Think...</td>\n",
       "    </tr>\n",
       "    <tr>\n",
       "      <th>2</th>\n",
       "      <td>2001-01-04</td>\n",
       "      <td>The string that pulled Stephen Hawking to Indi...</td>\n",
       "    </tr>\n",
       "    <tr>\n",
       "      <th>3</th>\n",
       "      <td>2001-01-05</td>\n",
       "      <td>Light combat craft takes India into club class...</td>\n",
       "    </tr>\n",
       "    <tr>\n",
       "      <th>4</th>\n",
       "      <td>2001-01-06</td>\n",
       "      <td>Light combat craft takes India into club class...</td>\n",
       "    </tr>\n",
       "  </tbody>\n",
       "</table>\n",
       "</div>"
      ],
      "text/plain": [
       "        Date                                               News\n",
       "0 2001-01-02  Status quo will not be disturbed at Ayodhya  s...\n",
       "1 2001-01-03  Powerless north India gropes in the dark Think...\n",
       "2 2001-01-04  The string that pulled Stephen Hawking to Indi...\n",
       "3 2001-01-05  Light combat craft takes India into club class...\n",
       "4 2001-01-06  Light combat craft takes India into club class..."
      ]
     },
     "execution_count": 57,
     "metadata": {},
     "output_type": "execute_result"
    }
   ],
   "source": [
    "headlines_df.head()"
   ]
  },
  {
   "cell_type": "code",
   "execution_count": 58,
   "id": "9e564d4c",
   "metadata": {},
   "outputs": [
    {
     "data": {
      "text/plain": [
       "(7717, 2)"
      ]
     },
     "execution_count": 58,
     "metadata": {},
     "output_type": "execute_result"
    }
   ],
   "source": [
    "headlines_df.shape    #Now we have only the unique news .and shape got reduced to 7717."
   ]
  },
  {
   "cell_type": "markdown",
   "id": "c24ca890",
   "metadata": {},
   "source": [
    "##### *  Textual Dataset Pre-Processing "
   ]
  },
  {
   "cell_type": "markdown",
   "id": "0a381827",
   "metadata": {},
   "source": [
    "###### Understand the Polarity and Subjectivity \n",
    "\n",
    "\n",
    "* Polarity, also known as orientation of the emotion expressed in the sentence. It can be positive, neagtive or neutral.\n",
    "* Subjectivity is when text is an explanatory article which must be analysed in context."
   ]
  },
  {
   "cell_type": "markdown",
   "id": "b881d27c",
   "metadata": {},
   "source": [
    "Polarity : \n",
    "It refers to the strength of an opinion. It could be positive or negative. If something has a strong positive feeling or emotion associated with it, such as admiration, trust, love; this will indeed have a certain orientation towards all other aspects of that object’s existence. The same goes for negative polarities. A good example would be the following: ‘I don’t think I’ll buy this item because my previous experience with a similar item wasn’t so good.’ That will have a negative polarity.\n",
    "\n",
    "\n",
    "\n",
    "The strength of positive and negative polarities can vary depending on the situation, but they are still considered to be strongly positive or negative.The use of these words might indicate how much they value an object in a subjective way or not; therefore, subjectivity comes into play here as well.\n",
    "\n",
    "-------------------------------------------------------------------------------------------------------------------------------\n",
    "Subjectivity : \n",
    "It refers to the degree to which a person is personally involved in an object. What matters the most here are personal connections and individual experiences with that object, which may or may not differ from someone else’s point of view. For example: ‘I’m very happy with my new smartphone because it has the highest performance available on the market.’ Similarly to polarity, strong subjectivity may be negative or positive. The statement here is clearly subjective because the user is actually talking about his experience and how he feels about an object.\n",
    "\n",
    "\n",
    "\n",
    "Sentiment analysis tools must be able to distinguish between both polarity and subjectivity in order to analyze users’ opinions correctly. An opinion can have a high degree of subjectivity if it’s expressed as a personal experience, whereas a low degree may indicate someone else’s viewpoint on something else. \n",
    "Sentiments can also have different levels of polarity throughout different ways of communication – e-mails, chats or other posts might be either strongly positive, negative or; in some other cases, they might have even a neutral polarity."
   ]
  },
  {
   "cell_type": "code",
   "execution_count": 59,
   "id": "e2aa3cc9",
   "metadata": {},
   "outputs": [],
   "source": [
    "#Function to get Subjectivity and Polarity.\n",
    "\n",
    "def get_subjectivity(text):\n",
    "    return TextBlob(text).sentiment.subjectivity\n",
    "\n",
    "\n",
    "def get_polarity(text):\n",
    "    return TextBlob(text).sentiment.polarity"
   ]
  },
  {
   "cell_type": "code",
   "execution_count": 60,
   "id": "c009960e",
   "metadata": {},
   "outputs": [],
   "source": [
    "#Applying subjectivity and polarity to the columns\n",
    "\n",
    "headlines_df['Subjectivity']=headlines_df['News'].apply(get_subjectivity)\n",
    "headlines_df['Polarity']=headlines_df['News'].apply(get_polarity)"
   ]
  },
  {
   "cell_type": "code",
   "execution_count": 61,
   "id": "1a21bee8",
   "metadata": {},
   "outputs": [
    {
     "data": {
      "text/plain": [
       "Text(0.5, 1.0, 'Polarity Score')"
      ]
     },
     "execution_count": 61,
     "metadata": {},
     "output_type": "execute_result"
    },
    {
     "data": {
      "image/png": "[encoded data removed]",
      "text/plain": [
       "<Figure size 864x432 with 1 Axes>"
      ]
     },
     "metadata": {
      "needs_background": "light"
     },
     "output_type": "display_data"
    }
   ],
   "source": [
    "plt.figure(figsize=(12,6))\n",
    "headlines_df['Polarity'].hist(color='green')\n",
    "plt.title(\"Polarity Score\",fontsize=16)"
   ]
  },
  {
   "cell_type": "code",
   "execution_count": 62,
   "id": "7566cd9e",
   "metadata": {},
   "outputs": [
    {
     "data": {
      "text/plain": [
       "Text(0.5, 1.0, 'Subjectivity Score')"
      ]
     },
     "execution_count": 62,
     "metadata": {},
     "output_type": "execute_result"
    },
    {
     "data": {
      "image/png": "[encoded data removed]",
      "text/plain": [
       "<Figure size 864x432 with 1 Axes>"
      ]
     },
     "metadata": {
      "needs_background": "light"
     },
     "output_type": "display_data"
    }
   ],
   "source": [
    "plt.figure(figsize=(12,6))\n",
    "headlines_df['Subjectivity'].hist(color='blue')\n",
    "plt.title(\"Subjectivity Score\",fontsize=16)"
   ]
  },
  {
   "cell_type": "code",
   "execution_count": 63,
   "id": "263549c0",
   "metadata": {},
   "outputs": [],
   "source": [
    "#Importing Sentimental Analysis:\n",
    "sia=SentimentIntensityAnalyzer()"
   ]
  },
  {
   "cell_type": "code",
   "execution_count": 64,
   "id": "5fce6b76",
   "metadata": {
    "scrolled": true
   },
   "outputs": [],
   "source": [
    "headlines_df[\"Compound\"]=[sia.polarity_scores(v)['compound'] for v in headlines_df['News']]"
   ]
  },
  {
   "cell_type": "code",
   "execution_count": 65,
   "id": "aa045702",
   "metadata": {},
   "outputs": [],
   "source": [
    "headlines_df[\"Negative\"]=[sia.polarity_scores(v)['neg'] for v in headlines_df['News']]"
   ]
  },
  {
   "cell_type": "code",
   "execution_count": 66,
   "id": "cddefec4",
   "metadata": {},
   "outputs": [],
   "source": [
    "headlines_df[\"Neutral\"]=[sia.polarity_scores(v)['neu'] for v in headlines_df['News']]"
   ]
  },
  {
   "cell_type": "code",
   "execution_count": 67,
   "id": "9c249aa9",
   "metadata": {},
   "outputs": [],
   "source": [
    "headlines_df[\"Positive\"]=[sia.polarity_scores(v)['pos'] for v in headlines_df['News']]"
   ]
  },
  {
   "cell_type": "code",
   "execution_count": 68,
   "id": "53419864",
   "metadata": {},
   "outputs": [
    {
     "data": {
      "text/html": [
       "<div>\n",
       "<style scoped>\n",
       "    .dataframe tbody tr th:only-of-type {\n",
       "        vertical-align: middle;\n",
       "    }\n",
       "\n",
       "    .dataframe tbody tr th {\n",
       "        vertical-align: top;\n",
       "    }\n",
       "\n",
       "    .dataframe thead th {\n",
       "        text-align: right;\n",
       "    }\n",
       "</style>\n",
       "<table border=\"1\" class=\"dataframe\">\n",
       "  <thead>\n",
       "    <tr style=\"text-align: right;\">\n",
       "      <th></th>\n",
       "      <th>Date</th>\n",
       "      <th>News</th>\n",
       "      <th>Subjectivity</th>\n",
       "      <th>Polarity</th>\n",
       "      <th>Compound</th>\n",
       "      <th>Negative</th>\n",
       "      <th>Neutral</th>\n",
       "      <th>Positive</th>\n",
       "    </tr>\n",
       "  </thead>\n",
       "  <tbody>\n",
       "    <tr>\n",
       "      <th>0</th>\n",
       "      <td>2001-01-02</td>\n",
       "      <td>Status quo will not be disturbed at Ayodhya  s...</td>\n",
       "      <td>0.298684</td>\n",
       "      <td>0.180702</td>\n",
       "      <td>-0.9839</td>\n",
       "      <td>0.141</td>\n",
       "      <td>0.792</td>\n",
       "      <td>0.068</td>\n",
       "    </tr>\n",
       "    <tr>\n",
       "      <th>1</th>\n",
       "      <td>2001-01-03</td>\n",
       "      <td>Powerless north India gropes in the dark Think...</td>\n",
       "      <td>0.392857</td>\n",
       "      <td>0.089286</td>\n",
       "      <td>-0.8910</td>\n",
       "      <td>0.154</td>\n",
       "      <td>0.739</td>\n",
       "      <td>0.107</td>\n",
       "    </tr>\n",
       "    <tr>\n",
       "      <th>2</th>\n",
       "      <td>2001-01-04</td>\n",
       "      <td>The string that pulled Stephen Hawking to Indi...</td>\n",
       "      <td>0.478086</td>\n",
       "      <td>0.089802</td>\n",
       "      <td>0.9178</td>\n",
       "      <td>0.102</td>\n",
       "      <td>0.784</td>\n",
       "      <td>0.114</td>\n",
       "    </tr>\n",
       "    <tr>\n",
       "      <th>3</th>\n",
       "      <td>2001-01-05</td>\n",
       "      <td>Light combat craft takes India into club class...</td>\n",
       "      <td>0.470967</td>\n",
       "      <td>0.260138</td>\n",
       "      <td>0.9753</td>\n",
       "      <td>0.127</td>\n",
       "      <td>0.690</td>\n",
       "      <td>0.183</td>\n",
       "    </tr>\n",
       "    <tr>\n",
       "      <th>4</th>\n",
       "      <td>2001-01-06</td>\n",
       "      <td>Light combat craft takes India into club class...</td>\n",
       "      <td>0.464935</td>\n",
       "      <td>0.219481</td>\n",
       "      <td>-0.8625</td>\n",
       "      <td>0.227</td>\n",
       "      <td>0.653</td>\n",
       "      <td>0.119</td>\n",
       "    </tr>\n",
       "  </tbody>\n",
       "</table>\n",
       "</div>"
      ],
      "text/plain": [
       "        Date                                               News  Subjectivity  \\\n",
       "0 2001-01-02  Status quo will not be disturbed at Ayodhya  s...      0.298684   \n",
       "1 2001-01-03  Powerless north India gropes in the dark Think...      0.392857   \n",
       "2 2001-01-04  The string that pulled Stephen Hawking to Indi...      0.478086   \n",
       "3 2001-01-05  Light combat craft takes India into club class...      0.470967   \n",
       "4 2001-01-06  Light combat craft takes India into club class...      0.464935   \n",
       "\n",
       "   Polarity  Compound  Negative  Neutral  Positive  \n",
       "0  0.180702   -0.9839     0.141    0.792     0.068  \n",
       "1  0.089286   -0.8910     0.154    0.739     0.107  \n",
       "2  0.089802    0.9178     0.102    0.784     0.114  \n",
       "3  0.260138    0.9753     0.127    0.690     0.183  \n",
       "4  0.219481   -0.8625     0.227    0.653     0.119  "
      ]
     },
     "execution_count": 68,
     "metadata": {},
     "output_type": "execute_result"
    }
   ],
   "source": [
    "headlines_df.head()"
   ]
  },
  {
   "cell_type": "code",
   "execution_count": 69,
   "id": "dbd577f4",
   "metadata": {},
   "outputs": [
    {
     "data": {
      "text/plain": [
       "(7717, 8)"
      ]
     },
     "execution_count": 69,
     "metadata": {},
     "output_type": "execute_result"
    }
   ],
   "source": [
    "headlines_df.shape"
   ]
  },
  {
   "cell_type": "markdown",
   "id": "e33e1c60",
   "metadata": {},
   "source": [
    "##### *  Numerical/Historical Dataset Pre-Processing "
   ]
  },
  {
   "cell_type": "code",
   "execution_count": 71,
   "id": "66fdc770",
   "metadata": {},
   "outputs": [
    {
     "data": {
      "text/html": [
       "<div>\n",
       "<style scoped>\n",
       "    .dataframe tbody tr th:only-of-type {\n",
       "        vertical-align: middle;\n",
       "    }\n",
       "\n",
       "    .dataframe tbody tr th {\n",
       "        vertical-align: top;\n",
       "    }\n",
       "\n",
       "    .dataframe thead th {\n",
       "        text-align: right;\n",
       "    }\n",
       "</style>\n",
       "<table border=\"1\" class=\"dataframe\">\n",
       "  <thead>\n",
       "    <tr style=\"text-align: right;\">\n",
       "      <th></th>\n",
       "      <th>Date</th>\n",
       "      <th>High</th>\n",
       "      <th>Low</th>\n",
       "      <th>Open</th>\n",
       "      <th>Close</th>\n",
       "      <th>Volume</th>\n",
       "      <th>Adj Close</th>\n",
       "    </tr>\n",
       "  </thead>\n",
       "  <tbody>\n",
       "    <tr>\n",
       "      <th>0</th>\n",
       "      <td>2017-01-02</td>\n",
       "      <td>26720.980469</td>\n",
       "      <td>26447.060547</td>\n",
       "      <td>26711.150391</td>\n",
       "      <td>26595.449219</td>\n",
       "      <td>8000.0</td>\n",
       "      <td>26595.449219</td>\n",
       "    </tr>\n",
       "    <tr>\n",
       "      <th>1</th>\n",
       "      <td>2017-01-03</td>\n",
       "      <td>26724.400391</td>\n",
       "      <td>26488.369141</td>\n",
       "      <td>26616.919922</td>\n",
       "      <td>26643.240234</td>\n",
       "      <td>9800.0</td>\n",
       "      <td>26643.240234</td>\n",
       "    </tr>\n",
       "    <tr>\n",
       "      <th>2</th>\n",
       "      <td>2017-01-04</td>\n",
       "      <td>26723.369141</td>\n",
       "      <td>26606.060547</td>\n",
       "      <td>26677.220703</td>\n",
       "      <td>26633.130859</td>\n",
       "      <td>8100.0</td>\n",
       "      <td>26633.130859</td>\n",
       "    </tr>\n",
       "    <tr>\n",
       "      <th>3</th>\n",
       "      <td>2017-01-05</td>\n",
       "      <td>26917.210938</td>\n",
       "      <td>26738.419922</td>\n",
       "      <td>26738.419922</td>\n",
       "      <td>26878.240234</td>\n",
       "      <td>9800.0</td>\n",
       "      <td>26878.240234</td>\n",
       "    </tr>\n",
       "    <tr>\n",
       "      <th>4</th>\n",
       "      <td>2017-01-06</td>\n",
       "      <td>27009.609375</td>\n",
       "      <td>26733.330078</td>\n",
       "      <td>26929.689453</td>\n",
       "      <td>26759.230469</td>\n",
       "      <td>7800.0</td>\n",
       "      <td>26759.230469</td>\n",
       "    </tr>\n",
       "  </tbody>\n",
       "</table>\n",
       "</div>"
      ],
      "text/plain": [
       "        Date          High           Low          Open         Close  Volume  \\\n",
       "0 2017-01-02  26720.980469  26447.060547  26711.150391  26595.449219  8000.0   \n",
       "1 2017-01-03  26724.400391  26488.369141  26616.919922  26643.240234  9800.0   \n",
       "2 2017-01-04  26723.369141  26606.060547  26677.220703  26633.130859  8100.0   \n",
       "3 2017-01-05  26917.210938  26738.419922  26738.419922  26878.240234  9800.0   \n",
       "4 2017-01-06  27009.609375  26733.330078  26929.689453  26759.230469  7800.0   \n",
       "\n",
       "      Adj Close  \n",
       "0  26595.449219  \n",
       "1  26643.240234  \n",
       "2  26633.130859  \n",
       "3  26878.240234  \n",
       "4  26759.230469  "
      ]
     },
     "execution_count": 71,
     "metadata": {},
     "output_type": "execute_result"
    }
   ],
   "source": [
    "stock.head()"
   ]
  },
  {
   "cell_type": "code",
   "execution_count": 72,
   "id": "e314df5e",
   "metadata": {},
   "outputs": [],
   "source": [
    "stock=stock[['Date','High','Low','Open','Close','Volume']]"
   ]
  },
  {
   "cell_type": "code",
   "execution_count": 73,
   "id": "597df265",
   "metadata": {},
   "outputs": [
    {
     "data": {
      "text/plain": [
       "1404"
      ]
     },
     "execution_count": 73,
     "metadata": {},
     "output_type": "execute_result"
    }
   ],
   "source": [
    "len(stock)"
   ]
  },
  {
   "cell_type": "code",
   "execution_count": 74,
   "id": "df337309",
   "metadata": {},
   "outputs": [
    {
     "name": "stdout",
     "output_type": "stream",
     "text": [
      "<class 'pandas.core.frame.DataFrame'>\n",
      "RangeIndex: 1404 entries, 0 to 1403\n",
      "Data columns (total 6 columns):\n",
      " #   Column  Non-Null Count  Dtype         \n",
      "---  ------  --------------  -----         \n",
      " 0   Date    1404 non-null   datetime64[ns]\n",
      " 1   High    1404 non-null   float64       \n",
      " 2   Low     1404 non-null   float64       \n",
      " 3   Open    1404 non-null   float64       \n",
      " 4   Close   1404 non-null   float64       \n",
      " 5   Volume  1404 non-null   float64       \n",
      "dtypes: datetime64[ns](1), float64(5)\n",
      "memory usage: 65.9 KB\n"
     ]
    }
   ],
   "source": [
    "stock.info()"
   ]
  },
  {
   "cell_type": "code",
   "execution_count": 75,
   "id": "e396aaac",
   "metadata": {},
   "outputs": [
    {
     "data": {
      "text/plain": [
       "Date      0\n",
       "High      0\n",
       "Low       0\n",
       "Open      0\n",
       "Close     0\n",
       "Volume    0\n",
       "dtype: int64"
      ]
     },
     "execution_count": 75,
     "metadata": {},
     "output_type": "execute_result"
    }
   ],
   "source": [
    "stock.isnull().sum()"
   ]
  },
  {
   "cell_type": "code",
   "execution_count": 76,
   "id": "0e36a767",
   "metadata": {},
   "outputs": [],
   "source": [
    "stock.dropna(inplace=True)"
   ]
  },
  {
   "cell_type": "code",
   "execution_count": 77,
   "id": "4205ddfe",
   "metadata": {},
   "outputs": [
    {
     "data": {
      "text/plain": [
       "1404"
      ]
     },
     "execution_count": 77,
     "metadata": {},
     "output_type": "execute_result"
    }
   ],
   "source": [
    "len(stock)"
   ]
  },
  {
   "cell_type": "code",
   "execution_count": 78,
   "id": "a4d32812",
   "metadata": {},
   "outputs": [
    {
     "data": {
      "text/html": [
       "<div>\n",
       "<style scoped>\n",
       "    .dataframe tbody tr th:only-of-type {\n",
       "        vertical-align: middle;\n",
       "    }\n",
       "\n",
       "    .dataframe tbody tr th {\n",
       "        vertical-align: top;\n",
       "    }\n",
       "\n",
       "    .dataframe thead th {\n",
       "        text-align: right;\n",
       "    }\n",
       "</style>\n",
       "<table border=\"1\" class=\"dataframe\">\n",
       "  <thead>\n",
       "    <tr style=\"text-align: right;\">\n",
       "      <th></th>\n",
       "      <th>High</th>\n",
       "      <th>Low</th>\n",
       "      <th>Open</th>\n",
       "      <th>Close</th>\n",
       "      <th>Volume</th>\n",
       "    </tr>\n",
       "  </thead>\n",
       "  <tbody>\n",
       "    <tr>\n",
       "      <th>count</th>\n",
       "      <td>1404.000000</td>\n",
       "      <td>1404.000000</td>\n",
       "      <td>1404.000000</td>\n",
       "      <td>1404.000000</td>\n",
       "      <td>1.404000e+03</td>\n",
       "    </tr>\n",
       "    <tr>\n",
       "      <th>mean</th>\n",
       "      <td>41688.036202</td>\n",
       "      <td>41188.743618</td>\n",
       "      <td>41484.070994</td>\n",
       "      <td>41439.208493</td>\n",
       "      <td>2.408855e+05</td>\n",
       "    </tr>\n",
       "    <tr>\n",
       "      <th>std</th>\n",
       "      <td>9795.672006</td>\n",
       "      <td>9682.879065</td>\n",
       "      <td>9748.060190</td>\n",
       "      <td>9750.112996</td>\n",
       "      <td>1.988804e+06</td>\n",
       "    </tr>\n",
       "    <tr>\n",
       "      <th>min</th>\n",
       "      <td>26720.980469</td>\n",
       "      <td>25638.900391</td>\n",
       "      <td>26499.810547</td>\n",
       "      <td>25981.240234</td>\n",
       "      <td>0.000000e+00</td>\n",
       "    </tr>\n",
       "    <tr>\n",
       "      <th>25%</th>\n",
       "      <td>34308.290039</td>\n",
       "      <td>33873.305664</td>\n",
       "      <td>34067.646484</td>\n",
       "      <td>34078.882812</td>\n",
       "      <td>9.200000e+03</td>\n",
       "    </tr>\n",
       "    <tr>\n",
       "      <th>50%</th>\n",
       "      <td>38399.253906</td>\n",
       "      <td>37921.195312</td>\n",
       "      <td>38213.445312</td>\n",
       "      <td>38142.244141</td>\n",
       "      <td>1.335000e+04</td>\n",
       "    </tr>\n",
       "    <tr>\n",
       "      <th>75%</th>\n",
       "      <td>50615.218750</td>\n",
       "      <td>49813.190430</td>\n",
       "      <td>50257.055664</td>\n",
       "      <td>50313.658203</td>\n",
       "      <td>1.920000e+04</td>\n",
       "    </tr>\n",
       "    <tr>\n",
       "      <th>max</th>\n",
       "      <td>62245.429688</td>\n",
       "      <td>61624.648438</td>\n",
       "      <td>62156.480469</td>\n",
       "      <td>61765.589844</td>\n",
       "      <td>3.181510e+07</td>\n",
       "    </tr>\n",
       "  </tbody>\n",
       "</table>\n",
       "</div>"
      ],
      "text/plain": [
       "               High           Low          Open         Close        Volume\n",
       "count   1404.000000   1404.000000   1404.000000   1404.000000  1.404000e+03\n",
       "mean   41688.036202  41188.743618  41484.070994  41439.208493  2.408855e+05\n",
       "std     9795.672006   9682.879065   9748.060190   9750.112996  1.988804e+06\n",
       "min    26720.980469  25638.900391  26499.810547  25981.240234  0.000000e+00\n",
       "25%    34308.290039  33873.305664  34067.646484  34078.882812  9.200000e+03\n",
       "50%    38399.253906  37921.195312  38213.445312  38142.244141  1.335000e+04\n",
       "75%    50615.218750  49813.190430  50257.055664  50313.658203  1.920000e+04\n",
       "max    62245.429688  61624.648438  62156.480469  61765.589844  3.181510e+07"
      ]
     },
     "execution_count": 78,
     "metadata": {},
     "output_type": "execute_result"
    }
   ],
   "source": [
    "stock.describe()"
   ]
  },
  {
   "cell_type": "markdown",
   "id": "94e8a432",
   "metadata": {},
   "source": [
    "##### Data Visualization"
   ]
  },
  {
   "cell_type": "code",
   "execution_count": 79,
   "id": "932d1031",
   "metadata": {},
   "outputs": [
    {
     "data": {
      "text/plain": [
       "Text(0.5, 1.0, 'Closing Price')"
      ]
     },
     "execution_count": 79,
     "metadata": {},
     "output_type": "execute_result"
    },
    {
     "data": {
      "image/png": "[encoded data removed]",
      "text/plain": [
       "<Figure size 1152x576 with 1 Axes>"
      ]
     },
     "metadata": {
      "needs_background": "light"
     },
     "output_type": "display_data"
    }
   ],
   "source": [
    "#Closing Price Graph\n",
    "\n",
    "plt.figure(figsize=(16,8))\n",
    "\n",
    "plt.plot(stock['Close'],label=\"Close Price History\",color='red')\n",
    "plt.legend()\n",
    "plt.title(\"Closing Price\",fontsize=16)"
   ]
  },
  {
   "cell_type": "markdown",
   "id": "11d86328",
   "metadata": {},
   "source": [
    "##### Plotting Moving Average.\n",
    "\n",
    "Moving Average: In finance, a moving average (MA) is a stock indicator commonly used in technical analysis. The reason for calculating the moving average of a stock is to help smooth out the price data by creating a constantly updated average price.\n",
    "\n",
    "Moving averages are calculated to identify the trend direction of a stock or to determine its support and resistance levels. It is a trend-following or lagging, indicator because it is based on past prices.\n",
    "\n",
    "The longer the period for the moving average, the greater the lag. A 200-day moving average will have a much greater degree of lag than a 20-day MA because it contains prices for the past 200 days. "
   ]
  },
  {
   "cell_type": "markdown",
   "id": "63c80129",
   "metadata": {},
   "source": [
    "* Why rolling mean is used?\n",
    "\n",
    "They are typically utilized to smooth out data series. The ultimate purpose of rolling averages is to identify long—term trends. They are calculated by averaging a group of observations of a variable of interest over a specific period of time. Such averaged number becomes representative of that period in a trend line.\n",
    "\n",
    "* What is Rolling Standard Deviation?\n",
    "\n",
    "The moving standard deviation is a measure of market volatility. It makes no predictions of market direction, but it may serve as a confirming indicator. You specify the number of periods to use, and the study computes the standard deviation of prices from the moving average of the prices."
   ]
  },
  {
   "cell_type": "code",
   "execution_count": 80,
   "id": "b74bef6f",
   "metadata": {},
   "outputs": [
    {
     "data": {
      "text/plain": [
       "Text(0.5, 1.0, 'Moving Average')"
      ]
     },
     "execution_count": 80,
     "metadata": {},
     "output_type": "execute_result"
    },
    {
     "data": {
      "image/png": "[encoded data removed]",
      "text/plain": [
       "<Figure size 864x432 with 1 Axes>"
      ]
     },
     "metadata": {
      "needs_background": "light"
     },
     "output_type": "display_data"
    }
   ],
   "source": [
    "#Plotting the Moving Average.\n",
    "\n",
    "close=stock['Close']\n",
    "\n",
    "MA=close.rolling(window=50).mean()\n",
    "std=close.rolling(window=50).std()\n",
    "\n",
    "plt.figure(figsize=(12,6))\n",
    "plt.plot(stock['Close'],label='Close Price History',color='blue')\n",
    "\n",
    "plt.plot(MA,label='Rolling Mean',color='red')\n",
    "plt.plot(std,label='Rolling Standard Deviation',color='green')\n",
    "\n",
    "plt.legend()\n",
    "\n",
    "plt.title(\"Moving Average\",fontsize=16)\n",
    "\n"
   ]
  },
  {
   "cell_type": "markdown",
   "id": "e295d574",
   "metadata": {},
   "source": [
    "A return is the change in price of an asset, investment, or project over time, which may be represented in terms of price change or percentage change. A positive return represents a profit while a negative return marks a loss."
   ]
  },
  {
   "cell_type": "code",
   "execution_count": 81,
   "id": "16d3225b",
   "metadata": {},
   "outputs": [
    {
     "data": {
      "text/plain": [
       "Text(0.5, 1.0, 'Return')"
      ]
     },
     "execution_count": 81,
     "metadata": {},
     "output_type": "execute_result"
    },
    {
     "data": {
      "image/png": "[encoded data removed]",
      "text/plain": [
       "<Figure size 1152x648 with 1 Axes>"
      ]
     },
     "metadata": {
      "needs_background": "light"
     },
     "output_type": "display_data"
    }
   ],
   "source": [
    "#Plotting the Returns\n",
    "\n",
    "\n",
    "\n",
    "returns=close/close.shift(1)-1\n",
    "\n",
    "plt.figure(figsize=(16,9))\n",
    "plt.plot(returns,label='Return',color='limegreen')\n",
    "plt.title('Return',fontsize=16)\n"
   ]
  },
  {
   "cell_type": "markdown",
   "id": "d78a8a90",
   "metadata": {},
   "source": [
    "#Dickey Fuller Test:\n",
    "\n",
    "\n",
    "When we make a model for forecasting purposes in time series analysis, we require a stationary time series for better prediction. So the first step to work on modeling is to make a time series stationary. Testing for stationarity is a frequently used activity in autoregressive modeling. We can perform various tests like the KPSS, Phillips–Perron, and Augmented Dickey-Fuller. \n",
    "\n",
    "\n",
    "ADF (Augmented Dickey-Fuller) test is a statistical significance test which means the test will give results in hypothesis tests with null and alternative hypotheses. As a result, we will have a p-value from which we will need to make inferences about the time series, whether it is stationary or not.\n",
    "\n",
    "\n",
    "\n",
    "A simple AR model can be represented as:\n",
    "\n",
    "\n",
    "where\n",
    "\n",
    "yt is variable of interest at the time t\n",
    "ρ is a coefficient that defines the unit root\n",
    "ut  is noise or can be considered as an error term.\n",
    "If ρ = 1, the unit root is present in a time series, and the time series is non-stationary.\n",
    "\n",
    "If a regression model can be represented as \n",
    "\n",
    "\n",
    "Where \n",
    "\n",
    "Δ is a difference operator.\n",
    "ẟ = ρ-1\n",
    "So here, if ρ = 1, which means we will get the differencing as the error term and if the coefficient has some values smaller than one or bigger than one, we will see the changes according to the past observation.\n",
    "\n",
    "\n",
    "\n",
    "Implementation of ADF Test\n",
    "To perform the ADF test in any time series package, statsmodel provides the implementation function adfuller().\n",
    "\n",
    "Function adfuller() provides the following information.\n",
    "\n",
    "p-value\n",
    "Value of the test statistic\n",
    "Number of lags for testing consideration\n",
    "The critical values\n",
    "\n",
    "\n",
    "\n",
    "\n",
    "* What is Stationary and Non stationary time series?\n",
    "\n",
    "A stationary time series has statistical properties or moments (e.g., mean and variance) that do not vary in time. Stationarity, then, is the status of a stationary time series. Conversely, nonstationarity is the status of a time series whose statistical properties are changing through time."
   ]
  },
  {
   "cell_type": "code",
   "execution_count": 82,
   "id": "ca9e161b",
   "metadata": {},
   "outputs": [],
   "source": [
    "#Stationary Test:\n",
    "\n",
    "#defining the function\n",
    "\n",
    "def test_stationary(timeseries):\n",
    "    rolmean=timeseries.rolling(20).mean()\n",
    "    rolstd=timeseries.rolling(20).std()\n",
    "    \n",
    "    #Plotting the Rolling Statistics.\n",
    "    \n",
    "    \n",
    "    plt.figure(figsize=(16,9))\n",
    "    plt.plot(timeseries,color='blue',label='Original')\n",
    "    plt.plot(rolmean,color='red',label=\"Rolling Mean\")\n",
    "    plt.plot(rolstd,color='green',label=\"Rolling Standard Deviation\")\n",
    "    plt.legend()\n",
    "    plt.title('Rolling Mean and Standard Deviation',fontsize=16)\n",
    "    plt.show(block=False)\n",
    "    \n",
    "    \n",
    "    print(\"Result of Dickey Fuller Test\")\n",
    "    result=adfuller(timeseries, autolag='AIC')\n",
    "    labels=['ADF Test Statistics','p-value','Number of Lags Used','Number of Observations Used']\n",
    "    \n",
    "    for value,label in zip(result,labels):\n",
    "        print(label+' : '+ str(value))\n",
    "   \n",
    "    \n",
    "    \n",
    "    if result[1] <= 0.05:\n",
    "        print(\"Strong Evidence against the null hypothesis(H0),Reject the Null Hypothesis. Data is Stationary.\")\n",
    "    else:\n",
    "        print(\"Weak Evidence againt null hypothesis,time series is non-stationary.\")"
   ]
  },
  {
   "cell_type": "code",
   "execution_count": 83,
   "id": "31a7e98d",
   "metadata": {},
   "outputs": [],
   "source": [
    "#Splitting the data:\n",
    "\n",
    "train,test=stock[:1123], stock[1123:len(stock)]"
   ]
  },
  {
   "cell_type": "code",
   "execution_count": 84,
   "id": "b3b1feb7",
   "metadata": {},
   "outputs": [
    {
     "data": {
      "text/plain": [
       "(1123, 6)"
      ]
     },
     "execution_count": 84,
     "metadata": {},
     "output_type": "execute_result"
    }
   ],
   "source": [
    "train.shape"
   ]
  },
  {
   "cell_type": "code",
   "execution_count": 85,
   "id": "fef22578",
   "metadata": {},
   "outputs": [
    {
     "data": {
      "text/plain": [
       "(281, 6)"
      ]
     },
     "execution_count": 85,
     "metadata": {},
     "output_type": "execute_result"
    }
   ],
   "source": [
    "test.shape"
   ]
  },
  {
   "cell_type": "code",
   "execution_count": 86,
   "id": "517357bf",
   "metadata": {},
   "outputs": [
    {
     "data": {
      "text/html": [
       "<div>\n",
       "<style scoped>\n",
       "    .dataframe tbody tr th:only-of-type {\n",
       "        vertical-align: middle;\n",
       "    }\n",
       "\n",
       "    .dataframe tbody tr th {\n",
       "        vertical-align: top;\n",
       "    }\n",
       "\n",
       "    .dataframe thead th {\n",
       "        text-align: right;\n",
       "    }\n",
       "</style>\n",
       "<table border=\"1\" class=\"dataframe\">\n",
       "  <thead>\n",
       "    <tr style=\"text-align: right;\">\n",
       "      <th></th>\n",
       "      <th>Date</th>\n",
       "      <th>High</th>\n",
       "      <th>Low</th>\n",
       "      <th>Open</th>\n",
       "      <th>Close</th>\n",
       "      <th>Volume</th>\n",
       "    </tr>\n",
       "  </thead>\n",
       "  <tbody>\n",
       "    <tr>\n",
       "      <th>0</th>\n",
       "      <td>2017-01-02</td>\n",
       "      <td>26720.980469</td>\n",
       "      <td>26447.060547</td>\n",
       "      <td>26711.150391</td>\n",
       "      <td>26595.449219</td>\n",
       "      <td>8000.0</td>\n",
       "    </tr>\n",
       "    <tr>\n",
       "      <th>1</th>\n",
       "      <td>2017-01-03</td>\n",
       "      <td>26724.400391</td>\n",
       "      <td>26488.369141</td>\n",
       "      <td>26616.919922</td>\n",
       "      <td>26643.240234</td>\n",
       "      <td>9800.0</td>\n",
       "    </tr>\n",
       "    <tr>\n",
       "      <th>2</th>\n",
       "      <td>2017-01-04</td>\n",
       "      <td>26723.369141</td>\n",
       "      <td>26606.060547</td>\n",
       "      <td>26677.220703</td>\n",
       "      <td>26633.130859</td>\n",
       "      <td>8100.0</td>\n",
       "    </tr>\n",
       "    <tr>\n",
       "      <th>3</th>\n",
       "      <td>2017-01-05</td>\n",
       "      <td>26917.210938</td>\n",
       "      <td>26738.419922</td>\n",
       "      <td>26738.419922</td>\n",
       "      <td>26878.240234</td>\n",
       "      <td>9800.0</td>\n",
       "    </tr>\n",
       "    <tr>\n",
       "      <th>4</th>\n",
       "      <td>2017-01-06</td>\n",
       "      <td>27009.609375</td>\n",
       "      <td>26733.330078</td>\n",
       "      <td>26929.689453</td>\n",
       "      <td>26759.230469</td>\n",
       "      <td>7800.0</td>\n",
       "    </tr>\n",
       "  </tbody>\n",
       "</table>\n",
       "</div>"
      ],
      "text/plain": [
       "        Date          High           Low          Open         Close  Volume\n",
       "0 2017-01-02  26720.980469  26447.060547  26711.150391  26595.449219  8000.0\n",
       "1 2017-01-03  26724.400391  26488.369141  26616.919922  26643.240234  9800.0\n",
       "2 2017-01-04  26723.369141  26606.060547  26677.220703  26633.130859  8100.0\n",
       "3 2017-01-05  26917.210938  26738.419922  26738.419922  26878.240234  9800.0\n",
       "4 2017-01-06  27009.609375  26733.330078  26929.689453  26759.230469  7800.0"
      ]
     },
     "execution_count": 86,
     "metadata": {},
     "output_type": "execute_result"
    }
   ],
   "source": [
    "train.head()"
   ]
  },
  {
   "cell_type": "code",
   "execution_count": 88,
   "id": "e8c82d69",
   "metadata": {},
   "outputs": [
    {
     "data": {
      "image/png": "[encoded data removed]",
      "text/plain": [
       "<Figure size 1152x648 with 1 Axes>"
      ]
     },
     "metadata": {
      "needs_background": "light"
     },
     "output_type": "display_data"
    },
    {
     "name": "stdout",
     "output_type": "stream",
     "text": [
      "Result of Dickey Fuller Test\n",
      "ADF Test Statistics : -0.7166228154134389\n",
      "p-value : 0.8423967431228452\n",
      "Number of Lags Used : 12\n",
      "Number of Observations Used : 1110\n",
      "Weak Evidence againt null hypothesis,time series is non-stationary.\n"
     ]
    }
   ],
   "source": [
    "#Applying the stationary test on train close data.\n",
    "\n",
    "test_stationary(train['Close']) "
   ]
  },
  {
   "cell_type": "code",
   "execution_count": 89,
   "id": "9f5c40eb",
   "metadata": {},
   "outputs": [
    {
     "data": {
      "text/plain": [
       "0    10.188495\n",
       "1    10.190291\n",
       "2    10.189911\n",
       "3    10.199072\n",
       "4    10.194635\n",
       "Name: Close, dtype: float64"
      ]
     },
     "execution_count": 89,
     "metadata": {},
     "output_type": "execute_result"
    }
   ],
   "source": [
    "np.log(train['Close']).head()    #Log value of closed price ..."
   ]
  },
  {
   "cell_type": "code",
   "execution_count": 90,
   "id": "0071ea1c",
   "metadata": {},
   "outputs": [
    {
     "data": {
      "text/plain": [
       "[<matplotlib.lines.Line2D at 0x19f805265b0>]"
      ]
     },
     "execution_count": 90,
     "metadata": {},
     "output_type": "execute_result"
    },
    {
     "data": {
      "image/png": "[encoded data removed]",
      "text/plain": [
       "<Figure size 1152x648 with 1 Axes>"
      ]
     },
     "metadata": {
      "needs_background": "light"
     },
     "output_type": "display_data"
    }
   ],
   "source": [
    "train_log=np.log(train['Close'])\n",
    "test_log=np.log(test['Close'])\n",
    "\n",
    "\n",
    "mav=train_log.rolling(24).mean()\n",
    "plt.figure(figsize=(16,9))\n",
    "\n",
    "plt.plot(train_log,color='lawngreen')\n",
    "plt.plot(mav,color='darkviolet')"
   ]
  },
  {
   "cell_type": "code",
   "execution_count": 91,
   "id": "39f923a5",
   "metadata": {},
   "outputs": [],
   "source": [
    "train_log.dropna(inplace=True)\n",
    "test_log.dropna(inplace=True)"
   ]
  },
  {
   "cell_type": "code",
   "execution_count": 92,
   "id": "edf309af",
   "metadata": {},
   "outputs": [
    {
     "data": {
      "image/png": "[encoded data removed]",
      "text/plain": [
       "<Figure size 1152x648 with 1 Axes>"
      ]
     },
     "metadata": {
      "needs_background": "light"
     },
     "output_type": "display_data"
    },
    {
     "name": "stdout",
     "output_type": "stream",
     "text": [
      "Result of Dickey Fuller Test\n",
      "ADF Test Statistics : -1.1925202035989495\n",
      "p-value : 0.6768050264891139\n",
      "Number of Lags Used : 11\n",
      "Number of Observations Used : 1111\n",
      "Weak Evidence againt null hypothesis,time series is non-stationary.\n"
     ]
    }
   ],
   "source": [
    "test_stationary(train_log)"
   ]
  },
  {
   "cell_type": "code",
   "execution_count": 93,
   "id": "a93f781f",
   "metadata": {},
   "outputs": [
    {
     "data": {
      "image/png": "[encoded data removed]",
      "text/plain": [
       "<Figure size 1152x648 with 1 Axes>"
      ]
     },
     "metadata": {
      "needs_background": "light"
     },
     "output_type": "display_data"
    },
    {
     "name": "stdout",
     "output_type": "stream",
     "text": [
      "Result of Dickey Fuller Test\n",
      "ADF Test Statistics : -6.6229900218834885\n",
      "p-value : 5.97205845071311e-09\n",
      "Number of Lags Used : 12\n",
      "Number of Observations Used : 1087\n",
      "Strong Evidence against the null hypothesis(H0),Reject the Null Hypothesis. Data is Stationary.\n"
     ]
    }
   ],
   "source": [
    "train_log_diff=train_log-mav\n",
    "\n",
    "train_log_diff.dropna(inplace=True)\n",
    "test_stationary(train_log_diff)"
   ]
  },
  {
   "cell_type": "markdown",
   "id": "ced15458",
   "metadata": {},
   "source": [
    "##### Training the Model "
   ]
  },
  {
   "cell_type": "code",
   "execution_count": 94,
   "id": "d6e25d58",
   "metadata": {},
   "outputs": [],
   "source": [
    "#Using the auto ARIMA to make predictions using log data.\n",
    "#FIRST WE NEED TO INSTALL pmdarima in comand prompt using the code pip install pmdarima"
   ]
  },
  {
   "cell_type": "code",
   "execution_count": 95,
   "id": "125d0720",
   "metadata": {},
   "outputs": [
    {
     "name": "stdout",
     "output_type": "stream",
     "text": [
      "Requirement already satisfied: pmdarima in c:\\users\\fozail\\anaconda3\\lib\\site-packages (2.0.1)\n",
      "Requirement already satisfied: joblib>=0.11 in c:\\users\\fozail\\anaconda3\\lib\\site-packages (from pmdarima) (1.1.0)\n",
      "Requirement already satisfied: numpy>=1.21 in c:\\users\\fozail\\anaconda3\\lib\\site-packages (from pmdarima) (1.22.4)\n",
      "Requirement already satisfied: urllib3 in c:\\users\\fozail\\anaconda3\\lib\\site-packages (from pmdarima) (1.22)\n",
      "Requirement already satisfied: statsmodels>=0.13.2 in c:\\users\\fozail\\anaconda3\\lib\\site-packages (from pmdarima) (0.13.5)\n",
      "Requirement already satisfied: scipy>=1.3.2 in c:\\users\\fozail\\anaconda3\\lib\\site-packages (from pmdarima) (1.7.1)\n",
      "Requirement already satisfied: Cython!=0.29.18,!=0.29.31,>=0.29 in c:\\users\\fozail\\anaconda3\\lib\\site-packages (from pmdarima) (0.29.24)\n",
      "Requirement already satisfied: scikit-learn>=0.22 in c:\\users\\fozail\\anaconda3\\lib\\site-packages (from pmdarima) (1.0.2)\n",
      "Requirement already satisfied: setuptools!=50.0.0,>=38.6.0 in c:\\users\\fozail\\anaconda3\\lib\\site-packages (from pmdarima) (58.0.4)\n",
      "Requirement already satisfied: pandas>=0.19 in c:\\users\\fozail\\anaconda3\\lib\\site-packages (from pmdarima) (1.4.2)\n",
      "Requirement already satisfied: pytz>=2020.1 in c:\\users\\fozail\\anaconda3\\lib\\site-packages (from pandas>=0.19->pmdarima) (2021.3)\n",
      "Requirement already satisfied: python-dateutil>=2.8.1 in c:\\users\\fozail\\anaconda3\\lib\\site-packages (from pandas>=0.19->pmdarima) (2.8.2)\n",
      "Requirement already satisfied: six>=1.5 in c:\\users\\fozail\\anaconda3\\lib\\site-packages (from python-dateutil>=2.8.1->pandas>=0.19->pmdarima) (1.12.0)\n",
      "Requirement already satisfied: threadpoolctl>=2.0.0 in c:\\users\\fozail\\anaconda3\\lib\\site-packages (from scikit-learn>=0.22->pmdarima) (2.2.0)\n",
      "Requirement already satisfied: packaging>=21.3 in c:\\users\\fozail\\anaconda3\\lib\\site-packages (from statsmodels>=0.13.2->pmdarima) (21.3)\n",
      "Requirement already satisfied: patsy>=0.5.2 in c:\\users\\fozail\\anaconda3\\lib\\site-packages (from statsmodels>=0.13.2->pmdarima) (0.5.2)\n",
      "Requirement already satisfied: pyparsing!=3.0.5,>=2.0.2 in c:\\users\\fozail\\anaconda3\\lib\\site-packages (from packaging>=21.3->statsmodels>=0.13.2->pmdarima) (3.0.4)\n",
      "Note: you may need to restart the kernel to use updated packages.\n"
     ]
    },
    {
     "name": "stderr",
     "output_type": "stream",
     "text": [
      "WARNING: Ignoring invalid distribution -tatsmodels (c:\\users\\fozail\\anaconda3\\lib\\site-packages)\n",
      "WARNING: Ignoring invalid distribution -andas (c:\\users\\fozail\\anaconda3\\lib\\site-packages)\n",
      "WARNING: Ignoring invalid distribution -tatsmodels (c:\\users\\fozail\\anaconda3\\lib\\site-packages)\n",
      "WARNING: Ignoring invalid distribution -andas (c:\\users\\fozail\\anaconda3\\lib\\site-packages)\n",
      "WARNING: Ignoring invalid distribution -tatsmodels (c:\\users\\fozail\\anaconda3\\lib\\site-packages)\n",
      "WARNING: Ignoring invalid distribution -andas (c:\\users\\fozail\\anaconda3\\lib\\site-packages)\n",
      "WARNING: Ignoring invalid distribution -tatsmodels (c:\\users\\fozail\\anaconda3\\lib\\site-packages)\n",
      "WARNING: Ignoring invalid distribution -andas (c:\\users\\fozail\\anaconda3\\lib\\site-packages)\n",
      "WARNING: Ignoring invalid distribution -tatsmodels (c:\\users\\fozail\\anaconda3\\lib\\site-packages)\n",
      "WARNING: Ignoring invalid distribution -andas (c:\\users\\fozail\\anaconda3\\lib\\site-packages)\n",
      "WARNING: Ignoring invalid distribution -tatsmodels (c:\\users\\fozail\\anaconda3\\lib\\site-packages)\n",
      "WARNING: Ignoring invalid distribution -andas (c:\\users\\fozail\\anaconda3\\lib\\site-packages)\n"
     ]
    }
   ],
   "source": [
    "pip install pmdarima"
   ]
  },
  {
   "cell_type": "code",
   "execution_count": 96,
   "id": "16c5c73f",
   "metadata": {},
   "outputs": [],
   "source": [
    "from pmdarima import auto_arima"
   ]
  },
  {
   "cell_type": "code",
   "execution_count": 97,
   "id": "809940da",
   "metadata": {},
   "outputs": [
    {
     "name": "stdout",
     "output_type": "stream",
     "text": [
      "Performing stepwise search to minimize aic\n",
      " ARIMA(2,1,2)(0,0,0)[0] intercept   : AIC=-6725.009, Time=0.64 sec\n",
      " ARIMA(0,1,0)(0,0,0)[0] intercept   : AIC=-6727.560, Time=0.11 sec\n",
      " ARIMA(1,1,0)(0,0,0)[0] intercept   : AIC=-6730.254, Time=0.23 sec\n",
      " ARIMA(0,1,1)(0,0,0)[0] intercept   : AIC=-6729.995, Time=0.20 sec\n",
      " ARIMA(0,1,0)(0,0,0)[0]             : AIC=-6726.711, Time=0.08 sec\n",
      " ARIMA(2,1,0)(0,0,0)[0] intercept   : AIC=-6729.002, Time=0.26 sec\n",
      " ARIMA(1,1,1)(0,0,0)[0] intercept   : AIC=-6728.655, Time=0.31 sec\n",
      " ARIMA(2,1,1)(0,0,0)[0] intercept   : AIC=-6727.371, Time=0.17 sec\n",
      " ARIMA(1,1,0)(0,0,0)[0]             : AIC=-6729.019, Time=0.09 sec\n",
      "\n",
      "Best model:  ARIMA(1,1,0)(0,0,0)[0] intercept\n",
      "Total fit time: 2.282 seconds\n"
     ]
    }
   ],
   "source": [
    "model=auto_arima(train_log,trace=True,error_action='ignore',suppress_warnings=True)\n",
    "\n",
    "model.fit(train_log)\n",
    "\n",
    "predictions=model.predict(n_periods= len(test))\n",
    "predictions=pd.DataFrame(predictions, index=test_log.index, columns=['Prediction'])"
   ]
  },
  {
   "cell_type": "code",
   "execution_count": 98,
   "id": "19ad6c56",
   "metadata": {},
   "outputs": [
    {
     "data": {
      "text/plain": [
       "Text(0, 0.5, 'ACTUAL STOCK PRICE')"
      ]
     },
     "execution_count": 98,
     "metadata": {},
     "output_type": "execute_result"
    },
    {
     "data": {
      "image/png": "[encoded data removed]",
      "text/plain": [
       "<Figure size 1152x576 with 1 Axes>"
      ]
     },
     "metadata": {
      "needs_background": "light"
     },
     "output_type": "display_data"
    }
   ],
   "source": [
    "plt.figure(figsize=(16,8))\n",
    "plt.plot(train_log,label='Train')\n",
    "plt.plot(test_log,label=\"Test\")\n",
    "plt.plot(predictions,color='limegreen' ,label=\"Prediction\")\n",
    "\n",
    "plt.title(\"BSESN Stock Price Prediction\")\n",
    "plt.xlabel(\"TIME\")\n",
    "plt.ylabel(\"ACTUAL STOCK PRICE\")"
   ]
  },
  {
   "cell_type": "code",
   "execution_count": 99,
   "id": "e7b75d7b",
   "metadata": {},
   "outputs": [],
   "source": [
    "#Lime Green line depicts the prediction."
   ]
  },
  {
   "cell_type": "code",
   "execution_count": 100,
   "id": "6b36f97f",
   "metadata": {},
   "outputs": [
    {
     "name": "stdout",
     "output_type": "stream",
     "text": [
      "The Root mean squared error is : 0.07335943794021116\n"
     ]
    }
   ],
   "source": [
    "#Root mean squared error.\n",
    "\n",
    "rmse=np.sqrt(mean_squared_error(test_log,predictions))\n",
    "print(\"The Root mean squared error is :\",rmse)"
   ]
  },
  {
   "cell_type": "code",
   "execution_count": 101,
   "id": "ab943c29",
   "metadata": {
    "scrolled": true
   },
   "outputs": [
    {
     "data": {
      "text/html": [
       "<div>\n",
       "<style scoped>\n",
       "    .dataframe tbody tr th:only-of-type {\n",
       "        vertical-align: middle;\n",
       "    }\n",
       "\n",
       "    .dataframe tbody tr th {\n",
       "        vertical-align: top;\n",
       "    }\n",
       "\n",
       "    .dataframe thead th {\n",
       "        text-align: right;\n",
       "    }\n",
       "</style>\n",
       "<table border=\"1\" class=\"dataframe\">\n",
       "  <thead>\n",
       "    <tr style=\"text-align: right;\">\n",
       "      <th></th>\n",
       "      <th>Date</th>\n",
       "      <th>News</th>\n",
       "      <th>Subjectivity</th>\n",
       "      <th>Polarity</th>\n",
       "      <th>Compound</th>\n",
       "      <th>Negative</th>\n",
       "      <th>Neutral</th>\n",
       "      <th>Positive</th>\n",
       "    </tr>\n",
       "  </thead>\n",
       "  <tbody>\n",
       "    <tr>\n",
       "      <th>3435</th>\n",
       "      <td>2010-07-11</td>\n",
       "      <td>Review  Sony Ericsson Xperia X10 Mini What s n...</td>\n",
       "      <td>0.409070</td>\n",
       "      <td>0.060076</td>\n",
       "      <td>-0.9998</td>\n",
       "      <td>0.177</td>\n",
       "      <td>0.719</td>\n",
       "      <td>0.104</td>\n",
       "    </tr>\n",
       "    <tr>\n",
       "      <th>576</th>\n",
       "      <td>2002-09-12</td>\n",
       "      <td>Celine Dion romps home at Mysore Cup Dhammapad...</td>\n",
       "      <td>0.424752</td>\n",
       "      <td>0.126515</td>\n",
       "      <td>-0.9993</td>\n",
       "      <td>0.225</td>\n",
       "      <td>0.687</td>\n",
       "      <td>0.088</td>\n",
       "    </tr>\n",
       "    <tr>\n",
       "      <th>6810</th>\n",
       "      <td>2019-10-07</td>\n",
       "      <td>Wanna smell fresh all day  Apply perfume on th...</td>\n",
       "      <td>0.402612</td>\n",
       "      <td>0.084506</td>\n",
       "      <td>-0.9998</td>\n",
       "      <td>0.140</td>\n",
       "      <td>0.769</td>\n",
       "      <td>0.090</td>\n",
       "    </tr>\n",
       "    <tr>\n",
       "      <th>5123</th>\n",
       "      <td>2015-02-23</td>\n",
       "      <td>5 ways to fall asleep faster Marry younger man...</td>\n",
       "      <td>0.392366</td>\n",
       "      <td>0.159565</td>\n",
       "      <td>0.9999</td>\n",
       "      <td>0.110</td>\n",
       "      <td>0.718</td>\n",
       "      <td>0.171</td>\n",
       "    </tr>\n",
       "    <tr>\n",
       "      <th>3217</th>\n",
       "      <td>2009-12-05</td>\n",
       "      <td>Ranbir wants Deepika back Salman is Mogambo Wh...</td>\n",
       "      <td>0.379794</td>\n",
       "      <td>0.053381</td>\n",
       "      <td>-0.9999</td>\n",
       "      <td>0.177</td>\n",
       "      <td>0.728</td>\n",
       "      <td>0.095</td>\n",
       "    </tr>\n",
       "    <tr>\n",
       "      <th>...</th>\n",
       "      <td>...</td>\n",
       "      <td>...</td>\n",
       "      <td>...</td>\n",
       "      <td>...</td>\n",
       "      <td>...</td>\n",
       "      <td>...</td>\n",
       "      <td>...</td>\n",
       "      <td>...</td>\n",
       "    </tr>\n",
       "    <tr>\n",
       "      <th>5678</th>\n",
       "      <td>2016-08-31</td>\n",
       "      <td>Why extra marital affairs could be right Aishw...</td>\n",
       "      <td>0.397560</td>\n",
       "      <td>0.072766</td>\n",
       "      <td>-0.9998</td>\n",
       "      <td>0.140</td>\n",
       "      <td>0.759</td>\n",
       "      <td>0.102</td>\n",
       "    </tr>\n",
       "    <tr>\n",
       "      <th>6972</th>\n",
       "      <td>2020-03-17</td>\n",
       "      <td>Two taken into preventive custody for spreadin...</td>\n",
       "      <td>0.364423</td>\n",
       "      <td>0.027964</td>\n",
       "      <td>-1.0000</td>\n",
       "      <td>0.216</td>\n",
       "      <td>0.717</td>\n",
       "      <td>0.067</td>\n",
       "    </tr>\n",
       "    <tr>\n",
       "      <th>3155</th>\n",
       "      <td>2009-10-04</td>\n",
       "      <td>Blame your love life for extra bulge Kamal Haa...</td>\n",
       "      <td>0.411189</td>\n",
       "      <td>0.071630</td>\n",
       "      <td>-0.9985</td>\n",
       "      <td>0.133</td>\n",
       "      <td>0.756</td>\n",
       "      <td>0.111</td>\n",
       "    </tr>\n",
       "    <tr>\n",
       "      <th>5514</th>\n",
       "      <td>2016-03-20</td>\n",
       "      <td>Different  types  of social networkers 6 must ...</td>\n",
       "      <td>0.385254</td>\n",
       "      <td>0.108241</td>\n",
       "      <td>-0.9999</td>\n",
       "      <td>0.181</td>\n",
       "      <td>0.696</td>\n",
       "      <td>0.123</td>\n",
       "    </tr>\n",
       "    <tr>\n",
       "      <th>3045</th>\n",
       "      <td>2009-06-16</td>\n",
       "      <td>Dont go to office when ill Take Care Chennai l...</td>\n",
       "      <td>0.395761</td>\n",
       "      <td>0.079509</td>\n",
       "      <td>-0.9999</td>\n",
       "      <td>0.164</td>\n",
       "      <td>0.738</td>\n",
       "      <td>0.098</td>\n",
       "    </tr>\n",
       "  </tbody>\n",
       "</table>\n",
       "<p>100 rows × 8 columns</p>\n",
       "</div>"
      ],
      "text/plain": [
       "           Date                                               News  \\\n",
       "3435 2010-07-11  Review  Sony Ericsson Xperia X10 Mini What s n...   \n",
       "576  2002-09-12  Celine Dion romps home at Mysore Cup Dhammapad...   \n",
       "6810 2019-10-07  Wanna smell fresh all day  Apply perfume on th...   \n",
       "5123 2015-02-23  5 ways to fall asleep faster Marry younger man...   \n",
       "3217 2009-12-05  Ranbir wants Deepika back Salman is Mogambo Wh...   \n",
       "...         ...                                                ...   \n",
       "5678 2016-08-31  Why extra marital affairs could be right Aishw...   \n",
       "6972 2020-03-17  Two taken into preventive custody for spreadin...   \n",
       "3155 2009-10-04  Blame your love life for extra bulge Kamal Haa...   \n",
       "5514 2016-03-20  Different  types  of social networkers 6 must ...   \n",
       "3045 2009-06-16  Dont go to office when ill Take Care Chennai l...   \n",
       "\n",
       "      Subjectivity  Polarity  Compound  Negative  Neutral  Positive  \n",
       "3435      0.409070  0.060076   -0.9998     0.177    0.719     0.104  \n",
       "576       0.424752  0.126515   -0.9993     0.225    0.687     0.088  \n",
       "6810      0.402612  0.084506   -0.9998     0.140    0.769     0.090  \n",
       "5123      0.392366  0.159565    0.9999     0.110    0.718     0.171  \n",
       "3217      0.379794  0.053381   -0.9999     0.177    0.728     0.095  \n",
       "...            ...       ...       ...       ...      ...       ...  \n",
       "5678      0.397560  0.072766   -0.9998     0.140    0.759     0.102  \n",
       "6972      0.364423  0.027964   -1.0000     0.216    0.717     0.067  \n",
       "3155      0.411189  0.071630   -0.9985     0.133    0.756     0.111  \n",
       "5514      0.385254  0.108241   -0.9999     0.181    0.696     0.123  \n",
       "3045      0.395761  0.079509   -0.9999     0.164    0.738     0.098  \n",
       "\n",
       "[100 rows x 8 columns]"
      ]
     },
     "execution_count": 101,
     "metadata": {},
     "output_type": "execute_result"
    }
   ],
   "source": [
    "news.sample(100)"
   ]
  },
  {
   "cell_type": "markdown",
   "id": "5f58c52a",
   "metadata": {},
   "source": [
    "### Using different models to determine the best performing model using root mean squared error"
   ]
  },
  {
   "cell_type": "markdown",
   "id": "37207ed1",
   "metadata": {},
   "source": [
    "#### Step 4: Merge the Numerical and Textual Data"
   ]
  },
  {
   "cell_type": "code",
   "execution_count": 102,
   "id": "d6268f75",
   "metadata": {
    "scrolled": true
   },
   "outputs": [
    {
     "data": {
      "text/html": [
       "<div>\n",
       "<style scoped>\n",
       "    .dataframe tbody tr th:only-of-type {\n",
       "        vertical-align: middle;\n",
       "    }\n",
       "\n",
       "    .dataframe tbody tr th {\n",
       "        vertical-align: top;\n",
       "    }\n",
       "\n",
       "    .dataframe thead th {\n",
       "        text-align: right;\n",
       "    }\n",
       "</style>\n",
       "<table border=\"1\" class=\"dataframe\">\n",
       "  <thead>\n",
       "    <tr style=\"text-align: right;\">\n",
       "      <th></th>\n",
       "      <th>Date</th>\n",
       "      <th>News</th>\n",
       "      <th>Subjectivity</th>\n",
       "      <th>Polarity</th>\n",
       "      <th>Compound</th>\n",
       "      <th>Negative</th>\n",
       "      <th>Neutral</th>\n",
       "      <th>Positive</th>\n",
       "      <th>High</th>\n",
       "      <th>Low</th>\n",
       "      <th>Open</th>\n",
       "      <th>Close</th>\n",
       "      <th>Volume</th>\n",
       "    </tr>\n",
       "  </thead>\n",
       "  <tbody>\n",
       "    <tr>\n",
       "      <th>0</th>\n",
       "      <td>2017-01-02</td>\n",
       "      <td>Destress plan for the first Monday of 2017 Pun...</td>\n",
       "      <td>0.383537</td>\n",
       "      <td>0.048300</td>\n",
       "      <td>-0.9999</td>\n",
       "      <td>0.170</td>\n",
       "      <td>0.719</td>\n",
       "      <td>0.111</td>\n",
       "      <td>26720.980469</td>\n",
       "      <td>26447.060547</td>\n",
       "      <td>26711.150391</td>\n",
       "      <td>26595.449219</td>\n",
       "      <td>8000.0</td>\n",
       "    </tr>\n",
       "    <tr>\n",
       "      <th>1</th>\n",
       "      <td>2017-01-03</td>\n",
       "      <td>State opposition dismisses Samajwadi Party feu...</td>\n",
       "      <td>0.407776</td>\n",
       "      <td>0.039766</td>\n",
       "      <td>-0.9999</td>\n",
       "      <td>0.155</td>\n",
       "      <td>0.739</td>\n",
       "      <td>0.106</td>\n",
       "      <td>26724.400391</td>\n",
       "      <td>26488.369141</td>\n",
       "      <td>26616.919922</td>\n",
       "      <td>26643.240234</td>\n",
       "      <td>9800.0</td>\n",
       "    </tr>\n",
       "    <tr>\n",
       "      <th>2</th>\n",
       "      <td>2017-01-04</td>\n",
       "      <td>Rudra Soni ready to go bald for TV  not Bollyw...</td>\n",
       "      <td>0.357630</td>\n",
       "      <td>0.072457</td>\n",
       "      <td>-1.0000</td>\n",
       "      <td>0.168</td>\n",
       "      <td>0.742</td>\n",
       "      <td>0.090</td>\n",
       "      <td>26723.369141</td>\n",
       "      <td>26606.060547</td>\n",
       "      <td>26677.220703</td>\n",
       "      <td>26633.130859</td>\n",
       "      <td>8100.0</td>\n",
       "    </tr>\n",
       "    <tr>\n",
       "      <th>3</th>\n",
       "      <td>2017-01-05</td>\n",
       "      <td>Decoding Buddhist prayer flags 3 Punjabi films...</td>\n",
       "      <td>0.378495</td>\n",
       "      <td>0.076935</td>\n",
       "      <td>-0.9999</td>\n",
       "      <td>0.158</td>\n",
       "      <td>0.734</td>\n",
       "      <td>0.108</td>\n",
       "      <td>26917.210938</td>\n",
       "      <td>26738.419922</td>\n",
       "      <td>26738.419922</td>\n",
       "      <td>26878.240234</td>\n",
       "      <td>9800.0</td>\n",
       "    </tr>\n",
       "    <tr>\n",
       "      <th>4</th>\n",
       "      <td>2017-01-06</td>\n",
       "      <td>Will stay bachelor to serve Akhilesh  says thr...</td>\n",
       "      <td>0.393591</td>\n",
       "      <td>0.060879</td>\n",
       "      <td>-0.9999</td>\n",
       "      <td>0.156</td>\n",
       "      <td>0.740</td>\n",
       "      <td>0.104</td>\n",
       "      <td>27009.609375</td>\n",
       "      <td>26733.330078</td>\n",
       "      <td>26929.689453</td>\n",
       "      <td>26759.230469</td>\n",
       "      <td>7800.0</td>\n",
       "    </tr>\n",
       "    <tr>\n",
       "      <th>...</th>\n",
       "      <td>...</td>\n",
       "      <td>...</td>\n",
       "      <td>...</td>\n",
       "      <td>...</td>\n",
       "      <td>...</td>\n",
       "      <td>...</td>\n",
       "      <td>...</td>\n",
       "      <td>...</td>\n",
       "      <td>...</td>\n",
       "      <td>...</td>\n",
       "      <td>...</td>\n",
       "      <td>...</td>\n",
       "      <td>...</td>\n",
       "    </tr>\n",
       "    <tr>\n",
       "      <th>1287</th>\n",
       "      <td>2022-03-25</td>\n",
       "      <td>Speeding up  shortcuts and tackling unruly cus...</td>\n",
       "      <td>0.368342</td>\n",
       "      <td>-0.006025</td>\n",
       "      <td>-1.0000</td>\n",
       "      <td>0.183</td>\n",
       "      <td>0.742</td>\n",
       "      <td>0.075</td>\n",
       "      <td>57845.371094</td>\n",
       "      <td>57100.238281</td>\n",
       "      <td>57801.718750</td>\n",
       "      <td>57362.199219</td>\n",
       "      <td>6900.0</td>\n",
       "    </tr>\n",
       "    <tr>\n",
       "      <th>1288</th>\n",
       "      <td>2022-03-28</td>\n",
       "      <td>As fashion becomes democratic  demand for styl...</td>\n",
       "      <td>0.372774</td>\n",
       "      <td>0.060228</td>\n",
       "      <td>-0.9999</td>\n",
       "      <td>0.161</td>\n",
       "      <td>0.740</td>\n",
       "      <td>0.100</td>\n",
       "      <td>57638.339844</td>\n",
       "      <td>56825.089844</td>\n",
       "      <td>57472.718750</td>\n",
       "      <td>57593.488281</td>\n",
       "      <td>6300.0</td>\n",
       "    </tr>\n",
       "    <tr>\n",
       "      <th>1289</th>\n",
       "      <td>2022-03-29</td>\n",
       "      <td>Bobby Deol  Like my dad  I hope to be working ...</td>\n",
       "      <td>0.399341</td>\n",
       "      <td>0.091038</td>\n",
       "      <td>-0.9999</td>\n",
       "      <td>0.161</td>\n",
       "      <td>0.755</td>\n",
       "      <td>0.084</td>\n",
       "      <td>58001.531250</td>\n",
       "      <td>57639.351562</td>\n",
       "      <td>57814.761719</td>\n",
       "      <td>57943.648438</td>\n",
       "      <td>12100.0</td>\n",
       "    </tr>\n",
       "    <tr>\n",
       "      <th>1290</th>\n",
       "      <td>2022-03-30</td>\n",
       "      <td>I will not give in to trends  Dossmode The tim...</td>\n",
       "      <td>0.335133</td>\n",
       "      <td>0.037703</td>\n",
       "      <td>-0.9999</td>\n",
       "      <td>0.159</td>\n",
       "      <td>0.767</td>\n",
       "      <td>0.074</td>\n",
       "      <td>58727.781250</td>\n",
       "      <td>58176.000000</td>\n",
       "      <td>58362.851562</td>\n",
       "      <td>58683.988281</td>\n",
       "      <td>6300.0</td>\n",
       "    </tr>\n",
       "    <tr>\n",
       "      <th>1291</th>\n",
       "      <td>2022-03-31</td>\n",
       "      <td>Shashank goes back to coastal Karnataka and Mo...</td>\n",
       "      <td>0.334707</td>\n",
       "      <td>0.027995</td>\n",
       "      <td>-0.9999</td>\n",
       "      <td>0.156</td>\n",
       "      <td>0.773</td>\n",
       "      <td>0.070</td>\n",
       "      <td>58890.921875</td>\n",
       "      <td>58485.789062</td>\n",
       "      <td>58779.710938</td>\n",
       "      <td>58568.511719</td>\n",
       "      <td>4400.0</td>\n",
       "    </tr>\n",
       "  </tbody>\n",
       "</table>\n",
       "<p>1292 rows × 13 columns</p>\n",
       "</div>"
      ],
      "text/plain": [
       "           Date                                               News  \\\n",
       "0    2017-01-02  Destress plan for the first Monday of 2017 Pun...   \n",
       "1    2017-01-03  State opposition dismisses Samajwadi Party feu...   \n",
       "2    2017-01-04  Rudra Soni ready to go bald for TV  not Bollyw...   \n",
       "3    2017-01-05  Decoding Buddhist prayer flags 3 Punjabi films...   \n",
       "4    2017-01-06  Will stay bachelor to serve Akhilesh  says thr...   \n",
       "...         ...                                                ...   \n",
       "1287 2022-03-25  Speeding up  shortcuts and tackling unruly cus...   \n",
       "1288 2022-03-28  As fashion becomes democratic  demand for styl...   \n",
       "1289 2022-03-29  Bobby Deol  Like my dad  I hope to be working ...   \n",
       "1290 2022-03-30  I will not give in to trends  Dossmode The tim...   \n",
       "1291 2022-03-31  Shashank goes back to coastal Karnataka and Mo...   \n",
       "\n",
       "      Subjectivity  Polarity  Compound  Negative  Neutral  Positive  \\\n",
       "0         0.383537  0.048300   -0.9999     0.170    0.719     0.111   \n",
       "1         0.407776  0.039766   -0.9999     0.155    0.739     0.106   \n",
       "2         0.357630  0.072457   -1.0000     0.168    0.742     0.090   \n",
       "3         0.378495  0.076935   -0.9999     0.158    0.734     0.108   \n",
       "4         0.393591  0.060879   -0.9999     0.156    0.740     0.104   \n",
       "...            ...       ...       ...       ...      ...       ...   \n",
       "1287      0.368342 -0.006025   -1.0000     0.183    0.742     0.075   \n",
       "1288      0.372774  0.060228   -0.9999     0.161    0.740     0.100   \n",
       "1289      0.399341  0.091038   -0.9999     0.161    0.755     0.084   \n",
       "1290      0.335133  0.037703   -0.9999     0.159    0.767     0.074   \n",
       "1291      0.334707  0.027995   -0.9999     0.156    0.773     0.070   \n",
       "\n",
       "              High           Low          Open         Close   Volume  \n",
       "0     26720.980469  26447.060547  26711.150391  26595.449219   8000.0  \n",
       "1     26724.400391  26488.369141  26616.919922  26643.240234   9800.0  \n",
       "2     26723.369141  26606.060547  26677.220703  26633.130859   8100.0  \n",
       "3     26917.210938  26738.419922  26738.419922  26878.240234   9800.0  \n",
       "4     27009.609375  26733.330078  26929.689453  26759.230469   7800.0  \n",
       "...            ...           ...           ...           ...      ...  \n",
       "1287  57845.371094  57100.238281  57801.718750  57362.199219   6900.0  \n",
       "1288  57638.339844  56825.089844  57472.718750  57593.488281   6300.0  \n",
       "1289  58001.531250  57639.351562  57814.761719  57943.648438  12100.0  \n",
       "1290  58727.781250  58176.000000  58362.851562  58683.988281   6300.0  \n",
       "1291  58890.921875  58485.789062  58779.710938  58568.511719   4400.0  \n",
       "\n",
       "[1292 rows x 13 columns]"
      ]
     },
     "execution_count": 102,
     "metadata": {},
     "output_type": "execute_result"
    }
   ],
   "source": [
    "df_merge=pd.merge(headlines_df,stock,how='inner',on='Date')\n",
    "df_merge"
   ]
  },
  {
   "cell_type": "markdown",
   "id": "6686858a",
   "metadata": {},
   "source": [
    "#### Step 5: Creating a Dataset for Model Training"
   ]
  },
  {
   "cell_type": "code",
   "execution_count": 103,
   "id": "19eda968",
   "metadata": {},
   "outputs": [
    {
     "data": {
      "text/html": [
       "<div>\n",
       "<style scoped>\n",
       "    .dataframe tbody tr th:only-of-type {\n",
       "        vertical-align: middle;\n",
       "    }\n",
       "\n",
       "    .dataframe tbody tr th {\n",
       "        vertical-align: top;\n",
       "    }\n",
       "\n",
       "    .dataframe thead th {\n",
       "        text-align: right;\n",
       "    }\n",
       "</style>\n",
       "<table border=\"1\" class=\"dataframe\">\n",
       "  <thead>\n",
       "    <tr style=\"text-align: right;\">\n",
       "      <th></th>\n",
       "      <th>Close</th>\n",
       "      <th>Subjectivity</th>\n",
       "      <th>Polarity</th>\n",
       "      <th>Compound</th>\n",
       "      <th>Negative</th>\n",
       "      <th>Neutral</th>\n",
       "      <th>Positive</th>\n",
       "    </tr>\n",
       "  </thead>\n",
       "  <tbody>\n",
       "    <tr>\n",
       "      <th>0</th>\n",
       "      <td>26595.449219</td>\n",
       "      <td>0.383537</td>\n",
       "      <td>0.048300</td>\n",
       "      <td>-0.9999</td>\n",
       "      <td>0.170</td>\n",
       "      <td>0.719</td>\n",
       "      <td>0.111</td>\n",
       "    </tr>\n",
       "    <tr>\n",
       "      <th>1</th>\n",
       "      <td>26643.240234</td>\n",
       "      <td>0.407776</td>\n",
       "      <td>0.039766</td>\n",
       "      <td>-0.9999</td>\n",
       "      <td>0.155</td>\n",
       "      <td>0.739</td>\n",
       "      <td>0.106</td>\n",
       "    </tr>\n",
       "    <tr>\n",
       "      <th>2</th>\n",
       "      <td>26633.130859</td>\n",
       "      <td>0.357630</td>\n",
       "      <td>0.072457</td>\n",
       "      <td>-1.0000</td>\n",
       "      <td>0.168</td>\n",
       "      <td>0.742</td>\n",
       "      <td>0.090</td>\n",
       "    </tr>\n",
       "    <tr>\n",
       "      <th>3</th>\n",
       "      <td>26878.240234</td>\n",
       "      <td>0.378495</td>\n",
       "      <td>0.076935</td>\n",
       "      <td>-0.9999</td>\n",
       "      <td>0.158</td>\n",
       "      <td>0.734</td>\n",
       "      <td>0.108</td>\n",
       "    </tr>\n",
       "    <tr>\n",
       "      <th>4</th>\n",
       "      <td>26759.230469</td>\n",
       "      <td>0.393591</td>\n",
       "      <td>0.060879</td>\n",
       "      <td>-0.9999</td>\n",
       "      <td>0.156</td>\n",
       "      <td>0.740</td>\n",
       "      <td>0.104</td>\n",
       "    </tr>\n",
       "    <tr>\n",
       "      <th>...</th>\n",
       "      <td>...</td>\n",
       "      <td>...</td>\n",
       "      <td>...</td>\n",
       "      <td>...</td>\n",
       "      <td>...</td>\n",
       "      <td>...</td>\n",
       "      <td>...</td>\n",
       "    </tr>\n",
       "    <tr>\n",
       "      <th>1287</th>\n",
       "      <td>57362.199219</td>\n",
       "      <td>0.368342</td>\n",
       "      <td>-0.006025</td>\n",
       "      <td>-1.0000</td>\n",
       "      <td>0.183</td>\n",
       "      <td>0.742</td>\n",
       "      <td>0.075</td>\n",
       "    </tr>\n",
       "    <tr>\n",
       "      <th>1288</th>\n",
       "      <td>57593.488281</td>\n",
       "      <td>0.372774</td>\n",
       "      <td>0.060228</td>\n",
       "      <td>-0.9999</td>\n",
       "      <td>0.161</td>\n",
       "      <td>0.740</td>\n",
       "      <td>0.100</td>\n",
       "    </tr>\n",
       "    <tr>\n",
       "      <th>1289</th>\n",
       "      <td>57943.648438</td>\n",
       "      <td>0.399341</td>\n",
       "      <td>0.091038</td>\n",
       "      <td>-0.9999</td>\n",
       "      <td>0.161</td>\n",
       "      <td>0.755</td>\n",
       "      <td>0.084</td>\n",
       "    </tr>\n",
       "    <tr>\n",
       "      <th>1290</th>\n",
       "      <td>58683.988281</td>\n",
       "      <td>0.335133</td>\n",
       "      <td>0.037703</td>\n",
       "      <td>-0.9999</td>\n",
       "      <td>0.159</td>\n",
       "      <td>0.767</td>\n",
       "      <td>0.074</td>\n",
       "    </tr>\n",
       "    <tr>\n",
       "      <th>1291</th>\n",
       "      <td>58568.511719</td>\n",
       "      <td>0.334707</td>\n",
       "      <td>0.027995</td>\n",
       "      <td>-0.9999</td>\n",
       "      <td>0.156</td>\n",
       "      <td>0.773</td>\n",
       "      <td>0.070</td>\n",
       "    </tr>\n",
       "  </tbody>\n",
       "</table>\n",
       "<p>1292 rows × 7 columns</p>\n",
       "</div>"
      ],
      "text/plain": [
       "             Close  Subjectivity  Polarity  Compound  Negative  Neutral  \\\n",
       "0     26595.449219      0.383537  0.048300   -0.9999     0.170    0.719   \n",
       "1     26643.240234      0.407776  0.039766   -0.9999     0.155    0.739   \n",
       "2     26633.130859      0.357630  0.072457   -1.0000     0.168    0.742   \n",
       "3     26878.240234      0.378495  0.076935   -0.9999     0.158    0.734   \n",
       "4     26759.230469      0.393591  0.060879   -0.9999     0.156    0.740   \n",
       "...            ...           ...       ...       ...       ...      ...   \n",
       "1287  57362.199219      0.368342 -0.006025   -1.0000     0.183    0.742   \n",
       "1288  57593.488281      0.372774  0.060228   -0.9999     0.161    0.740   \n",
       "1289  57943.648438      0.399341  0.091038   -0.9999     0.161    0.755   \n",
       "1290  58683.988281      0.335133  0.037703   -0.9999     0.159    0.767   \n",
       "1291  58568.511719      0.334707  0.027995   -0.9999     0.156    0.773   \n",
       "\n",
       "      Positive  \n",
       "0        0.111  \n",
       "1        0.106  \n",
       "2        0.090  \n",
       "3        0.108  \n",
       "4        0.104  \n",
       "...        ...  \n",
       "1287     0.075  \n",
       "1288     0.100  \n",
       "1289     0.084  \n",
       "1290     0.074  \n",
       "1291     0.070  \n",
       "\n",
       "[1292 rows x 7 columns]"
      ]
     },
     "execution_count": 103,
     "metadata": {},
     "output_type": "execute_result"
    }
   ],
   "source": [
    "final=df_merge[['Close','Subjectivity','Polarity','Compound','Negative','Neutral','Positive']]\n",
    "final"
   ]
  },
  {
   "cell_type": "markdown",
   "id": "3c20d6f5",
   "metadata": {},
   "source": [
    "#### Step 6:Normalize Data"
   ]
  },
  {
   "cell_type": "code",
   "execution_count": 104,
   "id": "f49fbe30",
   "metadata": {},
   "outputs": [],
   "source": [
    "from sklearn.preprocessing import MinMaxScaler\n",
    "scaler=MinMaxScaler()"
   ]
  },
  {
   "cell_type": "code",
   "execution_count": 105,
   "id": "8cce068b",
   "metadata": {},
   "outputs": [],
   "source": [
    "df=pd.DataFrame(scaler.fit_transform(final))\n",
    "df.columns=final.columns\n",
    "df.index=final.index"
   ]
  },
  {
   "cell_type": "code",
   "execution_count": 106,
   "id": "8bd257f8",
   "metadata": {},
   "outputs": [
    {
     "data": {
      "text/html": [
       "<div>\n",
       "<style scoped>\n",
       "    .dataframe tbody tr th:only-of-type {\n",
       "        vertical-align: middle;\n",
       "    }\n",
       "\n",
       "    .dataframe tbody tr th {\n",
       "        vertical-align: top;\n",
       "    }\n",
       "\n",
       "    .dataframe thead th {\n",
       "        text-align: right;\n",
       "    }\n",
       "</style>\n",
       "<table border=\"1\" class=\"dataframe\">\n",
       "  <thead>\n",
       "    <tr style=\"text-align: right;\">\n",
       "      <th></th>\n",
       "      <th>Close</th>\n",
       "      <th>Subjectivity</th>\n",
       "      <th>Polarity</th>\n",
       "      <th>Compound</th>\n",
       "      <th>Negative</th>\n",
       "      <th>Neutral</th>\n",
       "      <th>Positive</th>\n",
       "    </tr>\n",
       "  </thead>\n",
       "  <tbody>\n",
       "    <tr>\n",
       "      <th>0</th>\n",
       "      <td>0.017164</td>\n",
       "      <td>0.493808</td>\n",
       "      <td>0.447466</td>\n",
       "      <td>0.00005</td>\n",
       "      <td>0.643411</td>\n",
       "      <td>0.12500</td>\n",
       "      <td>0.686747</td>\n",
       "    </tr>\n",
       "    <tr>\n",
       "      <th>1</th>\n",
       "      <td>0.018500</td>\n",
       "      <td>0.669637</td>\n",
       "      <td>0.379328</td>\n",
       "      <td>0.00005</td>\n",
       "      <td>0.527132</td>\n",
       "      <td>0.25000</td>\n",
       "      <td>0.626506</td>\n",
       "    </tr>\n",
       "    <tr>\n",
       "      <th>2</th>\n",
       "      <td>0.018217</td>\n",
       "      <td>0.305881</td>\n",
       "      <td>0.640336</td>\n",
       "      <td>0.00000</td>\n",
       "      <td>0.627907</td>\n",
       "      <td>0.26875</td>\n",
       "      <td>0.433735</td>\n",
       "    </tr>\n",
       "    <tr>\n",
       "      <th>3</th>\n",
       "      <td>0.025067</td>\n",
       "      <td>0.457231</td>\n",
       "      <td>0.676091</td>\n",
       "      <td>0.00005</td>\n",
       "      <td>0.550388</td>\n",
       "      <td>0.21875</td>\n",
       "      <td>0.650602</td>\n",
       "    </tr>\n",
       "    <tr>\n",
       "      <th>4</th>\n",
       "      <td>0.021741</td>\n",
       "      <td>0.566736</td>\n",
       "      <td>0.547902</td>\n",
       "      <td>0.00005</td>\n",
       "      <td>0.534884</td>\n",
       "      <td>0.25625</td>\n",
       "      <td>0.602410</td>\n",
       "    </tr>\n",
       "  </tbody>\n",
       "</table>\n",
       "</div>"
      ],
      "text/plain": [
       "      Close  Subjectivity  Polarity  Compound  Negative  Neutral  Positive\n",
       "0  0.017164      0.493808  0.447466   0.00005  0.643411  0.12500  0.686747\n",
       "1  0.018500      0.669637  0.379328   0.00005  0.527132  0.25000  0.626506\n",
       "2  0.018217      0.305881  0.640336   0.00000  0.627907  0.26875  0.433735\n",
       "3  0.025067      0.457231  0.676091   0.00005  0.550388  0.21875  0.650602\n",
       "4  0.021741      0.566736  0.547902   0.00005  0.534884  0.25625  0.602410"
      ]
     },
     "execution_count": 106,
     "metadata": {},
     "output_type": "execute_result"
    }
   ],
   "source": [
    "df.head()"
   ]
  },
  {
   "cell_type": "code",
   "execution_count": 107,
   "id": "16659398",
   "metadata": {},
   "outputs": [
    {
     "data": {
      "text/html": [
       "<div>\n",
       "<style scoped>\n",
       "    .dataframe tbody tr th:only-of-type {\n",
       "        vertical-align: middle;\n",
       "    }\n",
       "\n",
       "    .dataframe tbody tr th {\n",
       "        vertical-align: top;\n",
       "    }\n",
       "\n",
       "    .dataframe thead th {\n",
       "        text-align: right;\n",
       "    }\n",
       "</style>\n",
       "<table border=\"1\" class=\"dataframe\">\n",
       "  <thead>\n",
       "    <tr style=\"text-align: right;\">\n",
       "      <th></th>\n",
       "      <th>Subjectivity</th>\n",
       "      <th>Polarity</th>\n",
       "      <th>Compound</th>\n",
       "      <th>Negative</th>\n",
       "      <th>Neutral</th>\n",
       "      <th>Positive</th>\n",
       "    </tr>\n",
       "  </thead>\n",
       "  <tbody>\n",
       "    <tr>\n",
       "      <th>0</th>\n",
       "      <td>0.493808</td>\n",
       "      <td>0.447466</td>\n",
       "      <td>0.00005</td>\n",
       "      <td>0.643411</td>\n",
       "      <td>0.12500</td>\n",
       "      <td>0.686747</td>\n",
       "    </tr>\n",
       "    <tr>\n",
       "      <th>1</th>\n",
       "      <td>0.669637</td>\n",
       "      <td>0.379328</td>\n",
       "      <td>0.00005</td>\n",
       "      <td>0.527132</td>\n",
       "      <td>0.25000</td>\n",
       "      <td>0.626506</td>\n",
       "    </tr>\n",
       "    <tr>\n",
       "      <th>2</th>\n",
       "      <td>0.305881</td>\n",
       "      <td>0.640336</td>\n",
       "      <td>0.00000</td>\n",
       "      <td>0.627907</td>\n",
       "      <td>0.26875</td>\n",
       "      <td>0.433735</td>\n",
       "    </tr>\n",
       "    <tr>\n",
       "      <th>3</th>\n",
       "      <td>0.457231</td>\n",
       "      <td>0.676091</td>\n",
       "      <td>0.00005</td>\n",
       "      <td>0.550388</td>\n",
       "      <td>0.21875</td>\n",
       "      <td>0.650602</td>\n",
       "    </tr>\n",
       "    <tr>\n",
       "      <th>4</th>\n",
       "      <td>0.566736</td>\n",
       "      <td>0.547902</td>\n",
       "      <td>0.00005</td>\n",
       "      <td>0.534884</td>\n",
       "      <td>0.25625</td>\n",
       "      <td>0.602410</td>\n",
       "    </tr>\n",
       "    <tr>\n",
       "      <th>...</th>\n",
       "      <td>...</td>\n",
       "      <td>...</td>\n",
       "      <td>...</td>\n",
       "      <td>...</td>\n",
       "      <td>...</td>\n",
       "      <td>...</td>\n",
       "    </tr>\n",
       "    <tr>\n",
       "      <th>1287</th>\n",
       "      <td>0.383585</td>\n",
       "      <td>0.013734</td>\n",
       "      <td>0.00000</td>\n",
       "      <td>0.744186</td>\n",
       "      <td>0.26875</td>\n",
       "      <td>0.253012</td>\n",
       "    </tr>\n",
       "    <tr>\n",
       "      <th>1288</th>\n",
       "      <td>0.415735</td>\n",
       "      <td>0.542699</td>\n",
       "      <td>0.00005</td>\n",
       "      <td>0.573643</td>\n",
       "      <td>0.25625</td>\n",
       "      <td>0.554217</td>\n",
       "    </tr>\n",
       "    <tr>\n",
       "      <th>1289</th>\n",
       "      <td>0.608448</td>\n",
       "      <td>0.788692</td>\n",
       "      <td>0.00005</td>\n",
       "      <td>0.573643</td>\n",
       "      <td>0.35000</td>\n",
       "      <td>0.361446</td>\n",
       "    </tr>\n",
       "    <tr>\n",
       "      <th>1290</th>\n",
       "      <td>0.142690</td>\n",
       "      <td>0.362859</td>\n",
       "      <td>0.00005</td>\n",
       "      <td>0.558140</td>\n",
       "      <td>0.42500</td>\n",
       "      <td>0.240964</td>\n",
       "    </tr>\n",
       "    <tr>\n",
       "      <th>1291</th>\n",
       "      <td>0.139603</td>\n",
       "      <td>0.285348</td>\n",
       "      <td>0.00005</td>\n",
       "      <td>0.534884</td>\n",
       "      <td>0.46250</td>\n",
       "      <td>0.192771</td>\n",
       "    </tr>\n",
       "  </tbody>\n",
       "</table>\n",
       "<p>1292 rows × 6 columns</p>\n",
       "</div>"
      ],
      "text/plain": [
       "      Subjectivity  Polarity  Compound  Negative  Neutral  Positive\n",
       "0         0.493808  0.447466   0.00005  0.643411  0.12500  0.686747\n",
       "1         0.669637  0.379328   0.00005  0.527132  0.25000  0.626506\n",
       "2         0.305881  0.640336   0.00000  0.627907  0.26875  0.433735\n",
       "3         0.457231  0.676091   0.00005  0.550388  0.21875  0.650602\n",
       "4         0.566736  0.547902   0.00005  0.534884  0.25625  0.602410\n",
       "...            ...       ...       ...       ...      ...       ...\n",
       "1287      0.383585  0.013734   0.00000  0.744186  0.26875  0.253012\n",
       "1288      0.415735  0.542699   0.00005  0.573643  0.25625  0.554217\n",
       "1289      0.608448  0.788692   0.00005  0.573643  0.35000  0.361446\n",
       "1290      0.142690  0.362859   0.00005  0.558140  0.42500  0.240964\n",
       "1291      0.139603  0.285348   0.00005  0.534884  0.46250  0.192771\n",
       "\n",
       "[1292 rows x 6 columns]"
      ]
     },
     "execution_count": 107,
     "metadata": {},
     "output_type": "execute_result"
    }
   ],
   "source": [
    "X=df.drop('Close',axis=1)   #Features\n",
    "X"
   ]
  },
  {
   "cell_type": "code",
   "execution_count": 108,
   "id": "cd6be186",
   "metadata": {},
   "outputs": [
    {
     "data": {
      "text/plain": [
       "0       0.017164\n",
       "1       0.018500\n",
       "2       0.018217\n",
       "3       0.025067\n",
       "4       0.021741\n",
       "          ...   \n",
       "1287    0.876946\n",
       "1288    0.883410\n",
       "1289    0.893195\n",
       "1290    0.913884\n",
       "1291    0.910657\n",
       "Name: Close, Length: 1292, dtype: float64"
      ]
     },
     "execution_count": 108,
     "metadata": {},
     "output_type": "execute_result"
    }
   ],
   "source": [
    "y=df['Close']              #Target\n",
    "y"
   ]
  },
  {
   "cell_type": "markdown",
   "id": "8a54b003",
   "metadata": {},
   "source": [
    "#### Step 7: Splitting the Data"
   ]
  },
  {
   "cell_type": "code",
   "execution_count": 109,
   "id": "5ea1788b",
   "metadata": {},
   "outputs": [],
   "source": [
    "X_train,X_test,y_train,y_test=train_test_split(X,y,test_size=0.2,random_state=0)"
   ]
  },
  {
   "cell_type": "markdown",
   "id": "925d8e87",
   "metadata": {},
   "source": [
    "#### Step 8: Deploying Different Models"
   ]
  },
  {
   "cell_type": "markdown",
   "id": "08913ca5",
   "metadata": {},
   "source": [
    "* Applying Random Forest Regressor"
   ]
  },
  {
   "cell_type": "code",
   "execution_count": 110,
   "id": "e7beb787",
   "metadata": {},
   "outputs": [
    {
     "name": "stdout",
     "output_type": "stream",
     "text": [
      "Mean Squared Error :  0.058580517630070564\n"
     ]
    }
   ],
   "source": [
    "from sklearn.ensemble import RandomForestRegressor\n",
    "\n",
    "rf=RandomForestRegressor()\n",
    "rf.fit(X_train,y_train)\n",
    "\n",
    "y_pred=rf.predict(X_test)\n",
    "print(\"Mean Squared Error : \",mean_squared_error(y_pred,y_test))\n"
   ]
  },
  {
   "cell_type": "markdown",
   "id": "ea35a0a3",
   "metadata": {},
   "source": [
    "* Applying Decision Tree Regressor"
   ]
  },
  {
   "cell_type": "code",
   "execution_count": 111,
   "id": "f91b31d0",
   "metadata": {},
   "outputs": [
    {
     "name": "stdout",
     "output_type": "stream",
     "text": [
      "Mean Squared Error :  0.0977920458625032\n"
     ]
    }
   ],
   "source": [
    "from sklearn.tree import DecisionTreeRegressor\n",
    "\n",
    "dt=DecisionTreeRegressor()\n",
    "dt.fit(X_train,y_train)\n",
    "\n",
    "y_pred=dt.predict(X_test)\n",
    "print(\"Mean Squared Error : \",mean_squared_error(y_pred,y_test))"
   ]
  },
  {
   "cell_type": "markdown",
   "id": "fd5e8d2d",
   "metadata": {},
   "source": [
    "* Applying AdaBoost Regressor"
   ]
  },
  {
   "cell_type": "code",
   "execution_count": 112,
   "id": "37bf089c",
   "metadata": {},
   "outputs": [
    {
     "name": "stdout",
     "output_type": "stream",
     "text": [
      "Mean Squared Error :  0.05782615019672828\n"
     ]
    }
   ],
   "source": [
    "from sklearn.ensemble import AdaBoostRegressor\n",
    "\n",
    "adb=AdaBoostRegressor()\n",
    "adb.fit(X_train,y_train)\n",
    "\n",
    "y_pred=adb.predict(X_test)\n",
    "print(\"Mean Squared Error : \",mean_squared_error(y_pred,y_test))"
   ]
  },
  {
   "cell_type": "markdown",
   "id": "3f8e9ee8",
   "metadata": {},
   "source": [
    "* Applying LGBM Regressor"
   ]
  },
  {
   "cell_type": "code",
   "execution_count": 113,
   "id": "097b5800",
   "metadata": {
    "scrolled": true
   },
   "outputs": [
    {
     "name": "stdout",
     "output_type": "stream",
     "text": [
      "Requirement already satisfied: lightgbm in c:\\users\\fozail\\anaconda3\\lib\\site-packages (3.3.3)\n",
      "Requirement already satisfied: scipy in c:\\users\\fozail\\anaconda3\\lib\\site-packages (from lightgbm) (1.7.1)\n",
      "Requirement already satisfied: numpy in c:\\users\\fozail\\anaconda3\\lib\\site-packages (from lightgbm) (1.22.4)\n",
      "Requirement already satisfied: wheel in c:\\users\\fozail\\anaconda3\\lib\\site-packages (from lightgbm) (0.37.0)\n",
      "Requirement already satisfied: scikit-learn!=0.22.0 in c:\\users\\fozail\\anaconda3\\lib\\site-packages (from lightgbm) (1.0.2)\n",
      "Requirement already satisfied: threadpoolctl>=2.0.0 in c:\\users\\fozail\\anaconda3\\lib\\site-packages (from scikit-learn!=0.22.0->lightgbm) (2.2.0)\n",
      "Requirement already satisfied: joblib>=0.11 in c:\\users\\fozail\\anaconda3\\lib\\site-packages (from scikit-learn!=0.22.0->lightgbm) (1.1.0)\n",
      "Note: you may need to restart the kernel to use updated packages.\n"
     ]
    },
    {
     "name": "stderr",
     "output_type": "stream",
     "text": [
      "WARNING: Ignoring invalid distribution -tatsmodels (c:\\users\\fozail\\anaconda3\\lib\\site-packages)\n",
      "WARNING: Ignoring invalid distribution -andas (c:\\users\\fozail\\anaconda3\\lib\\site-packages)\n",
      "WARNING: Ignoring invalid distribution -tatsmodels (c:\\users\\fozail\\anaconda3\\lib\\site-packages)\n",
      "WARNING: Ignoring invalid distribution -andas (c:\\users\\fozail\\anaconda3\\lib\\site-packages)\n",
      "WARNING: Ignoring invalid distribution -tatsmodels (c:\\users\\fozail\\anaconda3\\lib\\site-packages)\n",
      "WARNING: Ignoring invalid distribution -andas (c:\\users\\fozail\\anaconda3\\lib\\site-packages)\n",
      "WARNING: Ignoring invalid distribution -tatsmodels (c:\\users\\fozail\\anaconda3\\lib\\site-packages)\n",
      "WARNING: Ignoring invalid distribution -andas (c:\\users\\fozail\\anaconda3\\lib\\site-packages)\n",
      "WARNING: Ignoring invalid distribution -tatsmodels (c:\\users\\fozail\\anaconda3\\lib\\site-packages)\n",
      "WARNING: Ignoring invalid distribution -andas (c:\\users\\fozail\\anaconda3\\lib\\site-packages)\n",
      "WARNING: Ignoring invalid distribution -tatsmodels (c:\\users\\fozail\\anaconda3\\lib\\site-packages)\n",
      "WARNING: Ignoring invalid distribution -andas (c:\\users\\fozail\\anaconda3\\lib\\site-packages)\n"
     ]
    }
   ],
   "source": [
    "pip install lightgbm"
   ]
  },
  {
   "cell_type": "code",
   "execution_count": 114,
   "id": "7246a5d5",
   "metadata": {},
   "outputs": [
    {
     "name": "stdout",
     "output_type": "stream",
     "text": [
      "Mean Squared Error :  0.06384946650767759\n"
     ]
    }
   ],
   "source": [
    "import lightgbm\n",
    "\n",
    "gbm=lightgbm.LGBMRegressor()\n",
    "\n",
    "gbm.fit(X_train,y_train)\n",
    "\n",
    "\n",
    "y_pred=gbm.predict(X_test)\n",
    "print(\"Mean Squared Error : \",mean_squared_error(y_pred,y_test))"
   ]
  },
  {
   "cell_type": "markdown",
   "id": "d8b9637e",
   "metadata": {},
   "source": [
    "* Applying XGBoost Regressor"
   ]
  },
  {
   "cell_type": "code",
   "execution_count": 115,
   "id": "3c1e7360",
   "metadata": {},
   "outputs": [
    {
     "name": "stdout",
     "output_type": "stream",
     "text": [
      "Requirement already satisfied: xgboost in c:\\users\\fozail\\anaconda3\\lib\\site-packages (1.6.0)Note: you may need to restart the kernel to use updated packages.\n",
      "\n",
      "Requirement already satisfied: scipy in c:\\users\\fozail\\anaconda3\\lib\\site-packages (from xgboost) (1.7.1)\n",
      "Requirement already satisfied: numpy in c:\\users\\fozail\\anaconda3\\lib\\site-packages (from xgboost) (1.22.4)\n"
     ]
    },
    {
     "name": "stderr",
     "output_type": "stream",
     "text": [
      "WARNING: Ignoring invalid distribution -tatsmodels (c:\\users\\fozail\\anaconda3\\lib\\site-packages)\n",
      "WARNING: Ignoring invalid distribution -andas (c:\\users\\fozail\\anaconda3\\lib\\site-packages)\n",
      "WARNING: Ignoring invalid distribution -tatsmodels (c:\\users\\fozail\\anaconda3\\lib\\site-packages)\n",
      "WARNING: Ignoring invalid distribution -andas (c:\\users\\fozail\\anaconda3\\lib\\site-packages)\n",
      "WARNING: Ignoring invalid distribution -tatsmodels (c:\\users\\fozail\\anaconda3\\lib\\site-packages)\n",
      "WARNING: Ignoring invalid distribution -andas (c:\\users\\fozail\\anaconda3\\lib\\site-packages)\n",
      "WARNING: Ignoring invalid distribution -tatsmodels (c:\\users\\fozail\\anaconda3\\lib\\site-packages)\n",
      "WARNING: Ignoring invalid distribution -andas (c:\\users\\fozail\\anaconda3\\lib\\site-packages)\n",
      "WARNING: Ignoring invalid distribution -tatsmodels (c:\\users\\fozail\\anaconda3\\lib\\site-packages)\n",
      "WARNING: Ignoring invalid distribution -andas (c:\\users\\fozail\\anaconda3\\lib\\site-packages)\n",
      "WARNING: Ignoring invalid distribution -tatsmodels (c:\\users\\fozail\\anaconda3\\lib\\site-packages)\n",
      "WARNING: Ignoring invalid distribution -andas (c:\\users\\fozail\\anaconda3\\lib\\site-packages)\n"
     ]
    }
   ],
   "source": [
    "pip install xgboost"
   ]
  },
  {
   "cell_type": "code",
   "execution_count": 116,
   "id": "ba86688f",
   "metadata": {},
   "outputs": [
    {
     "name": "stdout",
     "output_type": "stream",
     "text": [
      "Mean Squared Error :  0.0680421510332517\n"
     ]
    }
   ],
   "source": [
    "import xgboost as xgb\n",
    "\n",
    "xgb=xgb.XGBRegressor()\n",
    "xgb.fit(X_train,y_train)\n",
    "\n",
    "y_pred=xgb.predict(X_test)\n",
    "print(\"Mean Squared Error : \",mean_squared_error(y_pred,y_test))"
   ]
  },
  {
   "cell_type": "markdown",
   "id": "c03c2463",
   "metadata": {},
   "source": [
    "#### CONCLUSION :"
   ]
  },
  {
   "cell_type": "markdown",
   "id": "54914356",
   "metadata": {},
   "source": [
    "                                             MEAN_SQUARED_ERROR\n",
    "\n",
    "* RANDOM FOREST REGRESSOR MODEL  : 0.058580517630070564\n",
    "    \n",
    "* DECISION TREE REGRESSOR MODEL  : 0.0977920458625032\n",
    "    \n",
    "* ADABOOST REGRESSOR  MODEL      : 0.05782615019672828\n",
    "    \n",
    "* LGBM MODEL                     : 0.06384946650767759\n",
    "\n",
    "* XGBOOST MODEL                  : 0.0680421510332517\n"
   ]
  },
  {
   "cell_type": "markdown",
   "id": "ffa71f99",
   "metadata": {},
   "source": [
    "##### THE BEST PERFORMING MODEL IS ADABOOST REGRESSOR."
   ]
  },
  {
   "cell_type": "markdown",
   "id": "f1a58d55",
   "metadata": {},
   "source": [
    " ------------------------------------------------------------------------------THANK YOU -----------------------------------------------------------------------------------------------"
   ]
  }
 ],
 "metadata": {
  "kernelspec": {
   "display_name": "Python 3 (ipykernel)",
   "language": "python",
   "name": "python3"
  },
  "language_info": {
   "codemirror_mode": {
    "name": "ipython",
    "version": 3
   },
   "file_extension": ".py",
   "mimetype": "text/x-python",
   "name": "python",
   "nbconvert_exporter": "python",
   "pygments_lexer": "ipython3",
   "version": "3.9.7"
  }
 },
 "nbformat": 4,
 "nbformat_minor": 5
}
